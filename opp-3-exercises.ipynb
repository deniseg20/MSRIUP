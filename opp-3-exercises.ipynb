{
  "cells": [
    {
      "cell_type": "markdown",
      "metadata": {
        "id": "cWhMFz1z_oDP"
      },
      "source": [
        "# 🚘 Analyzing SF traffic stops with `R`: Part 3"
      ]
    },
    {
      "cell_type": "markdown",
      "metadata": {
        "id": "6kLyysG0_oDR"
      },
      "source": [
        "<img src=\"https://github.com/joshuagrossman/dsb-win-2023/blob/main/opp-munging-plotting/img/sf-traffic-3.jpg?raw=1\" alt=\"traffic\" width=\"400\" align=\"left\"/>"
      ]
    },
    {
      "cell_type": "markdown",
      "metadata": {
        "id": "b5fpGMIJ_oDS"
      },
      "source": [
        "This is Part 3. Other parts can be found [here](https://www.jdgrossman.com).\n",
        "\n",
        "## Introduction\n",
        "\n",
        "In this series of tutorials, we'll use `R` to explore traffic stops in San Francisco (SF). In particular, we'll investigate whether there is evidence of racial discrimination in SF's policing practices.\n",
        "\n",
        "> **Important note**: Policing can be a sensitive subject. It's important to remember that each row in our data represents a real interaction between a police officer and driver. Please keep this in mind as you work through the tutorial, and be sure to engage with the material to the extent you're comfortable.\n",
        "\n",
        "By the end of the tutorials, you'll have foundational understanding of the following:\n",
        "1. 📊 How to use `R` to explore tabular data and calculate descriptive statistics.\n",
        "2. 📈 How to make an informative plot with `R`\n",
        "2. ⚖️ How to approach questions about social policy with data.\n",
        "\n",
        "Let's get started!"
      ]
    },
    {
      "cell_type": "markdown",
      "metadata": {
        "id": "0FiOAX6__oDS"
      },
      "source": [
        "## ✅ Set up\n",
        "\n",
        "While the core `R` language contains many useful functions (e.g., `sum` and `sample`), there is vast functionality built on top of `R` by community members.\n",
        "\n",
        "Make sure to run the cell below. It imports additional useful functions, adjusts `R` settings, and loads in data."
      ]
    },
    {
      "cell_type": "code",
      "execution_count": 1,
      "metadata": {
        "id": "Q6vNShYc_oDS",
        "outputId": "5575ee55-1425-407a-adac-26948d107b35",
        "colab": {
          "base_uri": "https://localhost:8080/"
        }
      },
      "outputs": [
        {
          "output_type": "stream",
          "name": "stderr",
          "text": [
            "── \u001b[1mAttaching core tidyverse packages\u001b[22m ──────────────────────── tidyverse 2.0.0 ──\n",
            "\u001b[32m✔\u001b[39m \u001b[34mdplyr    \u001b[39m 1.1.4     \u001b[32m✔\u001b[39m \u001b[34mreadr    \u001b[39m 2.1.5\n",
            "\u001b[32m✔\u001b[39m \u001b[34mforcats  \u001b[39m 1.0.0     \u001b[32m✔\u001b[39m \u001b[34mstringr  \u001b[39m 1.5.1\n",
            "\u001b[32m✔\u001b[39m \u001b[34mggplot2  \u001b[39m 3.5.2     \u001b[32m✔\u001b[39m \u001b[34mtibble   \u001b[39m 3.3.0\n",
            "\u001b[32m✔\u001b[39m \u001b[34mlubridate\u001b[39m 1.9.4     \u001b[32m✔\u001b[39m \u001b[34mtidyr    \u001b[39m 1.3.1\n",
            "\u001b[32m✔\u001b[39m \u001b[34mpurrr    \u001b[39m 1.0.4     \n",
            "── \u001b[1mConflicts\u001b[22m ────────────────────────────────────────── tidyverse_conflicts() ──\n",
            "\u001b[31m✖\u001b[39m \u001b[34mdplyr\u001b[39m::\u001b[32mfilter()\u001b[39m masks \u001b[34mstats\u001b[39m::filter()\n",
            "\u001b[31m✖\u001b[39m \u001b[34mdplyr\u001b[39m::\u001b[32mlag()\u001b[39m    masks \u001b[34mstats\u001b[39m::lag()\n",
            "\u001b[36mℹ\u001b[39m Use the conflicted package (\u001b[3m\u001b[34m<http://conflicted.r-lib.org/>\u001b[39m\u001b[23m) to force all conflicts to become errors\n"
          ]
        }
      ],
      "source": [
        "# Load in additional functions\n",
        "library(tidyverse)\n",
        "library(lubridate)\n",
        "\n",
        "# Use three digits past the decimal point\n",
        "options(digits = 3)\n",
        "\n",
        "# This makes our plots look nice!\n",
        "theme_set(theme_bw())\n",
        "\n",
        "# This is where the data is stored.\n",
        "STOPS_PATH = \"https://github.com/joshuagrossman/dsb-win-2023/raw/main/opp-munging-plotting/data/sf_stop_data.rds\"\n",
        "POP_PATH = \"https://github.com/joshuagrossman/dsb-win-2023/raw/main/opp-munging-plotting/data/sf_pop_2015.rds\"\n",
        "\n",
        "# Read in the data\n",
        "stops <- read_rds(STOPS_PATH)\n",
        "pop_2015 <- read_rds(POP_PATH)\n",
        "\n",
        "# Data modifications from Part 1 and\n",
        "# additional modification for learning purposes.\n",
        "stops_w_yr = stops %>%\n",
        "  mutate(\n",
        "    yr = year(date)\n",
        "  )\n",
        "\n",
        "pop_2015 = pop_2015 %>%\n",
        "  mutate(prop_residents = n_people/sum(n_people))"
      ]
    },
    {
      "cell_type": "markdown",
      "metadata": {
        "tags": [],
        "id": "BOsegz7__oDT"
      },
      "source": [
        "## 📝 Interpreting racial disparities\n",
        "\n",
        "In Part 1, we counted the number of stops among drivers each race and ethnicity group for the year 2015."
      ]
    },
    {
      "cell_type": "code",
      "execution_count": 2,
      "metadata": {
        "id": "veAbz2fK_oDU",
        "outputId": "7869b7a9-05a9-4ff4-b7bd-a5f5ac36a77c",
        "colab": {
          "base_uri": "https://localhost:8080/",
          "height": 254
        }
      },
      "outputs": [
        {
          "output_type": "display_data",
          "data": {
            "text/html": [
              "<table class=\"dataframe\">\n",
              "<caption>A tibble: 5 × 2</caption>\n",
              "<thead>\n",
              "\t<tr><th scope=col>race</th><th scope=col>n</th></tr>\n",
              "\t<tr><th scope=col>&lt;chr&gt;</th><th scope=col>&lt;int&gt;</th></tr>\n",
              "</thead>\n",
              "<tbody>\n",
              "\t<tr><td>asian/pacific islander</td><td>15498</td></tr>\n",
              "\t<tr><td>black                 </td><td>14955</td></tr>\n",
              "\t<tr><td>hispanic              </td><td>11911</td></tr>\n",
              "\t<tr><td>other                 </td><td>13560</td></tr>\n",
              "\t<tr><td>white                 </td><td>29765</td></tr>\n",
              "</tbody>\n",
              "</table>\n"
            ],
            "text/markdown": "\nA tibble: 5 × 2\n\n| race &lt;chr&gt; | n &lt;int&gt; |\n|---|---|\n| asian/pacific islander | 15498 |\n| black                  | 14955 |\n| hispanic               | 11911 |\n| other                  | 13560 |\n| white                  | 29765 |\n\n",
            "text/latex": "A tibble: 5 × 2\n\\begin{tabular}{ll}\n race & n\\\\\n <chr> & <int>\\\\\n\\hline\n\t asian/pacific islander & 15498\\\\\n\t black                  & 14955\\\\\n\t hispanic               & 11911\\\\\n\t other                  & 13560\\\\\n\t white                  & 29765\\\\\n\\end{tabular}\n",
            "text/plain": [
              "  race                   n    \n",
              "1 asian/pacific islander 15498\n",
              "2 black                  14955\n",
              "3 hispanic               11911\n",
              "4 other                  13560\n",
              "5 white                  29765"
            ]
          },
          "metadata": {}
        }
      ],
      "source": [
        "stops_2015 = stops_w_yr %>%\n",
        "  filter(yr==2015)\n",
        "\n",
        "# Note that this code is the same as count(stops_2015, race)\n",
        "stops_2015 %>%\n",
        "  group_by(race) %>%\n",
        "  summarize(n = n()) %>%\n",
        "  ungroup()"
      ]
    },
    {
      "cell_type": "code",
      "source": [
        "head(stops_2015)"
      ],
      "metadata": {
        "id": "KruztM2XEN9c",
        "outputId": "1814712e-71a7-48c6-d788-dab1609581c3",
        "colab": {
          "base_uri": "https://localhost:8080/",
          "height": 286
        }
      },
      "execution_count": 13,
      "outputs": [
        {
          "output_type": "display_data",
          "data": {
            "text/html": [
              "<table class=\"dataframe\">\n",
              "<caption>A tibble: 6 × 14</caption>\n",
              "<thead>\n",
              "\t<tr><th scope=col>date</th><th scope=col>time</th><th scope=col>location</th><th scope=col>lat</th><th scope=col>lng</th><th scope=col>district</th><th scope=col>age</th><th scope=col>race</th><th scope=col>gender</th><th scope=col>arrested</th><th scope=col>contraband_found</th><th scope=col>searched</th><th scope=col>reason_for_stop</th><th scope=col>yr</th></tr>\n",
              "\t<tr><th scope=col>&lt;date&gt;</th><th scope=col>&lt;time&gt;</th><th scope=col>&lt;chr&gt;</th><th scope=col>&lt;dbl&gt;</th><th scope=col>&lt;dbl&gt;</th><th scope=col>&lt;chr&gt;</th><th scope=col>&lt;int&gt;</th><th scope=col>&lt;chr&gt;</th><th scope=col>&lt;fct&gt;</th><th scope=col>&lt;lgl&gt;</th><th scope=col>&lt;lgl&gt;</th><th scope=col>&lt;lgl&gt;</th><th scope=col>&lt;chr&gt;</th><th scope=col>&lt;dbl&gt;</th></tr>\n",
              "</thead>\n",
              "<tbody>\n",
              "\t<tr><td>2015-01-01</td><td>01:00:00</td><td>3RD ST. &amp; MCKNINNON AVE. </td><td>37.7</td><td>-122</td><td>C</td><td>23</td><td><span style=white-space:pre-wrap>black   </span></td><td><span style=white-space:pre-wrap>male  </span></td><td>FALSE</td><td>NA</td><td>FALSE</td><td>Moving violation</td><td>2015</td></tr>\n",
              "\t<tr><td>2015-01-01</td><td>01:00:00</td><td>MISSION/EUGENIA          </td><td>37.7</td><td>-122</td><td>H</td><td>30</td><td>hispanic</td><td>female</td><td>FALSE</td><td>NA</td><td>FALSE</td><td>Moving violation</td><td>2015</td></tr>\n",
              "\t<tr><td>2015-01-01</td><td>01:00:00</td><td>MISSION ST &amp; VFALENCIA ST</td><td>37.7</td><td>-122</td><td>H</td><td>35</td><td><span style=white-space:pre-wrap>white   </span></td><td><span style=white-space:pre-wrap>male  </span></td><td>FALSE</td><td>NA</td><td>FALSE</td><td>Moving violation</td><td>2015</td></tr>\n",
              "\t<tr><td>2015-01-01</td><td>01:00:00</td><td>EDDY / GOUGH             </td><td>37.8</td><td>-122</td><td>E</td><td>44</td><td>white   </td><td>male  </td><td>FALSE</td><td>NA</td><td>FALSE</td><td>Moving violation</td><td>2015</td></tr>\n",
              "\t<tr><td>2015-01-01</td><td>01:00:00</td><td>24TH/TARAVAL             </td><td>37.7</td><td>-122</td><td>I</td><td>60</td><td>white   </td><td>male  </td><td>FALSE</td><td>NA</td><td>FALSE</td><td>MPC violation   </td><td>2015</td></tr>\n",
              "\t<tr><td>2015-01-01</td><td>10:46:00</td><td>307 CORTLAND AVE.        </td><td>37.7</td><td>-122</td><td>H</td><td>45</td><td>white   </td><td>female</td><td>FALSE</td><td>NA</td><td>FALSE</td><td>Moving violation</td><td>2015</td></tr>\n",
              "</tbody>\n",
              "</table>\n"
            ],
            "text/markdown": "\nA tibble: 6 × 14\n\n| date &lt;date&gt; | time &lt;time&gt; | location &lt;chr&gt; | lat &lt;dbl&gt; | lng &lt;dbl&gt; | district &lt;chr&gt; | age &lt;int&gt; | race &lt;chr&gt; | gender &lt;fct&gt; | arrested &lt;lgl&gt; | contraband_found &lt;lgl&gt; | searched &lt;lgl&gt; | reason_for_stop &lt;chr&gt; | yr &lt;dbl&gt; |\n|---|---|---|---|---|---|---|---|---|---|---|---|---|---|\n| 2015-01-01 | 01:00:00 | 3RD ST. &amp; MCKNINNON AVE.  | 37.7 | -122 | C | 23 | black    | male   | FALSE | NA | FALSE | Moving violation | 2015 |\n| 2015-01-01 | 01:00:00 | MISSION/EUGENIA           | 37.7 | -122 | H | 30 | hispanic | female | FALSE | NA | FALSE | Moving violation | 2015 |\n| 2015-01-01 | 01:00:00 | MISSION ST &amp; VFALENCIA ST | 37.7 | -122 | H | 35 | white    | male   | FALSE | NA | FALSE | Moving violation | 2015 |\n| 2015-01-01 | 01:00:00 | EDDY / GOUGH              | 37.8 | -122 | E | 44 | white    | male   | FALSE | NA | FALSE | Moving violation | 2015 |\n| 2015-01-01 | 01:00:00 | 24TH/TARAVAL              | 37.7 | -122 | I | 60 | white    | male   | FALSE | NA | FALSE | MPC violation    | 2015 |\n| 2015-01-01 | 10:46:00 | 307 CORTLAND AVE.         | 37.7 | -122 | H | 45 | white    | female | FALSE | NA | FALSE | Moving violation | 2015 |\n\n",
            "text/latex": "A tibble: 6 × 14\n\\begin{tabular}{llllllllllllll}\n date & time & location & lat & lng & district & age & race & gender & arrested & contraband\\_found & searched & reason\\_for\\_stop & yr\\\\\n <date> & <time> & <chr> & <dbl> & <dbl> & <chr> & <int> & <chr> & <fct> & <lgl> & <lgl> & <lgl> & <chr> & <dbl>\\\\\n\\hline\n\t 2015-01-01 & 01:00:00 & 3RD ST. \\& MCKNINNON AVE.  & 37.7 & -122 & C & 23 & black    & male   & FALSE & NA & FALSE & Moving violation & 2015\\\\\n\t 2015-01-01 & 01:00:00 & MISSION/EUGENIA           & 37.7 & -122 & H & 30 & hispanic & female & FALSE & NA & FALSE & Moving violation & 2015\\\\\n\t 2015-01-01 & 01:00:00 & MISSION ST \\& VFALENCIA ST & 37.7 & -122 & H & 35 & white    & male   & FALSE & NA & FALSE & Moving violation & 2015\\\\\n\t 2015-01-01 & 01:00:00 & EDDY / GOUGH              & 37.8 & -122 & E & 44 & white    & male   & FALSE & NA & FALSE & Moving violation & 2015\\\\\n\t 2015-01-01 & 01:00:00 & 24TH/TARAVAL              & 37.7 & -122 & I & 60 & white    & male   & FALSE & NA & FALSE & MPC violation    & 2015\\\\\n\t 2015-01-01 & 10:46:00 & 307 CORTLAND AVE.         & 37.7 & -122 & H & 45 & white    & female & FALSE & NA & FALSE & Moving violation & 2015\\\\\n\\end{tabular}\n",
            "text/plain": [
              "  date       time     location                  lat  lng  district age race    \n",
              "1 2015-01-01 01:00:00 3RD ST. & MCKNINNON AVE.  37.7 -122 C        23  black   \n",
              "2 2015-01-01 01:00:00 MISSION/EUGENIA           37.7 -122 H        30  hispanic\n",
              "3 2015-01-01 01:00:00 MISSION ST & VFALENCIA ST 37.7 -122 H        35  white   \n",
              "4 2015-01-01 01:00:00 EDDY / GOUGH              37.8 -122 E        44  white   \n",
              "5 2015-01-01 01:00:00 24TH/TARAVAL              37.7 -122 I        60  white   \n",
              "6 2015-01-01 10:46:00 307 CORTLAND AVE.         37.7 -122 H        45  white   \n",
              "  gender arrested contraband_found searched reason_for_stop  yr  \n",
              "1 male   FALSE    NA               FALSE    Moving violation 2015\n",
              "2 female FALSE    NA               FALSE    Moving violation 2015\n",
              "3 male   FALSE    NA               FALSE    Moving violation 2015\n",
              "4 male   FALSE    NA               FALSE    Moving violation 2015\n",
              "5 male   FALSE    NA               FALSE    MPC violation    2015\n",
              "6 female FALSE    NA               FALSE    Moving violation 2015"
            ]
          },
          "metadata": {}
        }
      ]
    },
    {
      "cell_type": "markdown",
      "metadata": {
        "id": "9eI9iyQS_oDU"
      },
      "source": [
        "For ease of interpretation, we can add a column with the proportion of all stops that occurred among drivers of each race group:"
      ]
    },
    {
      "cell_type": "code",
      "execution_count": 3,
      "metadata": {
        "id": "ptjjBXjc_oDU",
        "outputId": "920f6edd-38d9-416f-9ce7-35a8ba42e5d9",
        "colab": {
          "base_uri": "https://localhost:8080/",
          "height": 254
        }
      },
      "outputs": [
        {
          "output_type": "display_data",
          "data": {
            "text/html": [
              "<table class=\"dataframe\">\n",
              "<caption>A tibble: 5 × 3</caption>\n",
              "<thead>\n",
              "\t<tr><th scope=col>race</th><th scope=col>n</th><th scope=col>prop_stops</th></tr>\n",
              "\t<tr><th scope=col>&lt;chr&gt;</th><th scope=col>&lt;int&gt;</th><th scope=col>&lt;dbl&gt;</th></tr>\n",
              "</thead>\n",
              "<tbody>\n",
              "\t<tr><td>asian/pacific islander</td><td>15498</td><td>0.181</td></tr>\n",
              "\t<tr><td>black                 </td><td>14955</td><td>0.175</td></tr>\n",
              "\t<tr><td>hispanic              </td><td>11911</td><td>0.139</td></tr>\n",
              "\t<tr><td>other                 </td><td>13560</td><td>0.158</td></tr>\n",
              "\t<tr><td>white                 </td><td>29765</td><td>0.347</td></tr>\n",
              "</tbody>\n",
              "</table>\n"
            ],
            "text/markdown": "\nA tibble: 5 × 3\n\n| race &lt;chr&gt; | n &lt;int&gt; | prop_stops &lt;dbl&gt; |\n|---|---|---|\n| asian/pacific islander | 15498 | 0.181 |\n| black                  | 14955 | 0.175 |\n| hispanic               | 11911 | 0.139 |\n| other                  | 13560 | 0.158 |\n| white                  | 29765 | 0.347 |\n\n",
            "text/latex": "A tibble: 5 × 3\n\\begin{tabular}{lll}\n race & n & prop\\_stops\\\\\n <chr> & <int> & <dbl>\\\\\n\\hline\n\t asian/pacific islander & 15498 & 0.181\\\\\n\t black                  & 14955 & 0.175\\\\\n\t hispanic               & 11911 & 0.139\\\\\n\t other                  & 13560 & 0.158\\\\\n\t white                  & 29765 & 0.347\\\\\n\\end{tabular}\n",
            "text/plain": [
              "  race                   n     prop_stops\n",
              "1 asian/pacific islander 15498 0.181     \n",
              "2 black                  14955 0.175     \n",
              "3 hispanic               11911 0.139     \n",
              "4 other                  13560 0.158     \n",
              "5 white                  29765 0.347     "
            ]
          },
          "metadata": {}
        }
      ],
      "source": [
        "stop_counts = stops_2015 %>%\n",
        "\n",
        "  # generate the counts by race, same as above\n",
        "  group_by(race) %>%\n",
        "  summarize(\n",
        "    n = n()\n",
        "  ) %>%\n",
        "  ungroup() %>%\n",
        "\n",
        "  # add proportion column\n",
        "  mutate(\n",
        "    prop_stops = n/sum(n)\n",
        "  )\n",
        "\n",
        "stop_counts"
      ]
    },
    {
      "cell_type": "markdown",
      "metadata": {
        "id": "fvhNrbO5_oDU"
      },
      "source": [
        "### 💬 Discussion\n",
        "\n",
        "What can we conclude from the table above?\n",
        "\n",
        "What are the limitations of this table?\n",
        "\n",
        "Is there information that could make this table more informative?"
      ]
    },
    {
      "cell_type": "markdown",
      "metadata": {
        "id": "vNoxpkgg_oDU"
      },
      "source": [
        "### 👉 Double click  here  to write your thoughts. 👈\n",
        "\\"
      ]
    },
    {
      "cell_type": "markdown",
      "metadata": {
        "tags": [],
        "id": "2j8fZmF0_oDU"
      },
      "source": [
        "## 📝 Incorporating additional data\n",
        "\n",
        "With the data above, we can claim that most stops in San Francisco in 2015 occurred among white drivers, followed by Asian/Pacific Islander drivers, Black drivers, drivers of an unlisted race/ethnicity, and Hispanic drivers.\n",
        "\n",
        "However, without knowing the demographics of drivers in San Francisco, we can't say anything about racial disparities in stop rates.\n",
        "\n",
        "> For example, if 20% of drivers in San Francisco were white, and 35% of stops were among white drivers, we might claim that white drivers were stopped more frequently than expected.\n",
        "\n",
        "Fortunately, the demographics of San Francisco residents in 2015 are provided in the `pop_2015` data:"
      ]
    },
    {
      "cell_type": "code",
      "execution_count": 4,
      "metadata": {
        "id": "DisE7Ccg_oDV",
        "outputId": "f1262ae0-332f-458a-99d3-85563c7608c7",
        "colab": {
          "base_uri": "https://localhost:8080/",
          "height": 254
        }
      },
      "outputs": [
        {
          "output_type": "display_data",
          "data": {
            "text/html": [
              "<table class=\"dataframe\">\n",
              "<caption>A tibble: 5 × 3</caption>\n",
              "<thead>\n",
              "\t<tr><th scope=col>race</th><th scope=col>n_people</th><th scope=col>prop_residents</th></tr>\n",
              "\t<tr><th scope=col>&lt;chr&gt;</th><th scope=col>&lt;dbl&gt;</th><th scope=col>&lt;dbl&gt;</th></tr>\n",
              "</thead>\n",
              "<tbody>\n",
              "\t<tr><td>white                 </td><td>346732</td><td>0.4124</td></tr>\n",
              "\t<tr><td>black                 </td><td> 44879</td><td>0.0534</td></tr>\n",
              "\t<tr><td>hispanic              </td><td>128619</td><td>0.1530</td></tr>\n",
              "\t<tr><td>asian/pacific islander</td><td>285266</td><td>0.3393</td></tr>\n",
              "\t<tr><td>other                 </td><td> 35267</td><td>0.0419</td></tr>\n",
              "</tbody>\n",
              "</table>\n"
            ],
            "text/markdown": "\nA tibble: 5 × 3\n\n| race &lt;chr&gt; | n_people &lt;dbl&gt; | prop_residents &lt;dbl&gt; |\n|---|---|---|\n| white                  | 346732 | 0.4124 |\n| black                  |  44879 | 0.0534 |\n| hispanic               | 128619 | 0.1530 |\n| asian/pacific islander | 285266 | 0.3393 |\n| other                  |  35267 | 0.0419 |\n\n",
            "text/latex": "A tibble: 5 × 3\n\\begin{tabular}{lll}\n race & n\\_people & prop\\_residents\\\\\n <chr> & <dbl> & <dbl>\\\\\n\\hline\n\t white                  & 346732 & 0.4124\\\\\n\t black                  &  44879 & 0.0534\\\\\n\t hispanic               & 128619 & 0.1530\\\\\n\t asian/pacific islander & 285266 & 0.3393\\\\\n\t other                  &  35267 & 0.0419\\\\\n\\end{tabular}\n",
            "text/plain": [
              "  race                   n_people prop_residents\n",
              "1 white                  346732   0.4124        \n",
              "2 black                   44879   0.0534        \n",
              "3 hispanic               128619   0.1530        \n",
              "4 asian/pacific islander 285266   0.3393        \n",
              "5 other                   35267   0.0419        "
            ]
          },
          "metadata": {}
        }
      ],
      "source": [
        "pop_2015"
      ]
    },
    {
      "cell_type": "markdown",
      "metadata": {
        "id": "EkiTVVP2_oDV"
      },
      "source": [
        "With the table above, we have more context!\n",
        "\n",
        "For example, while 5% of San Francisco identifies as Black, nearly 21% of stops occurred among Black drivers."
      ]
    },
    {
      "cell_type": "markdown",
      "metadata": {
        "id": "bHMNz2iO_oDV"
      },
      "source": [
        "### 💬 Discussion\n",
        "\n",
        "Using only the data above, can we claim that Black drivers in SF were stopped on the basis of less evidence than drivers of other race groups? Do your conclusions depend on any assumptions?"
      ]
    },
    {
      "cell_type": "markdown",
      "metadata": {
        "id": "jbNvhDXc_oDV"
      },
      "source": [
        "### 👉 Double click here to write your thoughts. 👈\n",
        "\\"
      ]
    },
    {
      "cell_type": "markdown",
      "metadata": {
        "tags": [],
        "id": "6jx1rmz2_oDV"
      },
      "source": [
        "## 📝 Merging data\n",
        "\n",
        "Suppose we are interested in the ratio of the stop rate for each race/ethnicity group and the fraction of residents from each race/ethnicity group.\n",
        "\n",
        "We could do this by hand, but it's a little tedious. We can copy directly from the tables we generated above."
      ]
    },
    {
      "cell_type": "code",
      "execution_count": 5,
      "metadata": {
        "id": "jBjf5DLE_oDV",
        "outputId": "89059f67-02da-4c5e-f4e5-5935b3ce4d60",
        "colab": {
          "base_uri": "https://localhost:8080/",
          "height": 194
        }
      },
      "outputs": [
        {
          "output_type": "stream",
          "name": "stdout",
          "text": [
            "[1] \"Asian/Pacific Islander drivers: stop rate / pop. rate:\"\n"
          ]
        },
        {
          "output_type": "display_data",
          "data": {
            "text/html": [
              "0.533451223106395"
            ],
            "text/markdown": "0.533451223106395",
            "text/latex": "0.533451223106395",
            "text/plain": [
              "[1] 0.533"
            ]
          },
          "metadata": {}
        },
        {
          "output_type": "stream",
          "name": "stdout",
          "text": [
            "[1] \"Black drivers: stop rate / pop. rate:\"\n"
          ]
        },
        {
          "output_type": "display_data",
          "data": {
            "text/html": [
              "3.27715355805243"
            ],
            "text/markdown": "3.27715355805243",
            "text/latex": "3.27715355805243",
            "text/plain": [
              "[1] 3.28"
            ]
          },
          "metadata": {}
        },
        {
          "output_type": "stream",
          "name": "stdout",
          "text": [
            "[1] \"Hispanic drivers: stop rate / pop. rate:\"\n"
          ]
        },
        {
          "output_type": "display_data",
          "data": {
            "text/html": [
              "0.908496732026144"
            ],
            "text/markdown": "0.908496732026144",
            "text/latex": "0.908496732026144",
            "text/plain": [
              "[1] 0.908"
            ]
          },
          "metadata": {}
        },
        {
          "output_type": "stream",
          "name": "stdout",
          "text": [
            "[1] \"White drivers: stop rate / pop. rate:\"\n"
          ]
        },
        {
          "output_type": "display_data",
          "data": {
            "text/html": [
              "0.841416100872939"
            ],
            "text/markdown": "0.841416100872939",
            "text/latex": "0.841416100872939",
            "text/plain": [
              "[1] 0.841"
            ]
          },
          "metadata": {}
        },
        {
          "output_type": "stream",
          "name": "stdout",
          "text": [
            "[1] \"Drivers of other race/ethnicity: stop rate / pop.rate:\"\n"
          ]
        },
        {
          "output_type": "display_data",
          "data": {
            "text/html": [
              "3.7708830548926"
            ],
            "text/markdown": "3.7708830548926",
            "text/latex": "3.7708830548926",
            "text/plain": [
              "[1] 3.77"
            ]
          },
          "metadata": {}
        }
      ],
      "source": [
        "print('Asian/Pacific Islander drivers: stop rate / pop. rate:')\n",
        "0.181/0.3393\n",
        "\n",
        "print('Black drivers: stop rate / pop. rate:')\n",
        "0.175/0.0534\n",
        "\n",
        "print('Hispanic drivers: stop rate / pop. rate:')\n",
        "0.139/0.1530\n",
        "\n",
        "print('White drivers: stop rate / pop. rate:')\n",
        "0.347/0.4124\n",
        "\n",
        "print('Drivers of other race/ethnicity: stop rate / pop.rate:')\n",
        "0.158/0.0419"
      ]
    },
    {
      "cell_type": "markdown",
      "metadata": {
        "id": "ZvqnyPvO_oDV"
      },
      "source": [
        "From the stats above, we can see that Black drivers were stopped about 3.3 times more often than we might expect from the ratio of the SF population that identifies as Black.\n",
        "\n",
        "It would be a lot faster to calculate these stats if we had the stop rates and pop. rates in one table!"
      ]
    },
    {
      "cell_type": "markdown",
      "metadata": {
        "id": "8GP4AegV_oDV"
      },
      "source": [
        "### 🧑‍🤝‍🧑 Joining data with shared columns"
      ]
    },
    {
      "cell_type": "markdown",
      "metadata": {
        "id": "ACHbQSN7_oDV"
      },
      "source": [
        "Imagine writing our two tables side by side. Here's a (very bad!!) way to do it:"
      ]
    },
    {
      "cell_type": "code",
      "execution_count": 6,
      "metadata": {
        "id": "9FmGmSbR_oDV",
        "outputId": "0c94c6a0-6db0-4edd-efa7-90cd6481ad85",
        "colab": {
          "base_uri": "https://localhost:8080/",
          "height": 308
        }
      },
      "outputs": [
        {
          "output_type": "stream",
          "name": "stderr",
          "text": [
            "\u001b[1m\u001b[22mNew names:\n",
            "\u001b[36m•\u001b[39m `race` -> `race...1`\n",
            "\u001b[36m•\u001b[39m `race` -> `race...4`\n"
          ]
        },
        {
          "output_type": "display_data",
          "data": {
            "text/html": [
              "<table class=\"dataframe\">\n",
              "<caption>A tibble: 5 × 6</caption>\n",
              "<thead>\n",
              "\t<tr><th scope=col>race...1</th><th scope=col>n</th><th scope=col>prop_stops</th><th scope=col>race...4</th><th scope=col>n_people</th><th scope=col>prop_residents</th></tr>\n",
              "\t<tr><th scope=col>&lt;chr&gt;</th><th scope=col>&lt;int&gt;</th><th scope=col>&lt;dbl&gt;</th><th scope=col>&lt;chr&gt;</th><th scope=col>&lt;dbl&gt;</th><th scope=col>&lt;dbl&gt;</th></tr>\n",
              "</thead>\n",
              "<tbody>\n",
              "\t<tr><td>asian/pacific islander</td><td>15498</td><td>0.181</td><td>white                 </td><td>346732</td><td>0.4124</td></tr>\n",
              "\t<tr><td>black                 </td><td>14955</td><td>0.175</td><td>black                 </td><td> 44879</td><td>0.0534</td></tr>\n",
              "\t<tr><td>hispanic              </td><td>11911</td><td>0.139</td><td>hispanic              </td><td>128619</td><td>0.1530</td></tr>\n",
              "\t<tr><td>other                 </td><td>13560</td><td>0.158</td><td>asian/pacific islander</td><td>285266</td><td>0.3393</td></tr>\n",
              "\t<tr><td>white                 </td><td>29765</td><td>0.347</td><td>other                 </td><td> 35267</td><td>0.0419</td></tr>\n",
              "</tbody>\n",
              "</table>\n"
            ],
            "text/markdown": "\nA tibble: 5 × 6\n\n| race...1 &lt;chr&gt; | n &lt;int&gt; | prop_stops &lt;dbl&gt; | race...4 &lt;chr&gt; | n_people &lt;dbl&gt; | prop_residents &lt;dbl&gt; |\n|---|---|---|---|---|---|\n| asian/pacific islander | 15498 | 0.181 | white                  | 346732 | 0.4124 |\n| black                  | 14955 | 0.175 | black                  |  44879 | 0.0534 |\n| hispanic               | 11911 | 0.139 | hispanic               | 128619 | 0.1530 |\n| other                  | 13560 | 0.158 | asian/pacific islander | 285266 | 0.3393 |\n| white                  | 29765 | 0.347 | other                  |  35267 | 0.0419 |\n\n",
            "text/latex": "A tibble: 5 × 6\n\\begin{tabular}{llllll}\n race...1 & n & prop\\_stops & race...4 & n\\_people & prop\\_residents\\\\\n <chr> & <int> & <dbl> & <chr> & <dbl> & <dbl>\\\\\n\\hline\n\t asian/pacific islander & 15498 & 0.181 & white                  & 346732 & 0.4124\\\\\n\t black                  & 14955 & 0.175 & black                  &  44879 & 0.0534\\\\\n\t hispanic               & 11911 & 0.139 & hispanic               & 128619 & 0.1530\\\\\n\t other                  & 13560 & 0.158 & asian/pacific islander & 285266 & 0.3393\\\\\n\t white                  & 29765 & 0.347 & other                  &  35267 & 0.0419\\\\\n\\end{tabular}\n",
            "text/plain": [
              "  race...1               n     prop_stops race...4               n_people\n",
              "1 asian/pacific islander 15498 0.181      white                  346732  \n",
              "2 black                  14955 0.175      black                   44879  \n",
              "3 hispanic               11911 0.139      hispanic               128619  \n",
              "4 other                  13560 0.158      asian/pacific islander 285266  \n",
              "5 white                  29765 0.347      other                   35267  \n",
              "  prop_residents\n",
              "1 0.4124        \n",
              "2 0.0534        \n",
              "3 0.1530        \n",
              "4 0.3393        \n",
              "5 0.0419        "
            ]
          },
          "metadata": {}
        }
      ],
      "source": [
        "# Reminder: this is generally NOT a good thing to do to merge data.\n",
        "# We're doing this just for the visual!\n",
        "bind_cols(stop_counts, pop_2015)"
      ]
    },
    {
      "cell_type": "markdown",
      "metadata": {
        "id": "SSdmg7eN_oDV"
      },
      "source": [
        "☝️ There's a big problem with the table above: the race columns are not aligned!\n",
        "\n",
        "> For example, Asian/Pacific Islander driver stop rates are next to white driver pop. rates. This is not good!\n",
        "\n",
        "Better idea: what if we could combine each row of our tables by making sure the value in the race column is the same in each row?\n",
        "\n",
        "Here's how to do it."
      ]
    },
    {
      "cell_type": "code",
      "execution_count": 7,
      "metadata": {
        "id": "EC1IOA4T_oDV",
        "outputId": "42cf3214-2f57-484f-cd28-1d36d5449bef",
        "colab": {
          "base_uri": "https://localhost:8080/",
          "height": 254
        }
      },
      "outputs": [
        {
          "output_type": "display_data",
          "data": {
            "text/html": [
              "<table class=\"dataframe\">\n",
              "<caption>A tibble: 5 × 5</caption>\n",
              "<thead>\n",
              "\t<tr><th scope=col>race</th><th scope=col>n</th><th scope=col>prop_stops</th><th scope=col>n_people</th><th scope=col>prop_residents</th></tr>\n",
              "\t<tr><th scope=col>&lt;chr&gt;</th><th scope=col>&lt;int&gt;</th><th scope=col>&lt;dbl&gt;</th><th scope=col>&lt;dbl&gt;</th><th scope=col>&lt;dbl&gt;</th></tr>\n",
              "</thead>\n",
              "<tbody>\n",
              "\t<tr><td>asian/pacific islander</td><td>15498</td><td>0.181</td><td>285266</td><td>0.3393</td></tr>\n",
              "\t<tr><td>black                 </td><td>14955</td><td>0.175</td><td> 44879</td><td>0.0534</td></tr>\n",
              "\t<tr><td>hispanic              </td><td>11911</td><td>0.139</td><td>128619</td><td>0.1530</td></tr>\n",
              "\t<tr><td>other                 </td><td>13560</td><td>0.158</td><td> 35267</td><td>0.0419</td></tr>\n",
              "\t<tr><td>white                 </td><td>29765</td><td>0.347</td><td>346732</td><td>0.4124</td></tr>\n",
              "</tbody>\n",
              "</table>\n"
            ],
            "text/markdown": "\nA tibble: 5 × 5\n\n| race &lt;chr&gt; | n &lt;int&gt; | prop_stops &lt;dbl&gt; | n_people &lt;dbl&gt; | prop_residents &lt;dbl&gt; |\n|---|---|---|---|---|\n| asian/pacific islander | 15498 | 0.181 | 285266 | 0.3393 |\n| black                  | 14955 | 0.175 |  44879 | 0.0534 |\n| hispanic               | 11911 | 0.139 | 128619 | 0.1530 |\n| other                  | 13560 | 0.158 |  35267 | 0.0419 |\n| white                  | 29765 | 0.347 | 346732 | 0.4124 |\n\n",
            "text/latex": "A tibble: 5 × 5\n\\begin{tabular}{lllll}\n race & n & prop\\_stops & n\\_people & prop\\_residents\\\\\n <chr> & <int> & <dbl> & <dbl> & <dbl>\\\\\n\\hline\n\t asian/pacific islander & 15498 & 0.181 & 285266 & 0.3393\\\\\n\t black                  & 14955 & 0.175 &  44879 & 0.0534\\\\\n\t hispanic               & 11911 & 0.139 & 128619 & 0.1530\\\\\n\t other                  & 13560 & 0.158 &  35267 & 0.0419\\\\\n\t white                  & 29765 & 0.347 & 346732 & 0.4124\\\\\n\\end{tabular}\n",
            "text/plain": [
              "  race                   n     prop_stops n_people prop_residents\n",
              "1 asian/pacific islander 15498 0.181      285266   0.3393        \n",
              "2 black                  14955 0.175       44879   0.0534        \n",
              "3 hispanic               11911 0.139      128619   0.1530        \n",
              "4 other                  13560 0.158       35267   0.0419        \n",
              "5 white                  29765 0.347      346732   0.4124        "
            ]
          },
          "metadata": {}
        }
      ],
      "source": [
        "combined_data = left_join(stop_counts, pop_2015, by='race')\n",
        "\n",
        "combined_data"
      ]
    },
    {
      "cell_type": "markdown",
      "metadata": {
        "id": "lJfvBalD_oDV"
      },
      "source": [
        "The next section will break down this code."
      ]
    },
    {
      "cell_type": "markdown",
      "metadata": {
        "id": "EPwVhm7Q_oDV"
      },
      "source": [
        "### 💫 The magic of `left_join`"
      ]
    },
    {
      "cell_type": "markdown",
      "metadata": {
        "id": "wX_ETmpS_oDV"
      },
      "source": [
        "`left_join()` only needs three things from you:\n",
        "1. What's the first table?\n",
        "2. What's the second table?\n",
        "3. Which column should match?\n",
        "\n",
        "🖥️ Usage: `left_join(table1, table2, by='column_name')`\n",
        "* `table1`: the first table (i.e., 'left table')\n",
        "* `table2`: the second table (i.e., 'right table')\n",
        "* `column_name`: the name of the column to match\n",
        "\n",
        "But, we've left one question unanswered: why `left_join()` and not just `join()`?\n",
        "\n",
        "Here's a visual explanation.\n",
        "\n",
        "> Note: `NA` indicates a missing value that is \"not available\"."
      ]
    },
    {
      "cell_type": "markdown",
      "metadata": {
        "id": "uN-9W3K9_oDV"
      },
      "source": [
        "<img src=\"https://github.com/joshuagrossman/dsb-win-2023/blob/main/opp-munging-plotting/img/left_join_updated.png?raw=1\" alt=\"inner join\" width=\"400\" align=\"left\"/>"
      ]
    },
    {
      "cell_type": "markdown",
      "metadata": {
        "id": "uhaw4Nwr_oDV"
      },
      "source": [
        "`left_join()` always returns every row in the **left** table.\n",
        "\n",
        "- However, `left_join()` only includes rows from the **right** table that can be matched to rows in the **left** table.\n",
        "\n",
        "- The matched column is often referred to as the \"join key\". That's why it's named `key` in the picture.\n",
        "\n",
        "- Unmatched rows from the **right** table are dropped.\n",
        "\n",
        "Here's the picture in code form. Play around with the code to get a feel for `left_join()`!"
      ]
    },
    {
      "cell_type": "code",
      "execution_count": 8,
      "metadata": {
        "id": "BqkDvnwJ_oDV",
        "outputId": "2b57760b-b36b-4d77-8015-b5cffe5e4be3",
        "colab": {
          "base_uri": "https://localhost:8080/",
          "height": 541
        }
      },
      "outputs": [
        {
          "output_type": "display_data",
          "data": {
            "text/html": [
              "<table class=\"dataframe\">\n",
              "<caption>A tibble: 3 × 2</caption>\n",
              "<thead>\n",
              "\t<tr><th scope=col>val_x</th><th scope=col>key</th></tr>\n",
              "\t<tr><th scope=col>&lt;chr&gt;</th><th scope=col>&lt;dbl&gt;</th></tr>\n",
              "</thead>\n",
              "<tbody>\n",
              "\t<tr><td>x1</td><td>1</td></tr>\n",
              "\t<tr><td>x2</td><td>2</td></tr>\n",
              "\t<tr><td>x3</td><td>3</td></tr>\n",
              "</tbody>\n",
              "</table>\n"
            ],
            "text/markdown": "\nA tibble: 3 × 2\n\n| val_x &lt;chr&gt; | key &lt;dbl&gt; |\n|---|---|\n| x1 | 1 |\n| x2 | 2 |\n| x3 | 3 |\n\n",
            "text/latex": "A tibble: 3 × 2\n\\begin{tabular}{ll}\n val\\_x & key\\\\\n <chr> & <dbl>\\\\\n\\hline\n\t x1 & 1\\\\\n\t x2 & 2\\\\\n\t x3 & 3\\\\\n\\end{tabular}\n",
            "text/plain": [
              "  val_x key\n",
              "1 x1    1  \n",
              "2 x2    2  \n",
              "3 x3    3  "
            ]
          },
          "metadata": {}
        },
        {
          "output_type": "display_data",
          "data": {
            "text/html": [
              "<table class=\"dataframe\">\n",
              "<caption>A tibble: 3 × 2</caption>\n",
              "<thead>\n",
              "\t<tr><th scope=col>val_y</th><th scope=col>key</th></tr>\n",
              "\t<tr><th scope=col>&lt;chr&gt;</th><th scope=col>&lt;dbl&gt;</th></tr>\n",
              "</thead>\n",
              "<tbody>\n",
              "\t<tr><td>y1</td><td>1</td></tr>\n",
              "\t<tr><td>y2</td><td>2</td></tr>\n",
              "\t<tr><td>y3</td><td>4</td></tr>\n",
              "</tbody>\n",
              "</table>\n"
            ],
            "text/markdown": "\nA tibble: 3 × 2\n\n| val_y &lt;chr&gt; | key &lt;dbl&gt; |\n|---|---|\n| y1 | 1 |\n| y2 | 2 |\n| y3 | 4 |\n\n",
            "text/latex": "A tibble: 3 × 2\n\\begin{tabular}{ll}\n val\\_y & key\\\\\n <chr> & <dbl>\\\\\n\\hline\n\t y1 & 1\\\\\n\t y2 & 2\\\\\n\t y3 & 4\\\\\n\\end{tabular}\n",
            "text/plain": [
              "  val_y key\n",
              "1 y1    1  \n",
              "2 y2    2  \n",
              "3 y3    4  "
            ]
          },
          "metadata": {}
        },
        {
          "output_type": "display_data",
          "data": {
            "text/html": [
              "<table class=\"dataframe\">\n",
              "<caption>A tibble: 3 × 3</caption>\n",
              "<thead>\n",
              "\t<tr><th scope=col>val_x</th><th scope=col>key</th><th scope=col>val_y</th></tr>\n",
              "\t<tr><th scope=col>&lt;chr&gt;</th><th scope=col>&lt;dbl&gt;</th><th scope=col>&lt;chr&gt;</th></tr>\n",
              "</thead>\n",
              "<tbody>\n",
              "\t<tr><td>x1</td><td>1</td><td>y1</td></tr>\n",
              "\t<tr><td>x2</td><td>2</td><td>y2</td></tr>\n",
              "\t<tr><td>x3</td><td>3</td><td>NA</td></tr>\n",
              "</tbody>\n",
              "</table>\n"
            ],
            "text/markdown": "\nA tibble: 3 × 3\n\n| val_x &lt;chr&gt; | key &lt;dbl&gt; | val_y &lt;chr&gt; |\n|---|---|---|\n| x1 | 1 | y1 |\n| x2 | 2 | y2 |\n| x3 | 3 | NA |\n\n",
            "text/latex": "A tibble: 3 × 3\n\\begin{tabular}{lll}\n val\\_x & key & val\\_y\\\\\n <chr> & <dbl> & <chr>\\\\\n\\hline\n\t x1 & 1 & y1\\\\\n\t x2 & 2 & y2\\\\\n\t x3 & 3 & NA\\\\\n\\end{tabular}\n",
            "text/plain": [
              "  val_x key val_y\n",
              "1 x1    1   y1   \n",
              "2 x2    2   y2   \n",
              "3 x3    3   NA   "
            ]
          },
          "metadata": {}
        }
      ],
      "source": [
        "table1 = tibble(\n",
        "    val_x = c('x1', 'x2', 'x3'),\n",
        "    key = c(1, 2, 3)\n",
        ")\n",
        "\n",
        "table2 = tibble(\n",
        "    val_y = c('y1', 'y2', 'y3'),\n",
        "    key = c(1, 2, 4)\n",
        ")\n",
        "\n",
        "table1\n",
        "table2\n",
        "left_join(table1, table2, by='key')"
      ]
    },
    {
      "cell_type": "markdown",
      "metadata": {
        "id": "4A_Y0st3_oDW"
      },
      "source": [
        "### 🙀 `right_join()`, `inner_join()`, `anti_join()`, [oh my](https://www.youtube.com/watch?v=-HrfbV16-FQ)!"
      ]
    },
    {
      "cell_type": "markdown",
      "metadata": {
        "tags": [],
        "id": "o3vpg1U-_oDW"
      },
      "source": [
        "There are actually a few more joining functions. But, **you only need left join for >99% of data science work**.\n",
        "\n",
        "#### 🚀 Mini-exercise\n",
        "\n",
        "Run the three joining functions in the cell below.\n",
        "\n",
        "> The arguments of `right_join()`, `inner_join()`, and `anti_join()` are the same as `left_join()` above.\n",
        "\n",
        "What do these three new joining functions do?"
      ]
    },
    {
      "cell_type": "code",
      "execution_count": 10,
      "metadata": {
        "id": "7hg1W078_oDW",
        "outputId": "27576153-de92-492b-98d9-a5aef542d93d",
        "colab": {
          "base_uri": "https://localhost:8080/",
          "height": 335
        }
      },
      "outputs": [
        {
          "output_type": "display_data",
          "data": {
            "text/html": [
              "<table class=\"dataframe\">\n",
              "<caption>A tibble: 3 × 3</caption>\n",
              "<thead>\n",
              "\t<tr><th scope=col>val_x</th><th scope=col>key</th><th scope=col>val_y</th></tr>\n",
              "\t<tr><th scope=col>&lt;chr&gt;</th><th scope=col>&lt;dbl&gt;</th><th scope=col>&lt;chr&gt;</th></tr>\n",
              "</thead>\n",
              "<tbody>\n",
              "\t<tr><td>x1</td><td>1</td><td>y1</td></tr>\n",
              "\t<tr><td>x2</td><td>2</td><td>y2</td></tr>\n",
              "\t<tr><td>NA</td><td>4</td><td>y3</td></tr>\n",
              "</tbody>\n",
              "</table>\n"
            ],
            "text/markdown": "\nA tibble: 3 × 3\n\n| val_x &lt;chr&gt; | key &lt;dbl&gt; | val_y &lt;chr&gt; |\n|---|---|---|\n| x1 | 1 | y1 |\n| x2 | 2 | y2 |\n| NA | 4 | y3 |\n\n",
            "text/latex": "A tibble: 3 × 3\n\\begin{tabular}{lll}\n val\\_x & key & val\\_y\\\\\n <chr> & <dbl> & <chr>\\\\\n\\hline\n\t x1 & 1 & y1\\\\\n\t x2 & 2 & y2\\\\\n\t NA & 4 & y3\\\\\n\\end{tabular}\n",
            "text/plain": [
              "  val_x key val_y\n",
              "1 x1    1   y1   \n",
              "2 x2    2   y2   \n",
              "3 NA    4   y3   "
            ]
          },
          "metadata": {}
        },
        {
          "output_type": "display_data",
          "data": {
            "text/html": [
              "<table class=\"dataframe\">\n",
              "<caption>A tibble: 2 × 3</caption>\n",
              "<thead>\n",
              "\t<tr><th scope=col>val_x</th><th scope=col>key</th><th scope=col>val_y</th></tr>\n",
              "\t<tr><th scope=col>&lt;chr&gt;</th><th scope=col>&lt;dbl&gt;</th><th scope=col>&lt;chr&gt;</th></tr>\n",
              "</thead>\n",
              "<tbody>\n",
              "\t<tr><td>x1</td><td>1</td><td>y1</td></tr>\n",
              "\t<tr><td>x2</td><td>2</td><td>y2</td></tr>\n",
              "</tbody>\n",
              "</table>\n"
            ],
            "text/markdown": "\nA tibble: 2 × 3\n\n| val_x &lt;chr&gt; | key &lt;dbl&gt; | val_y &lt;chr&gt; |\n|---|---|---|\n| x1 | 1 | y1 |\n| x2 | 2 | y2 |\n\n",
            "text/latex": "A tibble: 2 × 3\n\\begin{tabular}{lll}\n val\\_x & key & val\\_y\\\\\n <chr> & <dbl> & <chr>\\\\\n\\hline\n\t x1 & 1 & y1\\\\\n\t x2 & 2 & y2\\\\\n\\end{tabular}\n",
            "text/plain": [
              "  val_x key val_y\n",
              "1 x1    1   y1   \n",
              "2 x2    2   y2   "
            ]
          },
          "metadata": {}
        }
      ],
      "source": [
        "table1 = tibble(\n",
        "    val_x = c('x1', 'x2', 'x3'),\n",
        "    key = c(1, 2, 3)\n",
        ")\n",
        "\n",
        "table2 = tibble(\n",
        "    val_y = c('y1', 'y2', 'y3'),\n",
        "    key = c(1, 2, 4)\n",
        ")\n",
        "\n",
        "# Your code here!\n",
        "right_join(table1, table2, by='key')\n",
        "inner_join(table1, table2, by='key')\n"
      ]
    },
    {
      "cell_type": "markdown",
      "metadata": {
        "id": "Q4NDf70A_oDW"
      },
      "source": [
        "## 🚀 Exercise: Putting it all together"
      ]
    },
    {
      "cell_type": "markdown",
      "metadata": {
        "id": "D2lvndoF_oDW"
      },
      "source": [
        "In this exercise, you may find it helpful to refer to code from Parts 1 and 2. You can find the solutions to Parts 1 and 2 [here](https://www.jdgrossman.com).\n",
        "\n",
        "#### Part A\n",
        "\n",
        "Calculate the proportion of all stops, searches, and contraband detections that occurred for SF drivers of each race and ethnicity group in 2015.\n",
        "\n",
        "What do you conclude from your findings? How could someone use these results to mislead their audience?"
      ]
    },
    {
      "cell_type": "code",
      "execution_count": 16,
      "metadata": {
        "id": "Q_ulSC14_oDW",
        "outputId": "cc19d94d-5e8a-4d8c-d958-ac077fe38028",
        "colab": {
          "base_uri": "https://localhost:8080/",
          "height": 492
        }
      },
      "outputs": [
        {
          "output_type": "display_data",
          "data": {
            "text/html": [
              "<table class=\"dataframe\">\n",
              "<caption>A tibble: 5 × 3</caption>\n",
              "<thead>\n",
              "\t<tr><th scope=col>race</th><th scope=col>n_people</th><th scope=col>prop_residents</th></tr>\n",
              "\t<tr><th scope=col>&lt;chr&gt;</th><th scope=col>&lt;dbl&gt;</th><th scope=col>&lt;dbl&gt;</th></tr>\n",
              "</thead>\n",
              "<tbody>\n",
              "\t<tr><td>white                 </td><td>346732</td><td>0.4124</td></tr>\n",
              "\t<tr><td>black                 </td><td> 44879</td><td>0.0534</td></tr>\n",
              "\t<tr><td>hispanic              </td><td>128619</td><td>0.1530</td></tr>\n",
              "\t<tr><td>asian/pacific islander</td><td>285266</td><td>0.3393</td></tr>\n",
              "\t<tr><td>other                 </td><td> 35267</td><td>0.0419</td></tr>\n",
              "</tbody>\n",
              "</table>\n"
            ],
            "text/markdown": "\nA tibble: 5 × 3\n\n| race &lt;chr&gt; | n_people &lt;dbl&gt; | prop_residents &lt;dbl&gt; |\n|---|---|---|\n| white                  | 346732 | 0.4124 |\n| black                  |  44879 | 0.0534 |\n| hispanic               | 128619 | 0.1530 |\n| asian/pacific islander | 285266 | 0.3393 |\n| other                  |  35267 | 0.0419 |\n\n",
            "text/latex": "A tibble: 5 × 3\n\\begin{tabular}{lll}\n race & n\\_people & prop\\_residents\\\\\n <chr> & <dbl> & <dbl>\\\\\n\\hline\n\t white                  & 346732 & 0.4124\\\\\n\t black                  &  44879 & 0.0534\\\\\n\t hispanic               & 128619 & 0.1530\\\\\n\t asian/pacific islander & 285266 & 0.3393\\\\\n\t other                  &  35267 & 0.0419\\\\\n\\end{tabular}\n",
            "text/plain": [
              "  race                   n_people prop_residents\n",
              "1 white                  346732   0.4124        \n",
              "2 black                   44879   0.0534        \n",
              "3 hispanic               128619   0.1530        \n",
              "4 asian/pacific islander 285266   0.3393        \n",
              "5 other                   35267   0.0419        "
            ]
          },
          "metadata": {}
        },
        {
          "output_type": "display_data",
          "data": {
            "text/html": [
              "<table class=\"dataframe\">\n",
              "<caption>A tibble: 5 × 6</caption>\n",
              "<thead>\n",
              "\t<tr><th scope=col>race</th><th scope=col>n_stops</th><th scope=col>num_searches</th><th scope=col>prop_search_from_stop</th><th scope=col>num_contraband</th><th scope=col>prop_contrab</th></tr>\n",
              "\t<tr><th scope=col>&lt;chr&gt;</th><th scope=col>&lt;int&gt;</th><th scope=col>&lt;int&gt;</th><th scope=col>&lt;dbl&gt;</th><th scope=col>&lt;int&gt;</th><th scope=col>&lt;dbl&gt;</th></tr>\n",
              "</thead>\n",
              "<tbody>\n",
              "\t<tr><td>asian/pacific islander</td><td>15498</td><td> 194</td><td>0.0125</td><td> 73</td><td>0.00471</td></tr>\n",
              "\t<tr><td>black                 </td><td>14955</td><td>2341</td><td>0.1565</td><td>306</td><td>0.02046</td></tr>\n",
              "\t<tr><td>hispanic              </td><td>11911</td><td> 760</td><td>0.0638</td><td>144</td><td>0.01209</td></tr>\n",
              "\t<tr><td>other                 </td><td>13560</td><td> 233</td><td>0.0172</td><td> 50</td><td>0.00369</td></tr>\n",
              "\t<tr><td>white                 </td><td>29765</td><td> 659</td><td>0.0221</td><td>195</td><td>0.00655</td></tr>\n",
              "</tbody>\n",
              "</table>\n"
            ],
            "text/markdown": "\nA tibble: 5 × 6\n\n| race &lt;chr&gt; | n_stops &lt;int&gt; | num_searches &lt;int&gt; | prop_search_from_stop &lt;dbl&gt; | num_contraband &lt;int&gt; | prop_contrab &lt;dbl&gt; |\n|---|---|---|---|---|---|\n| asian/pacific islander | 15498 |  194 | 0.0125 |  73 | 0.00471 |\n| black                  | 14955 | 2341 | 0.1565 | 306 | 0.02046 |\n| hispanic               | 11911 |  760 | 0.0638 | 144 | 0.01209 |\n| other                  | 13560 |  233 | 0.0172 |  50 | 0.00369 |\n| white                  | 29765 |  659 | 0.0221 | 195 | 0.00655 |\n\n",
            "text/latex": "A tibble: 5 × 6\n\\begin{tabular}{llllll}\n race & n\\_stops & num\\_searches & prop\\_search\\_from\\_stop & num\\_contraband & prop\\_contrab\\\\\n <chr> & <int> & <int> & <dbl> & <int> & <dbl>\\\\\n\\hline\n\t asian/pacific islander & 15498 &  194 & 0.0125 &  73 & 0.00471\\\\\n\t black                  & 14955 & 2341 & 0.1565 & 306 & 0.02046\\\\\n\t hispanic               & 11911 &  760 & 0.0638 & 144 & 0.01209\\\\\n\t other                  & 13560 &  233 & 0.0172 &  50 & 0.00369\\\\\n\t white                  & 29765 &  659 & 0.0221 & 195 & 0.00655\\\\\n\\end{tabular}\n",
            "text/plain": [
              "  race                   n_stops num_searches prop_search_from_stop\n",
              "1 asian/pacific islander 15498    194         0.0125               \n",
              "2 black                  14955   2341         0.1565               \n",
              "3 hispanic               11911    760         0.0638               \n",
              "4 other                  13560    233         0.0172               \n",
              "5 white                  29765    659         0.0221               \n",
              "  num_contraband prop_contrab\n",
              "1  73            0.00471     \n",
              "2 306            0.02046     \n",
              "3 144            0.01209     \n",
              "4  50            0.00369     \n",
              "5 195            0.00655     "
            ]
          },
          "metadata": {}
        }
      ],
      "source": [
        "# Your code here!\n",
        "\n",
        "## GOAL: Stops, Searched, and Contraband detected  for sf drivers  (PROPORTIONS)\n",
        "head(pop_2015) #  race, num ppl, prop of res.\n",
        "\n",
        "# As a reminder, here's how we did this for stops:\n",
        "stop_counts = stops_2015 %>%\n",
        "  group_by(race) %>%\n",
        "  summarize(n = n()) %>%\n",
        "  ungroup()\n",
        "\n",
        "# using props from pt. 1\n",
        "stops_2015 %>%\n",
        "  group_by(race) %>%\n",
        "    summarize(\n",
        "      n_stops = n(),\n",
        "      num_searches = sum(searched, na.rm = TRUE),\n",
        "      prop_search_from_stop = num_searches /n_stops,\n",
        "      num_contraband = sum(contraband_found, na.rm = TRUE),\n",
        "      prop_contrab = num_contraband / n_stops\n",
        "    )"
      ]
    },
    {
      "cell_type": "markdown",
      "source": [
        "##### we see that black and hispanic populations have the highest rates per of searches and contraband found from searches despite not having the highest amount of stops\n",
        "##### can be misleading in sending a message that these groups are more dangerous because from these statistics they have higher rights/possibility of contraband in possesion"
      ],
      "metadata": {
        "id": "qQRfiJpgKk8r"
      }
    },
    {
      "cell_type": "markdown",
      "metadata": {
        "id": "NOJwYny1_oDW"
      },
      "source": [
        "#### Part B\n",
        "\n",
        "For each race and ethnicity group, calculate the ratio of stop rates, search rates, and contraband detection rates to the population rate for 2015.\n",
        "\n",
        "What do you conclude from your findings? How could someone use these results to mislead their audience?"
      ]
    },
    {
      "cell_type": "code",
      "execution_count": null,
      "metadata": {
        "tags": [],
        "id": "lh183fs5_oDW"
      },
      "outputs": [],
      "source": [
        "# Your code here!\n"
      ]
    },
    {
      "cell_type": "markdown",
      "metadata": {
        "id": "gmPoIykc_oDW"
      },
      "source": [
        "#### Part C\n",
        "\n",
        "First, filter the `stops` data to drivers who identify as Black.\n",
        "\n",
        "Second, for Black drivers in each district, calculate the fraction of stops that resulted in a search (the \"search rate\"). Store your result in a dataframe.\n",
        "\n",
        "Repeat the first two steps for all race/ethnicity groups in the data."
      ]
    },
    {
      "cell_type": "code",
      "execution_count": null,
      "metadata": {
        "id": "tpfg6THu_oDa"
      },
      "outputs": [],
      "source": [
        "# Your code here!\n",
        "\n"
      ]
    },
    {
      "cell_type": "markdown",
      "metadata": {
        "id": "UhLMQ_gX_oDa"
      },
      "source": [
        "❗❗Important note❗❗: You are encouraged to repeat Parts D, E, and F using different pairs of race/ethnicity groups."
      ]
    },
    {
      "cell_type": "markdown",
      "metadata": {
        "id": "KP51vH8k_oDa"
      },
      "source": [
        "#### Part D\n",
        "\n",
        "For each district, calculate the difference in search rates of Black drivers and white drivers.\n",
        "\n",
        "> This will require you to merge the two dataframes that you created in Part C.\n",
        "\n",
        "What do you conclude from your findings? How could you present this result concisely to a non-technical audience?"
      ]
    },
    {
      "cell_type": "code",
      "execution_count": null,
      "metadata": {
        "id": "4TPGYupA_oDa"
      },
      "outputs": [],
      "source": [
        "# Your code here!\n",
        "\n"
      ]
    },
    {
      "cell_type": "markdown",
      "metadata": {
        "id": "NQxcvMt0_oDa"
      },
      "source": [
        "#### Part E\n",
        "\n",
        "Using your merged data from Part D, create a plot with the following features:\n",
        "- On the x-axis, plot the search rate for Black drivers.\n",
        "- On the y-axis, plot the search rate for white drivers.\n",
        "- Color the points by district\n",
        "- Add (`+`) the following lines to your plotting code:\n",
        "\n",
        "```\n",
        "geom_abline(linetype = 'dashed') +\n",
        "xlim(0, 0.5) +\n",
        "ylim(0, 0.5)\n",
        "```\n",
        "\n",
        "What do you conclude from your findings?"
      ]
    },
    {
      "cell_type": "code",
      "execution_count": null,
      "metadata": {
        "id": "cU-q0xcI_oDa"
      },
      "outputs": [],
      "source": [
        "# Your code here!\n",
        "\n"
      ]
    },
    {
      "cell_type": "markdown",
      "metadata": {
        "tags": [],
        "id": "cHeuwqAe_oDa"
      },
      "source": [
        "#### Part F\n",
        "\n",
        "Repeat Parts D and E, but instead of calculating search rates, calculate the proportion of **searches** (not stops) that resulted in contraband being found (\"hit rate\").\n",
        "\n",
        "What do you conclude from your findings?"
      ]
    },
    {
      "cell_type": "code",
      "execution_count": null,
      "metadata": {
        "id": "AeXuyr_a_oDa"
      },
      "outputs": [],
      "source": [
        "# Your code here!\n",
        "\n"
      ]
    },
    {
      "cell_type": "markdown",
      "metadata": {
        "id": "8pKKai4Q_oDa"
      },
      "source": [
        "## Concluding remarks"
      ]
    },
    {
      "cell_type": "markdown",
      "metadata": {
        "id": "rtrbqlcU_oDa"
      },
      "source": [
        "In the final exercise of this tutorial, you conducted an **outcome test**.\n",
        "\n",
        "> Figure 3 in [this paper](https://5harad.com/papers/100M-stops.pdf) shows the result of an outcome test applied to large-scale policing data.\n",
        "\n",
        "Outcome tests can be used to detect potential discrimination not just in policing.\n",
        "For example, think about how you might use an outcome test to detect discrimination in bank lending or hiring decisions."
      ]
    }
  ],
  "metadata": {
    "kernelspec": {
      "display_name": "R",
      "language": "R",
      "name": "ir"
    },
    "language_info": {
      "codemirror_mode": "r",
      "file_extension": ".r",
      "mimetype": "text/x-r-source",
      "name": "R",
      "pygments_lexer": "r",
      "version": "4.2.1"
    },
    "colab": {
      "provenance": []
    }
  },
  "nbformat": 4,
  "nbformat_minor": 0
}