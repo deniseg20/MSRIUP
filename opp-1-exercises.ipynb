{
  "cells": [
    {
      "cell_type": "markdown",
      "metadata": {
        "id": "elZzhjFzmtNs"
      },
      "source": [
        "# 🚘 Analyzing SF traffic stops with `R`: Part 1"
      ]
    },
    {
      "cell_type": "markdown",
      "metadata": {
        "id": "D6JP_FWfmtNv"
      },
      "source": [
        "<img src=\"https://github.com/joshuagrossman/dsb-win-2023/blob/main/opp-munging-plotting/img/sf-traffic.jpg?raw=1\" alt=\"traffic\" width=\"600\" align=\"left\"/>"
      ]
    },
    {
      "cell_type": "markdown",
      "metadata": {
        "id": "luL_P8K-mtNv"
      },
      "source": [
        "This is Part 1. Other parts can be found [here](https://www.jdgrossman.com).\n",
        "\n",
        "## Introduction\n",
        "\n",
        "In this series of tutorials, we'll use `R` to explore traffic stops in San Francisco (SF). In particular, we'll investigate whether there is evidence of racial discrimination in SF's policing practices.\n",
        "\n",
        "> **Important note**: Policing can be a sensitive subject. It's important to remember that each row in our data represents a real interaction between a police officer and driver. Please keep this in mind as you work through the tutorial, and be sure to engage with the material to the extent you're comfortable.\n",
        "\n",
        "By the end of the tutorials, you'll have foundational understanding of the following:\n",
        "1. 📊 How to use `R` to explore tabular data and calculate descriptive statistics.\n",
        "2. 📈 How to make an informative plot with `R`\n",
        "2. ⚖️ How to approach questions about social policy with data.\n",
        "\n",
        "Let's get started!"
      ]
    },
    {
      "cell_type": "markdown",
      "metadata": {
        "id": "BNwfBFVXmtNw"
      },
      "source": [
        "## ✅ Set up\n",
        "\n",
        "While the core `R` language contains many useful functions (e.g., `sum` and `sample`), there is vast functionality built on top of `R` by community members.\n",
        "\n",
        "Make sure to run the cell below. It imports additional useful functions, adjusts `R` settings, and loads in data."
      ]
    },
    {
      "cell_type": "code",
      "execution_count": 47,
      "metadata": {
        "id": "YrXHi9oCmtNw"
      },
      "outputs": [],
      "source": [
        "# Load in additional functions\n",
        "library(tidyverse)\n",
        "library(lubridate)\n",
        "\n",
        "# Use three digits past the decimal point\n",
        "options(digits = 3)\n",
        "\n",
        "# This is where the data is stored.\n",
        "STOPS_PATH = \"https://github.com/joshuagrossman/dsb-win-2023/raw/main/opp-munging-plotting/data/sf_stop_data.rds\"\n",
        "\n",
        "# Read in the data\n",
        "stops <- read_rds(STOPS_PATH)"
      ]
    },
    {
      "cell_type": "markdown",
      "metadata": {
        "id": "0By5_4p_mtNx"
      },
      "source": [
        "### 🖼️ The data frame\n",
        "\n",
        "Data frames are like spreadsheets in Microsft Excel or Google Sheets: they have rows and columns, and each cell in the spreadsheet contains data.\n",
        "\n",
        "Run the cell below to preview the `stops` data. What do you notice?\n",
        "\n",
        "> 🔎 The `head` function allows us to see the first couple rows of a dataframe."
      ]
    },
    {
      "cell_type": "code",
      "execution_count": 41,
      "metadata": {
        "id": "8IbHxmmHmtNx",
        "outputId": "9518fa2c-ad99-437c-986b-b3d53a95ad96",
        "colab": {
          "base_uri": "https://localhost:8080/",
          "height": 286
        }
      },
      "outputs": [
        {
          "output_type": "display_data",
          "data": {
            "text/html": [
              "<table class=\"dataframe\">\n",
              "<caption>A tibble: 6 × 13</caption>\n",
              "<thead>\n",
              "\t<tr><th scope=col>date</th><th scope=col>time</th><th scope=col>location</th><th scope=col>lat</th><th scope=col>lng</th><th scope=col>district</th><th scope=col>age</th><th scope=col>race</th><th scope=col>gender</th><th scope=col>arrested</th><th scope=col>contraband_found</th><th scope=col>searched</th><th scope=col>reason_for_stop</th></tr>\n",
              "\t<tr><th scope=col>&lt;date&gt;</th><th scope=col>&lt;time&gt;</th><th scope=col>&lt;chr&gt;</th><th scope=col>&lt;dbl&gt;</th><th scope=col>&lt;dbl&gt;</th><th scope=col>&lt;chr&gt;</th><th scope=col>&lt;int&gt;</th><th scope=col>&lt;chr&gt;</th><th scope=col>&lt;fct&gt;</th><th scope=col>&lt;lgl&gt;</th><th scope=col>&lt;lgl&gt;</th><th scope=col>&lt;lgl&gt;</th><th scope=col>&lt;chr&gt;</th></tr>\n",
              "</thead>\n",
              "<tbody>\n",
              "\t<tr><td>2009-01-01</td><td>10:10:00</td><td>1736 PALOU      </td><td>37.7</td><td>-122</td><td>C</td><td>22</td><td>black</td><td>female</td><td>FALSE</td><td>FALSE</td><td> TRUE</td><td>Equipment violation</td></tr>\n",
              "\t<tr><td>2009-01-01</td><td>10:15:00</td><td>THRIFT/PLYMTH   </td><td>37.7</td><td>-122</td><td>I</td><td>44</td><td>black</td><td>male  </td><td>FALSE</td><td>   NA</td><td>FALSE</td><td>Moving violation   </td></tr>\n",
              "\t<tr><td>2009-01-01</td><td>10:20:00</td><td>FLORIDA/19TH    </td><td>37.8</td><td>-122</td><td>D</td><td>45</td><td>white</td><td>female</td><td>FALSE</td><td>   NA</td><td>FALSE</td><td>Equipment violation</td></tr>\n",
              "\t<tr><td>2009-01-01</td><td>10:20:00</td><td>19TH AVE/MORAGAE</td><td>37.8</td><td>-122</td><td>I</td><td>27</td><td>white</td><td>male  </td><td>FALSE</td><td>   NA</td><td>FALSE</td><td>Equipment violation</td></tr>\n",
              "\t<tr><td>2009-01-01</td><td>10:36:00</td><td>19TH/LINCOLN    </td><td>37.8</td><td>-122</td><td>I</td><td>29</td><td>white</td><td>male  </td><td>FALSE</td><td>   NA</td><td>FALSE</td><td>Equipment violation</td></tr>\n",
              "\t<tr><td>2009-01-01</td><td>10:40:00</td><td><span style=white-space:pre-wrap>16TH&amp;JULIAN     </span></td><td>37.8</td><td>-122</td><td>D</td><td>34</td><td>black</td><td><span style=white-space:pre-wrap>male  </span></td><td>FALSE</td><td><span style=white-space:pre-wrap>   NA</span></td><td>FALSE</td><td><span style=white-space:pre-wrap>Moving violation   </span></td></tr>\n",
              "</tbody>\n",
              "</table>\n"
            ],
            "text/markdown": "\nA tibble: 6 × 13\n\n| date &lt;date&gt; | time &lt;time&gt; | location &lt;chr&gt; | lat &lt;dbl&gt; | lng &lt;dbl&gt; | district &lt;chr&gt; | age &lt;int&gt; | race &lt;chr&gt; | gender &lt;fct&gt; | arrested &lt;lgl&gt; | contraband_found &lt;lgl&gt; | searched &lt;lgl&gt; | reason_for_stop &lt;chr&gt; |\n|---|---|---|---|---|---|---|---|---|---|---|---|---|\n| 2009-01-01 | 10:10:00 | 1736 PALOU       | 37.7 | -122 | C | 22 | black | female | FALSE | FALSE |  TRUE | Equipment violation |\n| 2009-01-01 | 10:15:00 | THRIFT/PLYMTH    | 37.7 | -122 | I | 44 | black | male   | FALSE |    NA | FALSE | Moving violation    |\n| 2009-01-01 | 10:20:00 | FLORIDA/19TH     | 37.8 | -122 | D | 45 | white | female | FALSE |    NA | FALSE | Equipment violation |\n| 2009-01-01 | 10:20:00 | 19TH AVE/MORAGAE | 37.8 | -122 | I | 27 | white | male   | FALSE |    NA | FALSE | Equipment violation |\n| 2009-01-01 | 10:36:00 | 19TH/LINCOLN     | 37.8 | -122 | I | 29 | white | male   | FALSE |    NA | FALSE | Equipment violation |\n| 2009-01-01 | 10:40:00 | 16TH&amp;JULIAN      | 37.8 | -122 | D | 34 | black | male   | FALSE |    NA | FALSE | Moving violation    |\n\n",
            "text/latex": "A tibble: 6 × 13\n\\begin{tabular}{lllllllllllll}\n date & time & location & lat & lng & district & age & race & gender & arrested & contraband\\_found & searched & reason\\_for\\_stop\\\\\n <date> & <time> & <chr> & <dbl> & <dbl> & <chr> & <int> & <chr> & <fct> & <lgl> & <lgl> & <lgl> & <chr>\\\\\n\\hline\n\t 2009-01-01 & 10:10:00 & 1736 PALOU       & 37.7 & -122 & C & 22 & black & female & FALSE & FALSE &  TRUE & Equipment violation\\\\\n\t 2009-01-01 & 10:15:00 & THRIFT/PLYMTH    & 37.7 & -122 & I & 44 & black & male   & FALSE &    NA & FALSE & Moving violation   \\\\\n\t 2009-01-01 & 10:20:00 & FLORIDA/19TH     & 37.8 & -122 & D & 45 & white & female & FALSE &    NA & FALSE & Equipment violation\\\\\n\t 2009-01-01 & 10:20:00 & 19TH AVE/MORAGAE & 37.8 & -122 & I & 27 & white & male   & FALSE &    NA & FALSE & Equipment violation\\\\\n\t 2009-01-01 & 10:36:00 & 19TH/LINCOLN     & 37.8 & -122 & I & 29 & white & male   & FALSE &    NA & FALSE & Equipment violation\\\\\n\t 2009-01-01 & 10:40:00 & 16TH\\&JULIAN      & 37.8 & -122 & D & 34 & black & male   & FALSE &    NA & FALSE & Moving violation   \\\\\n\\end{tabular}\n",
            "text/plain": [
              "  date       time     location         lat  lng  district age race  gender\n",
              "1 2009-01-01 10:10:00 1736 PALOU       37.7 -122 C        22  black female\n",
              "2 2009-01-01 10:15:00 THRIFT/PLYMTH    37.7 -122 I        44  black male  \n",
              "3 2009-01-01 10:20:00 FLORIDA/19TH     37.8 -122 D        45  white female\n",
              "4 2009-01-01 10:20:00 19TH AVE/MORAGAE 37.8 -122 I        27  white male  \n",
              "5 2009-01-01 10:36:00 19TH/LINCOLN     37.8 -122 I        29  white male  \n",
              "6 2009-01-01 10:40:00 16TH&JULIAN      37.8 -122 D        34  black male  \n",
              "  arrested contraband_found searched reason_for_stop    \n",
              "1 FALSE    FALSE             TRUE    Equipment violation\n",
              "2 FALSE       NA            FALSE    Moving violation   \n",
              "3 FALSE       NA            FALSE    Equipment violation\n",
              "4 FALSE       NA            FALSE    Equipment violation\n",
              "5 FALSE       NA            FALSE    Equipment violation\n",
              "6 FALSE       NA            FALSE    Moving violation   "
            ]
          },
          "metadata": {}
        }
      ],
      "source": [
        "head(stops)"
      ]
    },
    {
      "cell_type": "code",
      "source": [
        "summary(stops)"
      ],
      "metadata": {
        "id": "kN7I6a0qyXBO",
        "outputId": "390cb3ce-7de7-40c3-d6c6-1d65a07880c1",
        "colab": {
          "base_uri": "https://localhost:8080/",
          "height": 572
        }
      },
      "execution_count": 43,
      "outputs": [
        {
          "output_type": "display_data",
          "data": {
            "text/plain": [
              "      date                 time                   location        \n",
              " Min.   :2009-01-01   Min.   :00:00:00.000000   Length:636161     \n",
              " 1st Qu.:2010-06-21   1st Qu.:10:04:00.000000   Class :character  \n",
              " Median :2012-01-15   Median :15:18:00.000000   Mode  :character  \n",
              " Mean   :2012-05-04   Mean   :14:24:39.721889                     \n",
              " 3rd Qu.:2014-01-27   3rd Qu.:19:35:00.000000                     \n",
              " Max.   :2016-06-30   Max.   :23:59:00.000000                     \n",
              "                      NA's   :13                                  \n",
              "      lat            lng         district              age       \n",
              " Min.   :36.3   Min.   :-124   Length:636161      Min.   : 10.0  \n",
              " 1st Qu.:37.7   1st Qu.:-122   Class :character   1st Qu.: 27.0  \n",
              " Median :37.8   Median :-122   Mode  :character   Median : 35.0  \n",
              " Mean   :37.8   Mean   :-122                      Mean   : 38.1  \n",
              " 3rd Qu.:37.8   3rd Qu.:-122                      3rd Qu.: 48.0  \n",
              " Max.   :39.7   Max.   :-120                      Max.   :100.0  \n",
              " NA's   :1011   NA's   :1011                      NA's   :2606   \n",
              "     race              gender        arrested       contraband_found\n",
              " Length:636161      male  :448773   Mode :logical   Mode :logical   \n",
              " Class :character   female:187388   FALSE:628960    FALSE:31177     \n",
              " Mode  :character                   TRUE :7201      TRUE :5055      \n",
              "                                                    NA's :599929    \n",
              "                                                                    \n",
              "                                                                    \n",
              "                                                                    \n",
              "  searched       reason_for_stop   \n",
              " Mode :logical   Length:636161     \n",
              " FALSE:599929    Class :character  \n",
              " TRUE :36232     Mode  :character  \n",
              "                                   \n",
              "                                   \n",
              "                                   \n",
              "                                   "
            ]
          },
          "metadata": {}
        }
      ]
    },
    {
      "cell_type": "markdown",
      "metadata": {
        "id": "FYdRR-uVmtNx"
      },
      "source": [
        "⬆️ From the preview above, we might guess that each row in the `stops` dataframe represents a stop, and each column contains information about each stop.\n",
        "\n",
        "> This guess is correct!\n",
        "\n",
        "### 💭 Asking questions about the data\n",
        "\n",
        "As an analyst, you might start with some basic questions:\n",
        "\n",
        "1. How many stops (i.e., rows) are in the `stops` data?\n",
        "2. What do we know about each stop?\n",
        "3. When was the earliest stop?\n",
        "4. What were the most commons reasons for stops?\n",
        "5. Who is most likely to get stopped?\n",
        "\n",
        "Let's start with the first question: how many rows are in the `stops` data?"
      ]
    },
    {
      "cell_type": "code",
      "execution_count": 6,
      "metadata": {
        "id": "LK4vTtpcmtNx",
        "outputId": "4a615be5-342b-40a9-f207-ce6cf0185d43",
        "colab": {
          "base_uri": "https://localhost:8080/",
          "height": 34
        }
      },
      "outputs": [
        {
          "output_type": "display_data",
          "data": {
            "text/html": [
              "636161"
            ],
            "text/markdown": "636161",
            "text/latex": "636161",
            "text/plain": [
              "[1] 636161"
            ]
          },
          "metadata": {}
        }
      ],
      "source": [
        "nrow(stops)"
      ]
    },
    {
      "cell_type": "markdown",
      "metadata": {
        "id": "xZNAfznQmtNy"
      },
      "source": [
        "Looks like we have information on approximately 640,000 stops.\n",
        "\n",
        "What do we know about each stop?"
      ]
    },
    {
      "cell_type": "code",
      "execution_count": 7,
      "metadata": {
        "id": "idmr4x4dmtNy",
        "outputId": "a99b7297-f2e2-4942-edad-adebd0390499",
        "colab": {
          "base_uri": "https://localhost:8080/",
          "height": 34
        }
      },
      "outputs": [
        {
          "output_type": "display_data",
          "data": {
            "text/html": [
              "<style>\n",
              ".list-inline {list-style: none; margin:0; padding: 0}\n",
              ".list-inline>li {display: inline-block}\n",
              ".list-inline>li:not(:last-child)::after {content: \"\\00b7\"; padding: 0 .5ex}\n",
              "</style>\n",
              "<ol class=list-inline><li>'date'</li><li>'time'</li><li>'location'</li><li>'lat'</li><li>'lng'</li><li>'district'</li><li>'age'</li><li>'race'</li><li>'gender'</li><li>'arrested'</li><li>'contraband_found'</li><li>'searched'</li><li>'reason_for_stop'</li></ol>\n"
            ],
            "text/markdown": "1. 'date'\n2. 'time'\n3. 'location'\n4. 'lat'\n5. 'lng'\n6. 'district'\n7. 'age'\n8. 'race'\n9. 'gender'\n10. 'arrested'\n11. 'contraband_found'\n12. 'searched'\n13. 'reason_for_stop'\n\n\n",
            "text/latex": "\\begin{enumerate*}\n\\item 'date'\n\\item 'time'\n\\item 'location'\n\\item 'lat'\n\\item 'lng'\n\\item 'district'\n\\item 'age'\n\\item 'race'\n\\item 'gender'\n\\item 'arrested'\n\\item 'contraband\\_found'\n\\item 'searched'\n\\item 'reason\\_for\\_stop'\n\\end{enumerate*}\n",
            "text/plain": [
              " [1] \"date\"             \"time\"             \"location\"         \"lat\"             \n",
              " [5] \"lng\"              \"district\"         \"age\"              \"race\"            \n",
              " [9] \"gender\"           \"arrested\"         \"contraband_found\" \"searched\"        \n",
              "[13] \"reason_for_stop\" "
            ]
          },
          "metadata": {}
        }
      ],
      "source": [
        "colnames(stops)"
      ]
    },
    {
      "cell_type": "markdown",
      "metadata": {
        "id": "rUoS8Up4mtNy"
      },
      "source": [
        "It looks like we have the basics of each stop: time, location, demographics, and outcomes."
      ]
    },
    {
      "cell_type": "markdown",
      "metadata": {
        "id": "WqUEKSXEmtNy"
      },
      "source": [
        "## 🚀 Exercise: Stop dates\n",
        "\n",
        "When did the traffic stops in the `stops` data occur?\n",
        "\n",
        "Use the `date` column in the `stops` data to get a sense of when stops typically occur. Write a comment explaining your results.\n",
        "\n",
        "A few pointers:\n",
        "\n",
        "> 💵 To extract a column from a data frame, use the `$` symbol. To retrieve column `age` from data frame `df`, we write `df$age`.\n",
        "\n",
        "> You may find the following functions helpful: `sample`, `min`, `max`, `range`, and `print`. You can learn more about a function `f` by running `?f`."
      ]
    },
    {
      "cell_type": "code",
      "execution_count": 49,
      "metadata": {
        "id": "P-2chx1LmtN0",
        "outputId": "ee9f223e-a181-4f4d-af3f-ef0137ba1992",
        "colab": {
          "base_uri": "https://localhost:8080/",
          "height": 1000
        }
      },
      "outputs": [
        {
          "output_type": "display_data",
          "data": {
            "text/html": [
              "<table class=\"dataframe\">\n",
              "<caption>A tibble: 2523 × 2</caption>\n",
              "<thead>\n",
              "\t<tr><th scope=col>date</th><th scope=col>n</th></tr>\n",
              "\t<tr><th scope=col>&lt;date&gt;</th><th scope=col>&lt;int&gt;</th></tr>\n",
              "</thead>\n",
              "<tbody>\n",
              "\t<tr><td>2009-01-01</td><td>258</td></tr>\n",
              "\t<tr><td>2009-01-02</td><td>314</td></tr>\n",
              "\t<tr><td>2009-01-03</td><td>308</td></tr>\n",
              "\t<tr><td>2009-01-04</td><td>345</td></tr>\n",
              "\t<tr><td>2009-01-05</td><td>349</td></tr>\n",
              "\t<tr><td>2009-01-06</td><td>379</td></tr>\n",
              "\t<tr><td>2009-01-07</td><td>409</td></tr>\n",
              "\t<tr><td>2009-01-08</td><td>375</td></tr>\n",
              "\t<tr><td>2009-01-09</td><td>319</td></tr>\n",
              "\t<tr><td>2009-01-10</td><td>283</td></tr>\n",
              "\t<tr><td>2009-01-11</td><td>320</td></tr>\n",
              "\t<tr><td>2009-01-12</td><td>293</td></tr>\n",
              "\t<tr><td>2009-01-13</td><td>395</td></tr>\n",
              "\t<tr><td>2009-01-14</td><td>390</td></tr>\n",
              "\t<tr><td>2009-01-15</td><td>303</td></tr>\n",
              "\t<tr><td>2009-01-16</td><td>302</td></tr>\n",
              "\t<tr><td>2009-01-17</td><td>306</td></tr>\n",
              "\t<tr><td>2009-01-18</td><td>301</td></tr>\n",
              "\t<tr><td>2009-01-19</td><td>327</td></tr>\n",
              "\t<tr><td>2009-01-20</td><td>338</td></tr>\n",
              "\t<tr><td>2009-01-21</td><td>374</td></tr>\n",
              "\t<tr><td>2009-01-22</td><td>507</td></tr>\n",
              "\t<tr><td>2009-01-23</td><td>329</td></tr>\n",
              "\t<tr><td>2009-01-24</td><td>216</td></tr>\n",
              "\t<tr><td>2009-01-25</td><td>327</td></tr>\n",
              "\t<tr><td>2009-01-26</td><td>250</td></tr>\n",
              "\t<tr><td>2009-01-27</td><td>330</td></tr>\n",
              "\t<tr><td>2009-01-28</td><td>407</td></tr>\n",
              "\t<tr><td>2009-01-29</td><td>296</td></tr>\n",
              "\t<tr><td>2009-01-30</td><td>490</td></tr>\n",
              "\t<tr><td>⋮</td><td>⋮</td></tr>\n",
              "\t<tr><td>2016-06-01</td><td>265</td></tr>\n",
              "\t<tr><td>2016-06-02</td><td>241</td></tr>\n",
              "\t<tr><td>2016-06-03</td><td>212</td></tr>\n",
              "\t<tr><td>2016-06-04</td><td>180</td></tr>\n",
              "\t<tr><td>2016-06-05</td><td>123</td></tr>\n",
              "\t<tr><td>2016-06-06</td><td>161</td></tr>\n",
              "\t<tr><td>2016-06-07</td><td>217</td></tr>\n",
              "\t<tr><td>2016-06-08</td><td>296</td></tr>\n",
              "\t<tr><td>2016-06-09</td><td>247</td></tr>\n",
              "\t<tr><td>2016-06-10</td><td>180</td></tr>\n",
              "\t<tr><td>2016-06-11</td><td>191</td></tr>\n",
              "\t<tr><td>2016-06-12</td><td>195</td></tr>\n",
              "\t<tr><td>2016-06-13</td><td>185</td></tr>\n",
              "\t<tr><td>2016-06-14</td><td>200</td></tr>\n",
              "\t<tr><td>2016-06-15</td><td>230</td></tr>\n",
              "\t<tr><td>2016-06-16</td><td>239</td></tr>\n",
              "\t<tr><td>2016-06-17</td><td>250</td></tr>\n",
              "\t<tr><td>2016-06-18</td><td>200</td></tr>\n",
              "\t<tr><td>2016-06-19</td><td>164</td></tr>\n",
              "\t<tr><td>2016-06-20</td><td>146</td></tr>\n",
              "\t<tr><td>2016-06-21</td><td>169</td></tr>\n",
              "\t<tr><td>2016-06-22</td><td>211</td></tr>\n",
              "\t<tr><td>2016-06-23</td><td>247</td></tr>\n",
              "\t<tr><td>2016-06-24</td><td>319</td></tr>\n",
              "\t<tr><td>2016-06-25</td><td>254</td></tr>\n",
              "\t<tr><td>2016-06-26</td><td>258</td></tr>\n",
              "\t<tr><td>2016-06-27</td><td>261</td></tr>\n",
              "\t<tr><td>2016-06-28</td><td>226</td></tr>\n",
              "\t<tr><td>2016-06-29</td><td>293</td></tr>\n",
              "\t<tr><td>2016-06-30</td><td>309</td></tr>\n",
              "</tbody>\n",
              "</table>\n"
            ],
            "text/markdown": "\nA tibble: 2523 × 2\n\n| date &lt;date&gt; | n &lt;int&gt; |\n|---|---|\n| 2009-01-01 | 258 |\n| 2009-01-02 | 314 |\n| 2009-01-03 | 308 |\n| 2009-01-04 | 345 |\n| 2009-01-05 | 349 |\n| 2009-01-06 | 379 |\n| 2009-01-07 | 409 |\n| 2009-01-08 | 375 |\n| 2009-01-09 | 319 |\n| 2009-01-10 | 283 |\n| 2009-01-11 | 320 |\n| 2009-01-12 | 293 |\n| 2009-01-13 | 395 |\n| 2009-01-14 | 390 |\n| 2009-01-15 | 303 |\n| 2009-01-16 | 302 |\n| 2009-01-17 | 306 |\n| 2009-01-18 | 301 |\n| 2009-01-19 | 327 |\n| 2009-01-20 | 338 |\n| 2009-01-21 | 374 |\n| 2009-01-22 | 507 |\n| 2009-01-23 | 329 |\n| 2009-01-24 | 216 |\n| 2009-01-25 | 327 |\n| 2009-01-26 | 250 |\n| 2009-01-27 | 330 |\n| 2009-01-28 | 407 |\n| 2009-01-29 | 296 |\n| 2009-01-30 | 490 |\n| ⋮ | ⋮ |\n| 2016-06-01 | 265 |\n| 2016-06-02 | 241 |\n| 2016-06-03 | 212 |\n| 2016-06-04 | 180 |\n| 2016-06-05 | 123 |\n| 2016-06-06 | 161 |\n| 2016-06-07 | 217 |\n| 2016-06-08 | 296 |\n| 2016-06-09 | 247 |\n| 2016-06-10 | 180 |\n| 2016-06-11 | 191 |\n| 2016-06-12 | 195 |\n| 2016-06-13 | 185 |\n| 2016-06-14 | 200 |\n| 2016-06-15 | 230 |\n| 2016-06-16 | 239 |\n| 2016-06-17 | 250 |\n| 2016-06-18 | 200 |\n| 2016-06-19 | 164 |\n| 2016-06-20 | 146 |\n| 2016-06-21 | 169 |\n| 2016-06-22 | 211 |\n| 2016-06-23 | 247 |\n| 2016-06-24 | 319 |\n| 2016-06-25 | 254 |\n| 2016-06-26 | 258 |\n| 2016-06-27 | 261 |\n| 2016-06-28 | 226 |\n| 2016-06-29 | 293 |\n| 2016-06-30 | 309 |\n\n",
            "text/latex": "A tibble: 2523 × 2\n\\begin{tabular}{ll}\n date & n\\\\\n <date> & <int>\\\\\n\\hline\n\t 2009-01-01 & 258\\\\\n\t 2009-01-02 & 314\\\\\n\t 2009-01-03 & 308\\\\\n\t 2009-01-04 & 345\\\\\n\t 2009-01-05 & 349\\\\\n\t 2009-01-06 & 379\\\\\n\t 2009-01-07 & 409\\\\\n\t 2009-01-08 & 375\\\\\n\t 2009-01-09 & 319\\\\\n\t 2009-01-10 & 283\\\\\n\t 2009-01-11 & 320\\\\\n\t 2009-01-12 & 293\\\\\n\t 2009-01-13 & 395\\\\\n\t 2009-01-14 & 390\\\\\n\t 2009-01-15 & 303\\\\\n\t 2009-01-16 & 302\\\\\n\t 2009-01-17 & 306\\\\\n\t 2009-01-18 & 301\\\\\n\t 2009-01-19 & 327\\\\\n\t 2009-01-20 & 338\\\\\n\t 2009-01-21 & 374\\\\\n\t 2009-01-22 & 507\\\\\n\t 2009-01-23 & 329\\\\\n\t 2009-01-24 & 216\\\\\n\t 2009-01-25 & 327\\\\\n\t 2009-01-26 & 250\\\\\n\t 2009-01-27 & 330\\\\\n\t 2009-01-28 & 407\\\\\n\t 2009-01-29 & 296\\\\\n\t 2009-01-30 & 490\\\\\n\t ⋮ & ⋮\\\\\n\t 2016-06-01 & 265\\\\\n\t 2016-06-02 & 241\\\\\n\t 2016-06-03 & 212\\\\\n\t 2016-06-04 & 180\\\\\n\t 2016-06-05 & 123\\\\\n\t 2016-06-06 & 161\\\\\n\t 2016-06-07 & 217\\\\\n\t 2016-06-08 & 296\\\\\n\t 2016-06-09 & 247\\\\\n\t 2016-06-10 & 180\\\\\n\t 2016-06-11 & 191\\\\\n\t 2016-06-12 & 195\\\\\n\t 2016-06-13 & 185\\\\\n\t 2016-06-14 & 200\\\\\n\t 2016-06-15 & 230\\\\\n\t 2016-06-16 & 239\\\\\n\t 2016-06-17 & 250\\\\\n\t 2016-06-18 & 200\\\\\n\t 2016-06-19 & 164\\\\\n\t 2016-06-20 & 146\\\\\n\t 2016-06-21 & 169\\\\\n\t 2016-06-22 & 211\\\\\n\t 2016-06-23 & 247\\\\\n\t 2016-06-24 & 319\\\\\n\t 2016-06-25 & 254\\\\\n\t 2016-06-26 & 258\\\\\n\t 2016-06-27 & 261\\\\\n\t 2016-06-28 & 226\\\\\n\t 2016-06-29 & 293\\\\\n\t 2016-06-30 & 309\\\\\n\\end{tabular}\n",
            "text/plain": [
              "     date       n  \n",
              "1    2009-01-01 258\n",
              "2    2009-01-02 314\n",
              "3    2009-01-03 308\n",
              "4    2009-01-04 345\n",
              "5    2009-01-05 349\n",
              "6    2009-01-06 379\n",
              "7    2009-01-07 409\n",
              "8    2009-01-08 375\n",
              "9    2009-01-09 319\n",
              "10   2009-01-10 283\n",
              "11   2009-01-11 320\n",
              "12   2009-01-12 293\n",
              "13   2009-01-13 395\n",
              "14   2009-01-14 390\n",
              "15   2009-01-15 303\n",
              "16   2009-01-16 302\n",
              "17   2009-01-17 306\n",
              "18   2009-01-18 301\n",
              "19   2009-01-19 327\n",
              "20   2009-01-20 338\n",
              "21   2009-01-21 374\n",
              "22   2009-01-22 507\n",
              "23   2009-01-23 329\n",
              "24   2009-01-24 216\n",
              "25   2009-01-25 327\n",
              "26   2009-01-26 250\n",
              "27   2009-01-27 330\n",
              "28   2009-01-28 407\n",
              "29   2009-01-29 296\n",
              "30   2009-01-30 490\n",
              "⋮    ⋮          ⋮  \n",
              "2494 2016-06-01 265\n",
              "2495 2016-06-02 241\n",
              "2496 2016-06-03 212\n",
              "2497 2016-06-04 180\n",
              "2498 2016-06-05 123\n",
              "2499 2016-06-06 161\n",
              "2500 2016-06-07 217\n",
              "2501 2016-06-08 296\n",
              "2502 2016-06-09 247\n",
              "2503 2016-06-10 180\n",
              "2504 2016-06-11 191\n",
              "2505 2016-06-12 195\n",
              "2506 2016-06-13 185\n",
              "2507 2016-06-14 200\n",
              "2508 2016-06-15 230\n",
              "2509 2016-06-16 239\n",
              "2510 2016-06-17 250\n",
              "2511 2016-06-18 200\n",
              "2512 2016-06-19 164\n",
              "2513 2016-06-20 146\n",
              "2514 2016-06-21 169\n",
              "2515 2016-06-22 211\n",
              "2516 2016-06-23 247\n",
              "2517 2016-06-24 319\n",
              "2518 2016-06-25 254\n",
              "2519 2016-06-26 258\n",
              "2520 2016-06-27 261\n",
              "2521 2016-06-28 226\n",
              "2522 2016-06-29 293\n",
              "2523 2016-06-30 309"
            ]
          },
          "metadata": {}
        }
      ],
      "source": [
        "## Your code here!\n",
        "# ok i grouped it by the date but how can we group by month\n",
        "stop_by_date = stops %>% count(date)\n",
        "stop_by_date\n"
      ]
    },
    {
      "cell_type": "code",
      "source": [
        "# getting summary of the date, can do this for the entire data set\n",
        "summary(stop_by_date) # we see start: 2009-01-01    end: 2016-06-30"
      ],
      "metadata": {
        "id": "ebC1SHEywjJM",
        "outputId": "d3fbf7ca-1dbd-45bc-d6d0-f92d196a671c",
        "colab": {
          "base_uri": "https://localhost:8080/",
          "height": 138
        }
      },
      "execution_count": 50,
      "outputs": [
        {
          "output_type": "display_data",
          "data": {
            "text/plain": [
              "      date                  n      \n",
              " Min.   :2009-01-01   Min.   :  1  \n",
              " 1st Qu.:2010-09-23   1st Qu.:205  \n",
              " Median :2012-06-15   Median :247  \n",
              " Mean   :2012-07-31   Mean   :252  \n",
              " 3rd Qu.:2014-03-07   3rd Qu.:296  \n",
              " Max.   :2016-06-30   Max.   :630  "
            ]
          },
          "metadata": {}
        }
      ]
    },
    {
      "cell_type": "code",
      "source": [
        "max(stop_by_date$n)\n",
        "#filtering the data to find what datee holds the highest number of stops\n",
        "most_stops <- stop_by_date$date[stop_by_date$n == 630]\n",
        "most_stops # 2009-03-20"
      ],
      "metadata": {
        "id": "bbGeev7KwpE9",
        "outputId": "7be84af9-1bf3-4f81-f228-a92135b6aa4b",
        "colab": {
          "base_uri": "https://localhost:8080/",
          "height": 52
        }
      },
      "execution_count": 51,
      "outputs": [
        {
          "output_type": "display_data",
          "data": {
            "text/html": [
              "630"
            ],
            "text/markdown": "630",
            "text/latex": "630",
            "text/plain": [
              "[1] 630"
            ]
          },
          "metadata": {}
        },
        {
          "output_type": "display_data",
          "data": {
            "text/html": [
              "<time datetime=\"2009-03-20\">2009-03-20</time>"
            ],
            "text/markdown": "2009-03-20",
            "text/latex": "2009-03-20",
            "text/plain": [
              "[1] \"2009-03-20\""
            ]
          },
          "metadata": {}
        }
      ]
    },
    {
      "cell_type": "markdown",
      "source": [
        "Finding the earliest stop by using the sumary info"
      ],
      "metadata": {
        "id": "RFssLnEfxpGJ"
      }
    },
    {
      "cell_type": "code",
      "source": [
        "nrow(stops)"
      ],
      "metadata": {
        "id": "-Xod1LTcxm6T",
        "outputId": "c52bdfaa-7c00-4d6b-bef7-faf33d3a44fa",
        "colab": {
          "base_uri": "https://localhost:8080/",
          "height": 34
        }
      },
      "execution_count": 48,
      "outputs": [
        {
          "output_type": "display_data",
          "data": {
            "text/html": [
              "636161"
            ],
            "text/markdown": "636161",
            "text/latex": "636161",
            "text/plain": [
              "[1] 636161"
            ]
          },
          "metadata": {}
        }
      ]
    },
    {
      "cell_type": "markdown",
      "metadata": {
        "id": "gMK-kC71mtN0"
      },
      "source": [
        "## 🚰 The pipe: `%>%`\n",
        "\n",
        "Both of these lines of code do exactly the same thing:"
      ]
    },
    {
      "cell_type": "code",
      "execution_count": 32,
      "metadata": {
        "id": "EW1Mg3mNmtN0",
        "outputId": "514f2ddd-e5ce-425e-bc81-e3336bcbbb7d",
        "colab": {
          "base_uri": "https://localhost:8080/"
        }
      },
      "outputs": [
        {
          "output_type": "stream",
          "name": "stdout",
          "text": [
            "[1] 636161\n",
            "[1] 636161\n"
          ]
        }
      ],
      "source": [
        "# Method 1\n",
        "print(nrow(stops))\n",
        "\n",
        "# Method 2\n",
        "stops %>%\n",
        "    nrow() %>%\n",
        "    print()"
      ]
    },
    {
      "cell_type": "markdown",
      "metadata": {
        "id": "TktpCCnkmtN0"
      },
      "source": [
        "Why should we care? Read on to find out!\n",
        "\n",
        "### The math of the pipe `%>%`\n",
        "\n",
        "To process a dataset, we may have to use several functions. For example, we may want to use function `a`, then function `b`, and finally function `c`:\n",
        "\n",
        "```\n",
        "c(b(a(data)))\n",
        "```\n",
        "\n",
        "To understand what this code is doing, we have to read the code ⏪inside out⏩: we start with `a`, then apply `b`, then apply `c`.\n",
        "\n",
        "🙀 If we start adding more functions, things gets messy:\n",
        "\n",
        "```\n",
        "f(e(d(c(b(a(data))))))\n",
        "```\n",
        "\n",
        "\n",
        "The pipe `%>%` allows us to turn our code inside out. This makes our code read more like a sentence:\n",
        "\n",
        "```\n",
        "# do a(), then b(), then c(), then d(), then e(), then f()\n",
        "\n",
        "data %>% a() %>% b() %>% c() %>% d() %>% e() %>% f()\n",
        "```\n",
        "\n",
        "More readably:\n",
        "\n",
        "```\n",
        "data %>%\n",
        "    a() %>%\n",
        "    b() %>%\n",
        "    c() %>%\n",
        "    d() %>%\n",
        "    e() %>%\n",
        "    f()\n",
        "```\n",
        "\n",
        "The pipe pushes (i.e., pipes!) what's on the left of the pipe `%>%` into the first argument of the function on the right:\n",
        "\n",
        "```\n",
        "x %>% f() == f(x)\n",
        "x %>% f(y) == f(x, y)\n",
        "x %>% f(y, z) == f(x, y, z)\n",
        "```\n",
        "\n",
        "The pipe `%>%` really ☀️shines☀️ when you have a lot of steps!"
      ]
    },
    {
      "cell_type": "markdown",
      "metadata": {
        "id": "-Du2u38EmtN0"
      },
      "source": [
        "## 📝 Adding new columns with `mutate`\n",
        "\n",
        "Our data extends from 2009 to the first half of 2016. Suppose want to examine the most recent full year of data: 2015.\n",
        "\n",
        "Problem: We don't have a `year` column. To add new columns, we use `mutate`."
      ]
    },
    {
      "cell_type": "markdown",
      "metadata": {
        "id": "Jy9_qTwymtN0"
      },
      "source": [
        "🖥️ Usage: `mutate(data, new_col = f(existing_col))`\n",
        "* `data`: the data frame\n",
        "* `new_col`: name of the new column to add\n",
        "* `f`: function to apply to existing column(s) to generate the new column\n",
        "* `existing_col`: name of existing column\n",
        "\n",
        "For example, here's how we could add a column to `stops` containing the first digit of the driver's age."
      ]
    },
    {
      "cell_type": "code",
      "execution_count": 34,
      "metadata": {
        "id": "EQxK6ZxdmtN0",
        "outputId": "46added4-bbae-4206-8456-eb5e538af71d",
        "colab": {
          "base_uri": "https://localhost:8080/",
          "height": 286
        }
      },
      "outputs": [
        {
          "output_type": "display_data",
          "data": {
            "text/html": [
              "<table class=\"dataframe\">\n",
              "<caption>A tibble: 6 × 14</caption>\n",
              "<thead>\n",
              "\t<tr><th scope=col>date</th><th scope=col>time</th><th scope=col>location</th><th scope=col>lat</th><th scope=col>lng</th><th scope=col>district</th><th scope=col>age</th><th scope=col>race</th><th scope=col>gender</th><th scope=col>arrested</th><th scope=col>contraband_found</th><th scope=col>searched</th><th scope=col>reason_for_stop</th><th scope=col>age_first_digit</th></tr>\n",
              "\t<tr><th scope=col>&lt;date&gt;</th><th scope=col>&lt;time&gt;</th><th scope=col>&lt;chr&gt;</th><th scope=col>&lt;dbl&gt;</th><th scope=col>&lt;dbl&gt;</th><th scope=col>&lt;chr&gt;</th><th scope=col>&lt;int&gt;</th><th scope=col>&lt;chr&gt;</th><th scope=col>&lt;fct&gt;</th><th scope=col>&lt;lgl&gt;</th><th scope=col>&lt;lgl&gt;</th><th scope=col>&lt;lgl&gt;</th><th scope=col>&lt;chr&gt;</th><th scope=col>&lt;dbl&gt;</th></tr>\n",
              "</thead>\n",
              "<tbody>\n",
              "\t<tr><td>2009-01-01</td><td>10:10:00</td><td>1736 PALOU      </td><td>37.7</td><td>-122</td><td>C</td><td>22</td><td>black</td><td>female</td><td>FALSE</td><td>FALSE</td><td> TRUE</td><td>Equipment violation</td><td>2</td></tr>\n",
              "\t<tr><td>2009-01-01</td><td>10:15:00</td><td>THRIFT/PLYMTH   </td><td>37.7</td><td>-122</td><td>I</td><td>44</td><td>black</td><td>male  </td><td>FALSE</td><td>   NA</td><td>FALSE</td><td>Moving violation   </td><td>4</td></tr>\n",
              "\t<tr><td>2009-01-01</td><td>10:20:00</td><td>FLORIDA/19TH    </td><td>37.8</td><td>-122</td><td>D</td><td>45</td><td>white</td><td>female</td><td>FALSE</td><td>   NA</td><td>FALSE</td><td>Equipment violation</td><td>4</td></tr>\n",
              "\t<tr><td>2009-01-01</td><td>10:20:00</td><td>19TH AVE/MORAGAE</td><td>37.8</td><td>-122</td><td>I</td><td>27</td><td>white</td><td>male  </td><td>FALSE</td><td>   NA</td><td>FALSE</td><td>Equipment violation</td><td>2</td></tr>\n",
              "\t<tr><td>2009-01-01</td><td>10:36:00</td><td>19TH/LINCOLN    </td><td>37.8</td><td>-122</td><td>I</td><td>29</td><td>white</td><td>male  </td><td>FALSE</td><td>   NA</td><td>FALSE</td><td>Equipment violation</td><td>2</td></tr>\n",
              "\t<tr><td>2009-01-01</td><td>10:40:00</td><td><span style=white-space:pre-wrap>16TH&amp;JULIAN     </span></td><td>37.8</td><td>-122</td><td>D</td><td>34</td><td>black</td><td><span style=white-space:pre-wrap>male  </span></td><td>FALSE</td><td><span style=white-space:pre-wrap>   NA</span></td><td>FALSE</td><td><span style=white-space:pre-wrap>Moving violation   </span></td><td>3</td></tr>\n",
              "</tbody>\n",
              "</table>\n"
            ],
            "text/markdown": "\nA tibble: 6 × 14\n\n| date &lt;date&gt; | time &lt;time&gt; | location &lt;chr&gt; | lat &lt;dbl&gt; | lng &lt;dbl&gt; | district &lt;chr&gt; | age &lt;int&gt; | race &lt;chr&gt; | gender &lt;fct&gt; | arrested &lt;lgl&gt; | contraband_found &lt;lgl&gt; | searched &lt;lgl&gt; | reason_for_stop &lt;chr&gt; | age_first_digit &lt;dbl&gt; |\n|---|---|---|---|---|---|---|---|---|---|---|---|---|---|\n| 2009-01-01 | 10:10:00 | 1736 PALOU       | 37.7 | -122 | C | 22 | black | female | FALSE | FALSE |  TRUE | Equipment violation | 2 |\n| 2009-01-01 | 10:15:00 | THRIFT/PLYMTH    | 37.7 | -122 | I | 44 | black | male   | FALSE |    NA | FALSE | Moving violation    | 4 |\n| 2009-01-01 | 10:20:00 | FLORIDA/19TH     | 37.8 | -122 | D | 45 | white | female | FALSE |    NA | FALSE | Equipment violation | 4 |\n| 2009-01-01 | 10:20:00 | 19TH AVE/MORAGAE | 37.8 | -122 | I | 27 | white | male   | FALSE |    NA | FALSE | Equipment violation | 2 |\n| 2009-01-01 | 10:36:00 | 19TH/LINCOLN     | 37.8 | -122 | I | 29 | white | male   | FALSE |    NA | FALSE | Equipment violation | 2 |\n| 2009-01-01 | 10:40:00 | 16TH&amp;JULIAN      | 37.8 | -122 | D | 34 | black | male   | FALSE |    NA | FALSE | Moving violation    | 3 |\n\n",
            "text/latex": "A tibble: 6 × 14\n\\begin{tabular}{llllllllllllll}\n date & time & location & lat & lng & district & age & race & gender & arrested & contraband\\_found & searched & reason\\_for\\_stop & age\\_first\\_digit\\\\\n <date> & <time> & <chr> & <dbl> & <dbl> & <chr> & <int> & <chr> & <fct> & <lgl> & <lgl> & <lgl> & <chr> & <dbl>\\\\\n\\hline\n\t 2009-01-01 & 10:10:00 & 1736 PALOU       & 37.7 & -122 & C & 22 & black & female & FALSE & FALSE &  TRUE & Equipment violation & 2\\\\\n\t 2009-01-01 & 10:15:00 & THRIFT/PLYMTH    & 37.7 & -122 & I & 44 & black & male   & FALSE &    NA & FALSE & Moving violation    & 4\\\\\n\t 2009-01-01 & 10:20:00 & FLORIDA/19TH     & 37.8 & -122 & D & 45 & white & female & FALSE &    NA & FALSE & Equipment violation & 4\\\\\n\t 2009-01-01 & 10:20:00 & 19TH AVE/MORAGAE & 37.8 & -122 & I & 27 & white & male   & FALSE &    NA & FALSE & Equipment violation & 2\\\\\n\t 2009-01-01 & 10:36:00 & 19TH/LINCOLN     & 37.8 & -122 & I & 29 & white & male   & FALSE &    NA & FALSE & Equipment violation & 2\\\\\n\t 2009-01-01 & 10:40:00 & 16TH\\&JULIAN      & 37.8 & -122 & D & 34 & black & male   & FALSE &    NA & FALSE & Moving violation    & 3\\\\\n\\end{tabular}\n",
            "text/plain": [
              "  date       time     location         lat  lng  district age race  gender\n",
              "1 2009-01-01 10:10:00 1736 PALOU       37.7 -122 C        22  black female\n",
              "2 2009-01-01 10:15:00 THRIFT/PLYMTH    37.7 -122 I        44  black male  \n",
              "3 2009-01-01 10:20:00 FLORIDA/19TH     37.8 -122 D        45  white female\n",
              "4 2009-01-01 10:20:00 19TH AVE/MORAGAE 37.8 -122 I        27  white male  \n",
              "5 2009-01-01 10:36:00 19TH/LINCOLN     37.8 -122 I        29  white male  \n",
              "6 2009-01-01 10:40:00 16TH&JULIAN      37.8 -122 D        34  black male  \n",
              "  arrested contraband_found searched reason_for_stop     age_first_digit\n",
              "1 FALSE    FALSE             TRUE    Equipment violation 2              \n",
              "2 FALSE       NA            FALSE    Moving violation    4              \n",
              "3 FALSE       NA            FALSE    Equipment violation 4              \n",
              "4 FALSE       NA            FALSE    Equipment violation 2              \n",
              "5 FALSE       NA            FALSE    Equipment violation 2              \n",
              "6 FALSE       NA            FALSE    Moving violation    3              "
            ]
          },
          "metadata": {}
        }
      ],
      "source": [
        "# adding in age_first_digit column\n",
        "stops %>%\n",
        "    mutate(age_first_digit = floor(age/10)) %>%\n",
        "    head()"
      ]
    },
    {
      "cell_type": "markdown",
      "metadata": {
        "id": "ffTDJoksmtN0"
      },
      "source": [
        "❗❗❗Important note❗❗❗: Most `R` functions are \"copy on modify\". In other words, when we apply a function to data, `R` creates a copy of the data and then modifies the copy. The original data is unchanged.\n",
        "\n",
        "So, `mutate` alone will not change the original data."
      ]
    },
    {
      "cell_type": "markdown",
      "metadata": {
        "tags": [],
        "id": "YcRyGcxGmtN0"
      },
      "source": [
        "### 🚀 Exercise\n",
        "\n",
        "1. Use `year()` and `mutate()` to add a new column called `yr` to our `stops` data.\n",
        "\n",
        "> You can read about the `year()` function by running `?year`.\n",
        "\n",
        "2. Assign the resulting data frame to a new variable called `stops_w_yr`.\n",
        "\n",
        "3. Finally, run `count(stops_w_yr, yr)`.\n",
        "\n",
        "> What do you think `count` does? Do you notice any patterns?"
      ]
    },
    {
      "cell_type": "code",
      "source": [
        "?year"
      ],
      "metadata": {
        "id": "bARhdPmJzVVf"
      },
      "execution_count": 52,
      "outputs": []
    },
    {
      "cell_type": "code",
      "execution_count": 62,
      "metadata": {
        "id": "76VSWejhmtN1"
      },
      "outputs": [],
      "source": [
        "# Your code here!\n",
        "# adding in the yr column\n",
        "stops_w_yr <- stops %>%\n",
        "    mutate(yr = year(date))"
      ]
    },
    {
      "cell_type": "code",
      "source": [
        "# getting the count of stops per year\n",
        "count(stops_w_yr, yr)"
      ],
      "metadata": {
        "id": "3cBefVdw0LD6",
        "outputId": "5f6af614-8b27-4029-d391-343852ec13c7",
        "colab": {
          "base_uri": "https://localhost:8080/",
          "height": 349
        }
      },
      "execution_count": 63,
      "outputs": [
        {
          "output_type": "display_data",
          "data": {
            "text/html": [
              "<table class=\"dataframe\">\n",
              "<caption>A tibble: 8 × 2</caption>\n",
              "<thead>\n",
              "\t<tr><th scope=col>yr</th><th scope=col>n</th></tr>\n",
              "\t<tr><th scope=col>&lt;dbl&gt;</th><th scope=col>&lt;int&gt;</th></tr>\n",
              "</thead>\n",
              "<tbody>\n",
              "\t<tr><td>2009</td><td>110269</td></tr>\n",
              "\t<tr><td>2010</td><td>104254</td></tr>\n",
              "\t<tr><td>2011</td><td> 99476</td></tr>\n",
              "\t<tr><td>2012</td><td> 82362</td></tr>\n",
              "\t<tr><td>2013</td><td> 74144</td></tr>\n",
              "\t<tr><td>2014</td><td> 39752</td></tr>\n",
              "\t<tr><td>2015</td><td> 85689</td></tr>\n",
              "\t<tr><td>2016</td><td> 40215</td></tr>\n",
              "</tbody>\n",
              "</table>\n"
            ],
            "text/markdown": "\nA tibble: 8 × 2\n\n| yr &lt;dbl&gt; | n &lt;int&gt; |\n|---|---|\n| 2009 | 110269 |\n| 2010 | 104254 |\n| 2011 |  99476 |\n| 2012 |  82362 |\n| 2013 |  74144 |\n| 2014 |  39752 |\n| 2015 |  85689 |\n| 2016 |  40215 |\n\n",
            "text/latex": "A tibble: 8 × 2\n\\begin{tabular}{ll}\n yr & n\\\\\n <dbl> & <int>\\\\\n\\hline\n\t 2009 & 110269\\\\\n\t 2010 & 104254\\\\\n\t 2011 &  99476\\\\\n\t 2012 &  82362\\\\\n\t 2013 &  74144\\\\\n\t 2014 &  39752\\\\\n\t 2015 &  85689\\\\\n\t 2016 &  40215\\\\\n\\end{tabular}\n",
            "text/plain": [
              "  yr   n     \n",
              "1 2009 110269\n",
              "2 2010 104254\n",
              "3 2011  99476\n",
              "4 2012  82362\n",
              "5 2013  74144\n",
              "6 2014  39752\n",
              "7 2015  85689\n",
              "8 2016  40215"
            ]
          },
          "metadata": {}
        }
      ]
    },
    {
      "cell_type": "markdown",
      "metadata": {
        "id": "TPxnHP9mmtN1"
      },
      "source": [
        "## 📝 Selecting rows with `filter`\n",
        "\n",
        "Now that we have a `yr` column, we want to limit our data to just the stops in 2015.\n",
        "\n",
        "Problem: We have data from 2009 to 2016. To limit to specific rows, we use `filter`."
      ]
    },
    {
      "cell_type": "markdown",
      "metadata": {
        "id": "1zsjXoBymtN1"
      },
      "source": [
        "🖥️ Usage: `filter(data, condition)`\n",
        "* `data`: the data frame\n",
        "* `condition`: a boolean vector where TRUE indicates the rows in `data` to keep.\n",
        "\n",
        "For example, here's how we could limit `stops` to drivers under 30 years old:"
      ]
    },
    {
      "cell_type": "code",
      "execution_count": 60,
      "metadata": {
        "id": "XbByfv8umtN1",
        "outputId": "a61c67cb-159a-499b-be6e-30a3aaf03fa3",
        "colab": {
          "base_uri": "https://localhost:8080/",
          "height": 286
        }
      },
      "outputs": [
        {
          "output_type": "display_data",
          "data": {
            "text/html": [
              "<table class=\"dataframe\">\n",
              "<caption>A tibble: 6 × 13</caption>\n",
              "<thead>\n",
              "\t<tr><th scope=col>date</th><th scope=col>time</th><th scope=col>location</th><th scope=col>lat</th><th scope=col>lng</th><th scope=col>district</th><th scope=col>age</th><th scope=col>race</th><th scope=col>gender</th><th scope=col>arrested</th><th scope=col>contraband_found</th><th scope=col>searched</th><th scope=col>reason_for_stop</th></tr>\n",
              "\t<tr><th scope=col>&lt;date&gt;</th><th scope=col>&lt;time&gt;</th><th scope=col>&lt;chr&gt;</th><th scope=col>&lt;dbl&gt;</th><th scope=col>&lt;dbl&gt;</th><th scope=col>&lt;chr&gt;</th><th scope=col>&lt;int&gt;</th><th scope=col>&lt;chr&gt;</th><th scope=col>&lt;fct&gt;</th><th scope=col>&lt;lgl&gt;</th><th scope=col>&lt;lgl&gt;</th><th scope=col>&lt;lgl&gt;</th><th scope=col>&lt;chr&gt;</th></tr>\n",
              "</thead>\n",
              "<tbody>\n",
              "\t<tr><td>2009-01-01</td><td>10:10:00</td><td>1736 PALOU            </td><td>37.7</td><td>-122</td><td>C</td><td>22</td><td>black</td><td>female</td><td>FALSE</td><td>FALSE</td><td> TRUE</td><td>Equipment violation</td></tr>\n",
              "\t<tr><td>2009-01-01</td><td>10:20:00</td><td>19TH AVE/MORAGAE      </td><td>37.8</td><td>-122</td><td>I</td><td>27</td><td>white</td><td>male  </td><td>FALSE</td><td>   NA</td><td>FALSE</td><td>Equipment violation</td></tr>\n",
              "\t<tr><td>2009-01-01</td><td>10:36:00</td><td>19TH/LINCOLN          </td><td>37.8</td><td>-122</td><td>I</td><td>29</td><td>white</td><td>male  </td><td>FALSE</td><td>   NA</td><td>FALSE</td><td>Equipment violation</td></tr>\n",
              "\t<tr><td>2009-01-01</td><td>10:44:00</td><td>19TH/SANTIAGO         </td><td>37.7</td><td>-122</td><td>I</td><td>29</td><td>white</td><td>female</td><td>FALSE</td><td>   NA</td><td>FALSE</td><td>Equipment violation</td></tr>\n",
              "\t<tr><td>2009-01-01</td><td>10:55:00</td><td>LA SALLE @ NEWCOMB    </td><td>37.7</td><td>-122</td><td>C</td><td>26</td><td>black</td><td>male  </td><td>FALSE</td><td>FALSE</td><td> TRUE</td><td>Moving violation   </td></tr>\n",
              "\t<tr><td>2009-01-01</td><td>01:10:00</td><td>CORDELIA AL &amp; BROADWAY</td><td>37.8</td><td>-122</td><td>A</td><td>19</td><td>black</td><td><span style=white-space:pre-wrap>male  </span></td><td>FALSE</td><td><span style=white-space:pre-wrap>   NA</span></td><td>FALSE</td><td><span style=white-space:pre-wrap>Moving violation   </span></td></tr>\n",
              "</tbody>\n",
              "</table>\n"
            ],
            "text/markdown": "\nA tibble: 6 × 13\n\n| date &lt;date&gt; | time &lt;time&gt; | location &lt;chr&gt; | lat &lt;dbl&gt; | lng &lt;dbl&gt; | district &lt;chr&gt; | age &lt;int&gt; | race &lt;chr&gt; | gender &lt;fct&gt; | arrested &lt;lgl&gt; | contraband_found &lt;lgl&gt; | searched &lt;lgl&gt; | reason_for_stop &lt;chr&gt; |\n|---|---|---|---|---|---|---|---|---|---|---|---|---|\n| 2009-01-01 | 10:10:00 | 1736 PALOU             | 37.7 | -122 | C | 22 | black | female | FALSE | FALSE |  TRUE | Equipment violation |\n| 2009-01-01 | 10:20:00 | 19TH AVE/MORAGAE       | 37.8 | -122 | I | 27 | white | male   | FALSE |    NA | FALSE | Equipment violation |\n| 2009-01-01 | 10:36:00 | 19TH/LINCOLN           | 37.8 | -122 | I | 29 | white | male   | FALSE |    NA | FALSE | Equipment violation |\n| 2009-01-01 | 10:44:00 | 19TH/SANTIAGO          | 37.7 | -122 | I | 29 | white | female | FALSE |    NA | FALSE | Equipment violation |\n| 2009-01-01 | 10:55:00 | LA SALLE @ NEWCOMB     | 37.7 | -122 | C | 26 | black | male   | FALSE | FALSE |  TRUE | Moving violation    |\n| 2009-01-01 | 01:10:00 | CORDELIA AL &amp; BROADWAY | 37.8 | -122 | A | 19 | black | male   | FALSE |    NA | FALSE | Moving violation    |\n\n",
            "text/latex": "A tibble: 6 × 13\n\\begin{tabular}{lllllllllllll}\n date & time & location & lat & lng & district & age & race & gender & arrested & contraband\\_found & searched & reason\\_for\\_stop\\\\\n <date> & <time> & <chr> & <dbl> & <dbl> & <chr> & <int> & <chr> & <fct> & <lgl> & <lgl> & <lgl> & <chr>\\\\\n\\hline\n\t 2009-01-01 & 10:10:00 & 1736 PALOU             & 37.7 & -122 & C & 22 & black & female & FALSE & FALSE &  TRUE & Equipment violation\\\\\n\t 2009-01-01 & 10:20:00 & 19TH AVE/MORAGAE       & 37.8 & -122 & I & 27 & white & male   & FALSE &    NA & FALSE & Equipment violation\\\\\n\t 2009-01-01 & 10:36:00 & 19TH/LINCOLN           & 37.8 & -122 & I & 29 & white & male   & FALSE &    NA & FALSE & Equipment violation\\\\\n\t 2009-01-01 & 10:44:00 & 19TH/SANTIAGO          & 37.7 & -122 & I & 29 & white & female & FALSE &    NA & FALSE & Equipment violation\\\\\n\t 2009-01-01 & 10:55:00 & LA SALLE @ NEWCOMB     & 37.7 & -122 & C & 26 & black & male   & FALSE & FALSE &  TRUE & Moving violation   \\\\\n\t 2009-01-01 & 01:10:00 & CORDELIA AL \\& BROADWAY & 37.8 & -122 & A & 19 & black & male   & FALSE &    NA & FALSE & Moving violation   \\\\\n\\end{tabular}\n",
            "text/plain": [
              "  date       time     location               lat  lng  district age race \n",
              "1 2009-01-01 10:10:00 1736 PALOU             37.7 -122 C        22  black\n",
              "2 2009-01-01 10:20:00 19TH AVE/MORAGAE       37.8 -122 I        27  white\n",
              "3 2009-01-01 10:36:00 19TH/LINCOLN           37.8 -122 I        29  white\n",
              "4 2009-01-01 10:44:00 19TH/SANTIAGO          37.7 -122 I        29  white\n",
              "5 2009-01-01 10:55:00 LA SALLE @ NEWCOMB     37.7 -122 C        26  black\n",
              "6 2009-01-01 01:10:00 CORDELIA AL & BROADWAY 37.8 -122 A        19  black\n",
              "  gender arrested contraband_found searched reason_for_stop    \n",
              "1 female FALSE    FALSE             TRUE    Equipment violation\n",
              "2 male   FALSE       NA            FALSE    Equipment violation\n",
              "3 male   FALSE       NA            FALSE    Equipment violation\n",
              "4 female FALSE       NA            FALSE    Equipment violation\n",
              "5 male   FALSE    FALSE             TRUE    Moving violation   \n",
              "6 male   FALSE       NA            FALSE    Moving violation   "
            ]
          },
          "metadata": {}
        }
      ],
      "source": [
        "stops %>%\n",
        "    filter(age < 30) %>%\n",
        "    head()"
      ]
    },
    {
      "cell_type": "markdown",
      "metadata": {
        "tags": [],
        "id": "y5qsQi5xmtN1"
      },
      "source": [
        "### 🚀 Exercise\n",
        "\n",
        "1. Use `filter()` to filter the `stops` data to just 2015. Assign the result to a variable called `stops_2015`.\n",
        "\n",
        "2. In the previous exercise, we saw that there were a lot fewer stops in 2014 than expected. Figure out why.\n",
        "\n",
        "3. For practice, filter to stops occurring in 2013 or 2014 among female drivers less than 30 years old or more than 60 years old."
      ]
    },
    {
      "cell_type": "code",
      "execution_count": 64,
      "metadata": {
        "id": "60kT5FUymtN1",
        "outputId": "b6879bed-bfda-457b-c595-ed0ebc6b7520",
        "colab": {
          "base_uri": "https://localhost:8080/",
          "height": 286
        }
      },
      "outputs": [
        {
          "output_type": "display_data",
          "data": {
            "text/html": [
              "<table class=\"dataframe\">\n",
              "<caption>A tibble: 6 × 14</caption>\n",
              "<thead>\n",
              "\t<tr><th scope=col>date</th><th scope=col>time</th><th scope=col>location</th><th scope=col>lat</th><th scope=col>lng</th><th scope=col>district</th><th scope=col>age</th><th scope=col>race</th><th scope=col>gender</th><th scope=col>arrested</th><th scope=col>contraband_found</th><th scope=col>searched</th><th scope=col>reason_for_stop</th><th scope=col>yr</th></tr>\n",
              "\t<tr><th scope=col>&lt;date&gt;</th><th scope=col>&lt;time&gt;</th><th scope=col>&lt;chr&gt;</th><th scope=col>&lt;dbl&gt;</th><th scope=col>&lt;dbl&gt;</th><th scope=col>&lt;chr&gt;</th><th scope=col>&lt;int&gt;</th><th scope=col>&lt;chr&gt;</th><th scope=col>&lt;fct&gt;</th><th scope=col>&lt;lgl&gt;</th><th scope=col>&lt;lgl&gt;</th><th scope=col>&lt;lgl&gt;</th><th scope=col>&lt;chr&gt;</th><th scope=col>&lt;dbl&gt;</th></tr>\n",
              "</thead>\n",
              "<tbody>\n",
              "\t<tr><td>2009-01-01</td><td>10:10:00</td><td>1736 PALOU      </td><td>37.7</td><td>-122</td><td>C</td><td>22</td><td>black</td><td>female</td><td>FALSE</td><td>FALSE</td><td> TRUE</td><td>Equipment violation</td><td>2009</td></tr>\n",
              "\t<tr><td>2009-01-01</td><td>10:15:00</td><td>THRIFT/PLYMTH   </td><td>37.7</td><td>-122</td><td>I</td><td>44</td><td>black</td><td>male  </td><td>FALSE</td><td>   NA</td><td>FALSE</td><td>Moving violation   </td><td>2009</td></tr>\n",
              "\t<tr><td>2009-01-01</td><td>10:20:00</td><td>FLORIDA/19TH    </td><td>37.8</td><td>-122</td><td>D</td><td>45</td><td>white</td><td>female</td><td>FALSE</td><td>   NA</td><td>FALSE</td><td>Equipment violation</td><td>2009</td></tr>\n",
              "\t<tr><td>2009-01-01</td><td>10:20:00</td><td>19TH AVE/MORAGAE</td><td>37.8</td><td>-122</td><td>I</td><td>27</td><td>white</td><td>male  </td><td>FALSE</td><td>   NA</td><td>FALSE</td><td>Equipment violation</td><td>2009</td></tr>\n",
              "\t<tr><td>2009-01-01</td><td>10:36:00</td><td>19TH/LINCOLN    </td><td>37.8</td><td>-122</td><td>I</td><td>29</td><td>white</td><td>male  </td><td>FALSE</td><td>   NA</td><td>FALSE</td><td>Equipment violation</td><td>2009</td></tr>\n",
              "\t<tr><td>2009-01-01</td><td>10:40:00</td><td><span style=white-space:pre-wrap>16TH&amp;JULIAN     </span></td><td>37.8</td><td>-122</td><td>D</td><td>34</td><td>black</td><td><span style=white-space:pre-wrap>male  </span></td><td>FALSE</td><td><span style=white-space:pre-wrap>   NA</span></td><td>FALSE</td><td><span style=white-space:pre-wrap>Moving violation   </span></td><td>2009</td></tr>\n",
              "</tbody>\n",
              "</table>\n"
            ],
            "text/markdown": "\nA tibble: 6 × 14\n\n| date &lt;date&gt; | time &lt;time&gt; | location &lt;chr&gt; | lat &lt;dbl&gt; | lng &lt;dbl&gt; | district &lt;chr&gt; | age &lt;int&gt; | race &lt;chr&gt; | gender &lt;fct&gt; | arrested &lt;lgl&gt; | contraband_found &lt;lgl&gt; | searched &lt;lgl&gt; | reason_for_stop &lt;chr&gt; | yr &lt;dbl&gt; |\n|---|---|---|---|---|---|---|---|---|---|---|---|---|---|\n| 2009-01-01 | 10:10:00 | 1736 PALOU       | 37.7 | -122 | C | 22 | black | female | FALSE | FALSE |  TRUE | Equipment violation | 2009 |\n| 2009-01-01 | 10:15:00 | THRIFT/PLYMTH    | 37.7 | -122 | I | 44 | black | male   | FALSE |    NA | FALSE | Moving violation    | 2009 |\n| 2009-01-01 | 10:20:00 | FLORIDA/19TH     | 37.8 | -122 | D | 45 | white | female | FALSE |    NA | FALSE | Equipment violation | 2009 |\n| 2009-01-01 | 10:20:00 | 19TH AVE/MORAGAE | 37.8 | -122 | I | 27 | white | male   | FALSE |    NA | FALSE | Equipment violation | 2009 |\n| 2009-01-01 | 10:36:00 | 19TH/LINCOLN     | 37.8 | -122 | I | 29 | white | male   | FALSE |    NA | FALSE | Equipment violation | 2009 |\n| 2009-01-01 | 10:40:00 | 16TH&amp;JULIAN      | 37.8 | -122 | D | 34 | black | male   | FALSE |    NA | FALSE | Moving violation    | 2009 |\n\n",
            "text/latex": "A tibble: 6 × 14\n\\begin{tabular}{llllllllllllll}\n date & time & location & lat & lng & district & age & race & gender & arrested & contraband\\_found & searched & reason\\_for\\_stop & yr\\\\\n <date> & <time> & <chr> & <dbl> & <dbl> & <chr> & <int> & <chr> & <fct> & <lgl> & <lgl> & <lgl> & <chr> & <dbl>\\\\\n\\hline\n\t 2009-01-01 & 10:10:00 & 1736 PALOU       & 37.7 & -122 & C & 22 & black & female & FALSE & FALSE &  TRUE & Equipment violation & 2009\\\\\n\t 2009-01-01 & 10:15:00 & THRIFT/PLYMTH    & 37.7 & -122 & I & 44 & black & male   & FALSE &    NA & FALSE & Moving violation    & 2009\\\\\n\t 2009-01-01 & 10:20:00 & FLORIDA/19TH     & 37.8 & -122 & D & 45 & white & female & FALSE &    NA & FALSE & Equipment violation & 2009\\\\\n\t 2009-01-01 & 10:20:00 & 19TH AVE/MORAGAE & 37.8 & -122 & I & 27 & white & male   & FALSE &    NA & FALSE & Equipment violation & 2009\\\\\n\t 2009-01-01 & 10:36:00 & 19TH/LINCOLN     & 37.8 & -122 & I & 29 & white & male   & FALSE &    NA & FALSE & Equipment violation & 2009\\\\\n\t 2009-01-01 & 10:40:00 & 16TH\\&JULIAN      & 37.8 & -122 & D & 34 & black & male   & FALSE &    NA & FALSE & Moving violation    & 2009\\\\\n\\end{tabular}\n",
            "text/plain": [
              "  date       time     location         lat  lng  district age race  gender\n",
              "1 2009-01-01 10:10:00 1736 PALOU       37.7 -122 C        22  black female\n",
              "2 2009-01-01 10:15:00 THRIFT/PLYMTH    37.7 -122 I        44  black male  \n",
              "3 2009-01-01 10:20:00 FLORIDA/19TH     37.8 -122 D        45  white female\n",
              "4 2009-01-01 10:20:00 19TH AVE/MORAGAE 37.8 -122 I        27  white male  \n",
              "5 2009-01-01 10:36:00 19TH/LINCOLN     37.8 -122 I        29  white male  \n",
              "6 2009-01-01 10:40:00 16TH&JULIAN      37.8 -122 D        34  black male  \n",
              "  arrested contraband_found searched reason_for_stop     yr  \n",
              "1 FALSE    FALSE             TRUE    Equipment violation 2009\n",
              "2 FALSE       NA            FALSE    Moving violation    2009\n",
              "3 FALSE       NA            FALSE    Equipment violation 2009\n",
              "4 FALSE       NA            FALSE    Equipment violation 2009\n",
              "5 FALSE       NA            FALSE    Equipment violation 2009\n",
              "6 FALSE       NA            FALSE    Moving violation    2009"
            ]
          },
          "metadata": {}
        }
      ],
      "source": [
        "# 1.\n",
        "stops_2015 <- stops_w_yr %>%\n",
        "    filter(yr <= 2015)\n",
        "head(stops_2015)\n"
      ]
    },
    {
      "cell_type": "code",
      "source": [
        "# 2.\n",
        "# data from entire data set\n",
        "count(stops_w_yr, gender)"
      ],
      "metadata": {
        "id": "HjgC1U2x6av6",
        "outputId": "fb68bfa7-2621-4642-ee00-a5062555bd78",
        "colab": {
          "base_uri": "https://localhost:8080/",
          "height": 160
        }
      },
      "execution_count": 74,
      "outputs": [
        {
          "output_type": "display_data",
          "data": {
            "text/html": [
              "<table class=\"dataframe\">\n",
              "<caption>A tibble: 2 × 2</caption>\n",
              "<thead>\n",
              "\t<tr><th scope=col>gender</th><th scope=col>n</th></tr>\n",
              "\t<tr><th scope=col>&lt;fct&gt;</th><th scope=col>&lt;int&gt;</th></tr>\n",
              "</thead>\n",
              "<tbody>\n",
              "\t<tr><td>male  </td><td>448773</td></tr>\n",
              "\t<tr><td>female</td><td>187388</td></tr>\n",
              "</tbody>\n",
              "</table>\n"
            ],
            "text/markdown": "\nA tibble: 2 × 2\n\n| gender &lt;fct&gt; | n &lt;int&gt; |\n|---|---|\n| male   | 448773 |\n| female | 187388 |\n\n",
            "text/latex": "A tibble: 2 × 2\n\\begin{tabular}{ll}\n gender & n\\\\\n <fct> & <int>\\\\\n\\hline\n\t male   & 448773\\\\\n\t female & 187388\\\\\n\\end{tabular}\n",
            "text/plain": [
              "  gender n     \n",
              "1 male   448773\n",
              "2 female 187388"
            ]
          },
          "metadata": {}
        }
      ]
    },
    {
      "cell_type": "code",
      "source": [
        "summary(stops_2015[stops_2015$yr==2014,]) # we see that data is only collected until 5-30"
      ],
      "metadata": {
        "id": "Ga-AGdhO8ZHn",
        "outputId": "1d5c8020-90c8-48d9-d350-a77135995e8a",
        "colab": {
          "base_uri": "https://localhost:8080/",
          "height": 572
        }
      },
      "execution_count": 82,
      "outputs": [
        {
          "output_type": "display_data",
          "data": {
            "text/plain": [
              "      date                 time                   location        \n",
              " Min.   :2014-01-01   Min.   :00:00:00.000000   Length:39752      \n",
              " 1st Qu.:2014-02-08   1st Qu.:10:09:00.000000   Class :character  \n",
              " Median :2014-03-15   Median :16:00:00.000000   Mode  :character  \n",
              " Mean   :2014-03-15   Mean   :14:37:52.078889                     \n",
              " 3rd Qu.:2014-04-20   3rd Qu.:20:00:00.000000                     \n",
              " Max.   :2014-05-30   Max.   :23:59:00.000000                     \n",
              "                                                                  \n",
              "      lat            lng         district              age      \n",
              " Min.   :36.6   Min.   :-123   Length:39752       Min.   :13.0  \n",
              " 1st Qu.:37.7   1st Qu.:-122   Class :character   1st Qu.:27.0  \n",
              " Median :37.8   Median :-122   Mode  :character   Median :36.0  \n",
              " Mean   :37.8   Mean   :-122                      Mean   :39.1  \n",
              " 3rd Qu.:37.8   3rd Qu.:-122                      3rd Qu.:49.0  \n",
              " Max.   :38.8   Max.   :-121                      Max.   :99.0  \n",
              " NA's   :32     NA's   :32                        NA's   :12    \n",
              "     race              gender       arrested       contraband_found\n",
              " Length:39752       male  :28348   Mode :logical   Mode :logical   \n",
              " Class :character   female:11404   FALSE:39428     FALSE:1384      \n",
              " Mode  :character                  TRUE :324       TRUE :261       \n",
              "                                                   NA's :38107     \n",
              "                                                                   \n",
              "                                                                   \n",
              "                                                                   \n",
              "  searched       reason_for_stop          yr      \n",
              " Mode :logical   Length:39752       Min.   :2014  \n",
              " FALSE:38107     Class :character   1st Qu.:2014  \n",
              " TRUE :1645      Mode  :character   Median :2014  \n",
              "                                    Mean   :2014  \n",
              "                                    3rd Qu.:2014  \n",
              "                                    Max.   :2014  \n",
              "                                                  "
            ]
          },
          "metadata": {}
        }
      ]
    },
    {
      "cell_type": "code",
      "source": [
        "summary(stops_2015[stops_2015$yr==2015,]) # compared to for example 2015 where data is collected until 12-31"
      ],
      "metadata": {
        "id": "lj00ta1l8yVb",
        "outputId": "b2cfbb40-8d5d-41c8-fc52-5f7ef0530437",
        "colab": {
          "base_uri": "https://localhost:8080/",
          "height": 572
        }
      },
      "execution_count": 81,
      "outputs": [
        {
          "output_type": "display_data",
          "data": {
            "text/plain": [
              "      date                 time                   location        \n",
              " Min.   :2015-01-01   Min.   :00:00:00.000000   Length:85689      \n",
              " 1st Qu.:2015-03-22   1st Qu.:09:21:00.000000   Class :character  \n",
              " Median :2015-06-22   Median :15:15:00.000000   Mode  :character  \n",
              " Mean   :2015-06-22   Mean   :14:15:34.952911                     \n",
              " 3rd Qu.:2015-09-21   3rd Qu.:20:01:00.000000                     \n",
              " Max.   :2015-12-31   Max.   :23:59:00.000000                     \n",
              "                                                                  \n",
              "      lat            lng         district              age      \n",
              " Min.   :36.7   Min.   :-123   Length:85689       Min.   :10.0  \n",
              " 1st Qu.:37.7   1st Qu.:-122   Class :character   1st Qu.:27.0  \n",
              " Median :37.8   Median :-122   Mode  :character   Median :36.0  \n",
              " Mean   :37.8   Mean   :-122                      Mean   :38.8  \n",
              " 3rd Qu.:37.8   3rd Qu.:-122                      3rd Qu.:49.0  \n",
              " Max.   :39.7   Max.   :-120                      Max.   :99.0  \n",
              " NA's   :68     NA's   :68                        NA's   :24    \n",
              "     race              gender       arrested       contraband_found\n",
              " Length:85689       male  :62922   Mode :logical   Mode :logical   \n",
              " Class :character   female:22767   FALSE:84752     FALSE:3419      \n",
              " Mode  :character                  TRUE :937       TRUE :768       \n",
              "                                                   NA's :81502     \n",
              "                                                                   \n",
              "                                                                   \n",
              "                                                                   \n",
              "  searched       reason_for_stop          yr      \n",
              " Mode :logical   Length:85689       Min.   :2015  \n",
              " FALSE:81502     Class :character   1st Qu.:2015  \n",
              " TRUE :4187      Mode  :character   Median :2015  \n",
              "                                    Mean   :2015  \n",
              "                                    3rd Qu.:2015  \n",
              "                                    Max.   :2015  \n",
              "                                                  "
            ]
          },
          "metadata": {}
        }
      ]
    },
    {
      "cell_type": "markdown",
      "metadata": {
        "tags": [],
        "id": "9Mb3Ct1omtN1"
      },
      "source": [
        "## 📝 Aggregating data with `summarize()`"
      ]
    },
    {
      "cell_type": "markdown",
      "metadata": {
        "id": "0hhWx1VTmtN2"
      },
      "source": [
        "What was the average, median, maximum, and minimum age of drivers in 2015?\n",
        "\n",
        "Problem: We want to aggregate the values in a column. To do this, we use `summarize()`."
      ]
    },
    {
      "cell_type": "code",
      "execution_count": 83,
      "metadata": {
        "id": "CDK8AhesmtN2",
        "outputId": "105b1870-ef46-4948-b21a-22c616cc8d0f",
        "colab": {
          "base_uri": "https://localhost:8080/",
          "height": 199
        }
      },
      "outputs": [
        {
          "output_type": "display_data",
          "data": {
            "text/html": [
              "&lt;NA&gt;"
            ],
            "text/markdown": "&lt;NA&gt;",
            "text/latex": "<NA>",
            "text/plain": [
              "[1] NA"
            ]
          },
          "metadata": {}
        },
        {
          "output_type": "display_data",
          "data": {
            "text/html": [
              "&lt;NA&gt;"
            ],
            "text/markdown": "&lt;NA&gt;",
            "text/latex": "<NA>",
            "text/plain": [
              "[1] NA"
            ]
          },
          "metadata": {}
        },
        {
          "output_type": "display_data",
          "data": {
            "text/html": [
              "&lt;NA&gt;"
            ],
            "text/markdown": "&lt;NA&gt;",
            "text/latex": "<NA>",
            "text/plain": [
              "[1] NA"
            ]
          },
          "metadata": {}
        },
        {
          "output_type": "display_data",
          "data": {
            "text/html": [
              "&lt;NA&gt;"
            ],
            "text/markdown": "&lt;NA&gt;",
            "text/latex": "<NA>",
            "text/plain": [
              "[1] NA"
            ]
          },
          "metadata": {}
        },
        {
          "output_type": "display_data",
          "data": {
            "text/html": [
              "<table class=\"dataframe\">\n",
              "<caption>A tibble: 1 × 4</caption>\n",
              "<thead>\n",
              "\t<tr><th scope=col>mean_age</th><th scope=col>median_age</th><th scope=col>max_age</th><th scope=col>min_age</th></tr>\n",
              "\t<tr><th scope=col>&lt;dbl&gt;</th><th scope=col>&lt;int&gt;</th><th scope=col>&lt;int&gt;</th><th scope=col>&lt;int&gt;</th></tr>\n",
              "</thead>\n",
              "<tbody>\n",
              "\t<tr><td>NA</td><td>NA</td><td>NA</td><td>NA</td></tr>\n",
              "</tbody>\n",
              "</table>\n"
            ],
            "text/markdown": "\nA tibble: 1 × 4\n\n| mean_age &lt;dbl&gt; | median_age &lt;int&gt; | max_age &lt;int&gt; | min_age &lt;int&gt; |\n|---|---|---|---|\n| NA | NA | NA | NA |\n\n",
            "text/latex": "A tibble: 1 × 4\n\\begin{tabular}{llll}\n mean\\_age & median\\_age & max\\_age & min\\_age\\\\\n <dbl> & <int> & <int> & <int>\\\\\n\\hline\n\t NA & NA & NA & NA\\\\\n\\end{tabular}\n",
            "text/plain": [
              "  mean_age median_age max_age min_age\n",
              "1 NA       NA         NA      NA     "
            ]
          },
          "metadata": {}
        }
      ],
      "source": [
        "# Old method.\n",
        "mean(stops_2015$age)\n",
        "median(stops_2015$age)\n",
        "max(stops_2015$age)\n",
        "min(stops_2015$age)\n",
        "\n",
        "# New method!\n",
        "stops_2015 %>%\n",
        "    summarize(\n",
        "        mean_age = mean(age),\n",
        "        median_age = median(age),\n",
        "        max_age = max(age),\n",
        "        min_age = min(age)\n",
        "    )"
      ]
    },
    {
      "cell_type": "markdown",
      "metadata": {
        "id": "m2pTkhQImtN2"
      },
      "source": [
        "😱 Uh oh. By default, `R` will return `NA` for aggregating functions if at least one element is `NA` (i.e., missing).\n",
        "\n",
        "> The `na.rm=TRUE` argument will remove (`rm`) all `NA` values."
      ]
    },
    {
      "cell_type": "code",
      "execution_count": 84,
      "metadata": {
        "id": "i0scGVW4mtN2",
        "outputId": "b51920f9-92b5-468d-addd-6c1fd4eb9e0f",
        "colab": {
          "base_uri": "https://localhost:8080/",
          "height": 52
        }
      },
      "outputs": [
        {
          "output_type": "display_data",
          "data": {
            "text/html": [
              "&lt;NA&gt;"
            ],
            "text/markdown": "&lt;NA&gt;",
            "text/latex": "<NA>",
            "text/plain": [
              "[1] NA"
            ]
          },
          "metadata": {}
        },
        {
          "output_type": "display_data",
          "data": {
            "text/html": [
              "2.5"
            ],
            "text/markdown": "2.5",
            "text/latex": "2.5",
            "text/plain": [
              "[1] 2.5"
            ]
          },
          "metadata": {}
        }
      ],
      "source": [
        "mean(c(1, 2, 3, 4, NA))\n",
        "mean(c(1, 2, 3, 4, NA), na.rm=TRUE)"
      ]
    },
    {
      "cell_type": "markdown",
      "metadata": {
        "id": "k0LqBRYJmtN2"
      },
      "source": [
        "🔄 Let's try things one more time:"
      ]
    },
    {
      "cell_type": "code",
      "execution_count": 85,
      "metadata": {
        "id": "VAadEFpHmtN2",
        "outputId": "84784309-f8fa-4aa2-fadd-8591f5b34ab5",
        "colab": {
          "base_uri": "https://localhost:8080/",
          "height": 199
        }
      },
      "outputs": [
        {
          "output_type": "display_data",
          "data": {
            "text/html": [
              "38.0720272354195"
            ],
            "text/markdown": "38.0720272354195",
            "text/latex": "38.0720272354195",
            "text/plain": [
              "[1] 38.1"
            ]
          },
          "metadata": {}
        },
        {
          "output_type": "display_data",
          "data": {
            "text/html": [
              "35"
            ],
            "text/markdown": "35",
            "text/latex": "35",
            "text/plain": [
              "[1] 35"
            ]
          },
          "metadata": {}
        },
        {
          "output_type": "display_data",
          "data": {
            "text/html": [
              "100"
            ],
            "text/markdown": "100",
            "text/latex": "100",
            "text/plain": [
              "[1] 100"
            ]
          },
          "metadata": {}
        },
        {
          "output_type": "display_data",
          "data": {
            "text/html": [
              "10"
            ],
            "text/markdown": "10",
            "text/latex": "10",
            "text/plain": [
              "[1] 10"
            ]
          },
          "metadata": {}
        },
        {
          "output_type": "display_data",
          "data": {
            "text/html": [
              "<table class=\"dataframe\">\n",
              "<caption>A tibble: 1 × 4</caption>\n",
              "<thead>\n",
              "\t<tr><th scope=col>mean_age</th><th scope=col>median_age</th><th scope=col>max_age</th><th scope=col>min_age</th></tr>\n",
              "\t<tr><th scope=col>&lt;dbl&gt;</th><th scope=col>&lt;int&gt;</th><th scope=col>&lt;int&gt;</th><th scope=col>&lt;int&gt;</th></tr>\n",
              "</thead>\n",
              "<tbody>\n",
              "\t<tr><td>38.1</td><td>35</td><td>100</td><td>10</td></tr>\n",
              "</tbody>\n",
              "</table>\n"
            ],
            "text/markdown": "\nA tibble: 1 × 4\n\n| mean_age &lt;dbl&gt; | median_age &lt;int&gt; | max_age &lt;int&gt; | min_age &lt;int&gt; |\n|---|---|---|---|\n| 38.1 | 35 | 100 | 10 |\n\n",
            "text/latex": "A tibble: 1 × 4\n\\begin{tabular}{llll}\n mean\\_age & median\\_age & max\\_age & min\\_age\\\\\n <dbl> & <int> & <int> & <int>\\\\\n\\hline\n\t 38.1 & 35 & 100 & 10\\\\\n\\end{tabular}\n",
            "text/plain": [
              "  mean_age median_age max_age min_age\n",
              "1 38.1     35         100     10     "
            ]
          },
          "metadata": {}
        }
      ],
      "source": [
        "# Old method.\n",
        "mean(stops_2015$age, na.rm=TRUE)\n",
        "median(stops_2015$age, na.rm=TRUE)\n",
        "max(stops_2015$age, na.rm=TRUE)\n",
        "min(stops_2015$age, na.rm=TRUE)\n",
        "\n",
        "# New method!\n",
        "stops_2015 %>%\n",
        "    summarize(\n",
        "        mean_age = mean(age, na.rm=TRUE),\n",
        "        median_age = median(age, na.rm=TRUE),\n",
        "        max_age = max(age, na.rm=TRUE),\n",
        "        min_age = min(age, na.rm=TRUE)\n",
        "    )"
      ]
    },
    {
      "cell_type": "markdown",
      "metadata": {
        "id": "4pOotmKdmtN2"
      },
      "source": [
        "Neat! But, it's not groundbreaking. `summarize()` really ☀️ shines ☀️ when used with `group_by()`."
      ]
    },
    {
      "cell_type": "markdown",
      "metadata": {
        "tags": [],
        "id": "CFqt-A7BmtN2"
      },
      "source": [
        "## 📝 Getting powerful with `group_by()` and `summarize()`"
      ]
    },
    {
      "cell_type": "markdown",
      "metadata": {
        "id": "7IidHIWDmtN2"
      },
      "source": [
        "Here's where things get really interesting. The techniques in this section account for a **huge** chunk of most data science workflows.\n",
        "\n",
        "Suppose I'm interested in the average age of drivers in each district.\n",
        "\n",
        "> `unique(v)` returns the set of unique values in a vector `v`\n",
        "\n",
        "> `sort(v)` sorts a vector `v` in numeric or alphabetical order."
      ]
    },
    {
      "cell_type": "code",
      "execution_count": 86,
      "metadata": {
        "id": "HvZIIcQ7mtN2",
        "outputId": "b790734a-0579-49c7-a2bd-0078aab8952e",
        "colab": {
          "base_uri": "https://localhost:8080/",
          "height": 52
        }
      },
      "outputs": [
        {
          "output_type": "display_data",
          "data": {
            "text/html": [
              "<style>\n",
              ".list-inline {list-style: none; margin:0; padding: 0}\n",
              ".list-inline>li {display: inline-block}\n",
              ".list-inline>li:not(:last-child)::after {content: \"\\00b7\"; padding: 0 .5ex}\n",
              "</style>\n",
              "<ol class=list-inline><li>'A'</li><li>'B'</li><li>'C'</li><li>'D'</li><li>'E'</li><li>'F'</li><li>'G'</li><li>'H'</li><li>'I'</li><li>'J'</li></ol>\n"
            ],
            "text/markdown": "1. 'A'\n2. 'B'\n3. 'C'\n4. 'D'\n5. 'E'\n6. 'F'\n7. 'G'\n8. 'H'\n9. 'I'\n10. 'J'\n\n\n",
            "text/latex": "\\begin{enumerate*}\n\\item 'A'\n\\item 'B'\n\\item 'C'\n\\item 'D'\n\\item 'E'\n\\item 'F'\n\\item 'G'\n\\item 'H'\n\\item 'I'\n\\item 'J'\n\\end{enumerate*}\n",
            "text/plain": [
              " [1] \"A\" \"B\" \"C\" \"D\" \"E\" \"F\" \"G\" \"H\" \"I\" \"J\""
            ]
          },
          "metadata": {}
        },
        {
          "output_type": "display_data",
          "data": {
            "text/html": [
              "<style>\n",
              ".list-inline {list-style: none; margin:0; padding: 0}\n",
              ".list-inline>li {display: inline-block}\n",
              ".list-inline>li:not(:last-child)::after {content: \"\\00b7\"; padding: 0 .5ex}\n",
              "</style>\n",
              "<ol class=list-inline><li>'A'</li><li>'B'</li><li>'C'</li><li>'D'</li><li>'E'</li><li>'F'</li><li>'G'</li><li>'H'</li><li>'I'</li><li>'J'</li></ol>\n"
            ],
            "text/markdown": "1. 'A'\n2. 'B'\n3. 'C'\n4. 'D'\n5. 'E'\n6. 'F'\n7. 'G'\n8. 'H'\n9. 'I'\n10. 'J'\n\n\n",
            "text/latex": "\\begin{enumerate*}\n\\item 'A'\n\\item 'B'\n\\item 'C'\n\\item 'D'\n\\item 'E'\n\\item 'F'\n\\item 'G'\n\\item 'H'\n\\item 'I'\n\\item 'J'\n\\end{enumerate*}\n",
            "text/plain": [
              " [1] \"A\" \"B\" \"C\" \"D\" \"E\" \"F\" \"G\" \"H\" \"I\" \"J\""
            ]
          },
          "metadata": {}
        }
      ],
      "source": [
        "sort(unique(stops_2015$district))\n",
        "\n",
        "# Alternatively\n",
        "stops_2015$district %>% unique %>% sort"
      ]
    },
    {
      "cell_type": "markdown",
      "metadata": {
        "id": "eys45AVpmtN6"
      },
      "source": [
        "You already have the tools to find the average age of drivers by district!\n",
        "\n",
        "Looks a little scary though..."
      ]
    },
    {
      "cell_type": "code",
      "execution_count": 87,
      "metadata": {
        "id": "bVlG8MhSmtN7",
        "outputId": "98e19d33-52f9-49ec-f56f-386c745bd263",
        "colab": {
          "base_uri": "https://localhost:8080/",
          "height": 191
        }
      },
      "outputs": [
        {
          "output_type": "display_data",
          "data": {
            "text/html": [
              "38.5039058714067"
            ],
            "text/markdown": "38.5039058714067",
            "text/latex": "38.5039058714067",
            "text/plain": [
              "[1] 38.5"
            ]
          },
          "metadata": {}
        },
        {
          "output_type": "display_data",
          "data": {
            "text/html": [
              "37.5453397458287"
            ],
            "text/markdown": "37.5453397458287",
            "text/latex": "37.5453397458287",
            "text/plain": [
              "[1] 37.5"
            ]
          },
          "metadata": {}
        },
        {
          "output_type": "display_data",
          "data": {
            "text/html": [
              "36.9044158588296"
            ],
            "text/markdown": "36.9044158588296",
            "text/latex": "36.9044158588296",
            "text/plain": [
              "[1] 36.9"
            ]
          },
          "metadata": {}
        },
        {
          "output_type": "display_data",
          "data": {
            "text/html": [
              "37.0840982306186"
            ],
            "text/markdown": "37.0840982306186",
            "text/latex": "37.0840982306186",
            "text/plain": [
              "[1] 37.1"
            ]
          },
          "metadata": {}
        },
        {
          "output_type": "display_data",
          "data": {
            "text/html": [
              "38.0530957994935"
            ],
            "text/markdown": "38.0530957994935",
            "text/latex": "38.0530957994935",
            "text/plain": [
              "[1] 38.1"
            ]
          },
          "metadata": {}
        },
        {
          "output_type": "display_data",
          "data": {
            "text/html": [
              "38.5162023167565"
            ],
            "text/markdown": "38.5162023167565",
            "text/latex": "38.5162023167565",
            "text/plain": [
              "[1] 38.5"
            ]
          },
          "metadata": {}
        },
        {
          "output_type": "display_data",
          "data": {
            "text/html": [
              "40.32757238593"
            ],
            "text/markdown": "40.32757238593",
            "text/latex": "40.32757238593",
            "text/plain": [
              "[1] 40.3"
            ]
          },
          "metadata": {}
        },
        {
          "output_type": "display_data",
          "data": {
            "text/html": [
              "37.7860149154545"
            ],
            "text/markdown": "37.7860149154545",
            "text/latex": "37.7860149154545",
            "text/plain": [
              "[1] 37.8"
            ]
          },
          "metadata": {}
        },
        {
          "output_type": "display_data",
          "data": {
            "text/html": [
              "38.5281058735101"
            ],
            "text/markdown": "38.5281058735101",
            "text/latex": "38.5281058735101",
            "text/plain": [
              "[1] 38.5"
            ]
          },
          "metadata": {}
        },
        {
          "output_type": "display_data",
          "data": {
            "text/html": [
              "37.7985780486257"
            ],
            "text/markdown": "37.7985780486257",
            "text/latex": "37.7985780486257",
            "text/plain": [
              "[1] 37.8"
            ]
          },
          "metadata": {}
        }
      ],
      "source": [
        "stops_2015 %>% filter(district=='A') %>% pull(age) %>% mean(na.rm=TRUE)\n",
        "stops_2015 %>% filter(district=='B') %>% pull(age) %>% mean(na.rm=TRUE)\n",
        "stops_2015 %>% filter(district=='C') %>% pull(age) %>% mean(na.rm=TRUE)\n",
        "stops_2015 %>% filter(district=='D') %>% pull(age) %>% mean(na.rm=TRUE)\n",
        "stops_2015 %>% filter(district=='E') %>% pull(age) %>% mean(na.rm=TRUE)\n",
        "stops_2015 %>% filter(district=='F') %>% pull(age) %>% mean(na.rm=TRUE)\n",
        "stops_2015 %>% filter(district=='G') %>% pull(age) %>% mean(na.rm=TRUE)\n",
        "stops_2015 %>% filter(district=='H') %>% pull(age) %>% mean(na.rm=TRUE)\n",
        "stops_2015 %>% filter(district=='I') %>% pull(age) %>% mean(na.rm=TRUE)\n",
        "stops_2015 %>% filter(district=='J') %>% pull(age) %>% mean(na.rm=TRUE)"
      ]
    },
    {
      "cell_type": "markdown",
      "metadata": {
        "id": "WDiwCXLvmtN7"
      },
      "source": [
        "# 😓"
      ]
    },
    {
      "cell_type": "markdown",
      "metadata": {
        "id": "RyHD17z_mtN7"
      },
      "source": [
        "We now know the average age in each district, but there are some issues:\n",
        "- We had to write a lot of repeated code.\n",
        "- What if there were 100 districts? Or 1,000,000 districts?\n",
        "- The results aren't labeled. We'd have to write even more code to label the output.\n",
        "\n",
        "Here's another way to answer the question, but with less code:"
      ]
    },
    {
      "cell_type": "code",
      "execution_count": 88,
      "metadata": {
        "id": "H0anwYyvmtN7",
        "outputId": "d371b8d7-ce98-4735-e671-947c3cdce6bc",
        "colab": {
          "base_uri": "https://localhost:8080/",
          "height": 411
        }
      },
      "outputs": [
        {
          "output_type": "display_data",
          "data": {
            "text/html": [
              "<table class=\"dataframe\">\n",
              "<caption>A tibble: 10 × 2</caption>\n",
              "<thead>\n",
              "\t<tr><th scope=col>district</th><th scope=col>avg_age</th></tr>\n",
              "\t<tr><th scope=col>&lt;chr&gt;</th><th scope=col>&lt;dbl&gt;</th></tr>\n",
              "</thead>\n",
              "<tbody>\n",
              "\t<tr><td>A</td><td>38.5</td></tr>\n",
              "\t<tr><td>B</td><td>37.5</td></tr>\n",
              "\t<tr><td>C</td><td>36.9</td></tr>\n",
              "\t<tr><td>D</td><td>37.1</td></tr>\n",
              "\t<tr><td>E</td><td>38.1</td></tr>\n",
              "\t<tr><td>F</td><td>38.5</td></tr>\n",
              "\t<tr><td>G</td><td>40.3</td></tr>\n",
              "\t<tr><td>H</td><td>37.8</td></tr>\n",
              "\t<tr><td>I</td><td>38.5</td></tr>\n",
              "\t<tr><td>J</td><td>37.8</td></tr>\n",
              "</tbody>\n",
              "</table>\n"
            ],
            "text/markdown": "\nA tibble: 10 × 2\n\n| district &lt;chr&gt; | avg_age &lt;dbl&gt; |\n|---|---|\n| A | 38.5 |\n| B | 37.5 |\n| C | 36.9 |\n| D | 37.1 |\n| E | 38.1 |\n| F | 38.5 |\n| G | 40.3 |\n| H | 37.8 |\n| I | 38.5 |\n| J | 37.8 |\n\n",
            "text/latex": "A tibble: 10 × 2\n\\begin{tabular}{ll}\n district & avg\\_age\\\\\n <chr> & <dbl>\\\\\n\\hline\n\t A & 38.5\\\\\n\t B & 37.5\\\\\n\t C & 36.9\\\\\n\t D & 37.1\\\\\n\t E & 38.1\\\\\n\t F & 38.5\\\\\n\t G & 40.3\\\\\n\t H & 37.8\\\\\n\t I & 38.5\\\\\n\t J & 37.8\\\\\n\\end{tabular}\n",
            "text/plain": [
              "   district avg_age\n",
              "1  A        38.5   \n",
              "2  B        37.5   \n",
              "3  C        36.9   \n",
              "4  D        37.1   \n",
              "5  E        38.1   \n",
              "6  F        38.5   \n",
              "7  G        40.3   \n",
              "8  H        37.8   \n",
              "9  I        38.5   \n",
              "10 J        37.8   "
            ]
          },
          "metadata": {}
        }
      ],
      "source": [
        "stops_2015 %>%\n",
        "    group_by(district) %>%\n",
        "    summarize(avg_age = mean(age, na.rm=TRUE))"
      ]
    },
    {
      "cell_type": "markdown",
      "metadata": {
        "tags": [],
        "id": "t0EIcds1mtN7"
      },
      "source": [
        "# 😮\n",
        "\n",
        "The next section will explain the magic of grouping."
      ]
    },
    {
      "cell_type": "markdown",
      "metadata": {
        "id": "VhzJna6PmtN7"
      },
      "source": [
        "### 📝 The mechanics of `group_by()`"
      ]
    },
    {
      "cell_type": "markdown",
      "metadata": {
        "id": "HGm670gNmtN7"
      },
      "source": [
        "It's **very** common to calculate an aggregate statistic (e.g., `sum` or `mean`) for different groups (e.g., district or class year).\n",
        "\n",
        "The *split-apply-combine* paradigm handles these situations:\n",
        "- **Split** the data by group into mini-datasets\n",
        "- **Apply** a function to each mini-dataset\n",
        "- **Combine** the mini-datasets back together\n",
        "\n",
        "🖼️ A visual:"
      ]
    },
    {
      "cell_type": "markdown",
      "metadata": {
        "id": "UPDZAWT9mtN7"
      },
      "source": [
        "<img src=\"https://github.com/joshuagrossman/dsb-win-2023/blob/main/opp-munging-plotting/img/split-apply-combine.drawio.png?raw=1\" alt=\"splitapplycombine\" width=\"600\" align=\"left\"/>"
      ]
    },
    {
      "cell_type": "markdown",
      "metadata": {
        "id": "tSg2i5USmtN7"
      },
      "source": [
        "#### 📝 Splitting with `group_by`"
      ]
    },
    {
      "cell_type": "markdown",
      "metadata": {
        "id": "8tK0rwmdmtN7"
      },
      "source": [
        "`group_by` handles the *splitting* step.\n",
        "\n",
        "Problem: The data isn't grouped. To split the data, we use `group_by`.\n",
        "\n",
        "🖥️ Usage: `group_by(data, column)`\n",
        "* `data`: the data frame\n",
        "* `column`: the name of the column to group by.\n",
        "\n",
        "Let's try grouping the `stops` data by district."
      ]
    },
    {
      "cell_type": "code",
      "execution_count": 89,
      "metadata": {
        "id": "VJCchNNKmtN7",
        "outputId": "0881d3ff-7eb0-4978-91ed-e90626133bf9",
        "colab": {
          "base_uri": "https://localhost:8080/",
          "height": 286
        }
      },
      "outputs": [
        {
          "output_type": "display_data",
          "data": {
            "text/html": [
              "<table class=\"dataframe\">\n",
              "<caption>A grouped_df: 6 × 14</caption>\n",
              "<thead>\n",
              "\t<tr><th scope=col>date</th><th scope=col>time</th><th scope=col>location</th><th scope=col>lat</th><th scope=col>lng</th><th scope=col>district</th><th scope=col>age</th><th scope=col>race</th><th scope=col>gender</th><th scope=col>arrested</th><th scope=col>contraband_found</th><th scope=col>searched</th><th scope=col>reason_for_stop</th><th scope=col>yr</th></tr>\n",
              "\t<tr><th scope=col>&lt;date&gt;</th><th scope=col>&lt;time&gt;</th><th scope=col>&lt;chr&gt;</th><th scope=col>&lt;dbl&gt;</th><th scope=col>&lt;dbl&gt;</th><th scope=col>&lt;chr&gt;</th><th scope=col>&lt;int&gt;</th><th scope=col>&lt;chr&gt;</th><th scope=col>&lt;fct&gt;</th><th scope=col>&lt;lgl&gt;</th><th scope=col>&lt;lgl&gt;</th><th scope=col>&lt;lgl&gt;</th><th scope=col>&lt;chr&gt;</th><th scope=col>&lt;dbl&gt;</th></tr>\n",
              "</thead>\n",
              "<tbody>\n",
              "\t<tr><td>2009-01-01</td><td>10:10:00</td><td>1736 PALOU      </td><td>37.7</td><td>-122</td><td>C</td><td>22</td><td>black</td><td>female</td><td>FALSE</td><td>FALSE</td><td> TRUE</td><td>Equipment violation</td><td>2009</td></tr>\n",
              "\t<tr><td>2009-01-01</td><td>10:15:00</td><td>THRIFT/PLYMTH   </td><td>37.7</td><td>-122</td><td>I</td><td>44</td><td>black</td><td>male  </td><td>FALSE</td><td>   NA</td><td>FALSE</td><td>Moving violation   </td><td>2009</td></tr>\n",
              "\t<tr><td>2009-01-01</td><td>10:20:00</td><td>FLORIDA/19TH    </td><td>37.8</td><td>-122</td><td>D</td><td>45</td><td>white</td><td>female</td><td>FALSE</td><td>   NA</td><td>FALSE</td><td>Equipment violation</td><td>2009</td></tr>\n",
              "\t<tr><td>2009-01-01</td><td>10:20:00</td><td>19TH AVE/MORAGAE</td><td>37.8</td><td>-122</td><td>I</td><td>27</td><td>white</td><td>male  </td><td>FALSE</td><td>   NA</td><td>FALSE</td><td>Equipment violation</td><td>2009</td></tr>\n",
              "\t<tr><td>2009-01-01</td><td>10:36:00</td><td>19TH/LINCOLN    </td><td>37.8</td><td>-122</td><td>I</td><td>29</td><td>white</td><td>male  </td><td>FALSE</td><td>   NA</td><td>FALSE</td><td>Equipment violation</td><td>2009</td></tr>\n",
              "\t<tr><td>2009-01-01</td><td>10:40:00</td><td><span style=white-space:pre-wrap>16TH&amp;JULIAN     </span></td><td>37.8</td><td>-122</td><td>D</td><td>34</td><td>black</td><td><span style=white-space:pre-wrap>male  </span></td><td>FALSE</td><td><span style=white-space:pre-wrap>   NA</span></td><td>FALSE</td><td><span style=white-space:pre-wrap>Moving violation   </span></td><td>2009</td></tr>\n",
              "</tbody>\n",
              "</table>\n"
            ],
            "text/markdown": "\nA grouped_df: 6 × 14\n\n| date &lt;date&gt; | time &lt;time&gt; | location &lt;chr&gt; | lat &lt;dbl&gt; | lng &lt;dbl&gt; | district &lt;chr&gt; | age &lt;int&gt; | race &lt;chr&gt; | gender &lt;fct&gt; | arrested &lt;lgl&gt; | contraband_found &lt;lgl&gt; | searched &lt;lgl&gt; | reason_for_stop &lt;chr&gt; | yr &lt;dbl&gt; |\n|---|---|---|---|---|---|---|---|---|---|---|---|---|---|\n| 2009-01-01 | 10:10:00 | 1736 PALOU       | 37.7 | -122 | C | 22 | black | female | FALSE | FALSE |  TRUE | Equipment violation | 2009 |\n| 2009-01-01 | 10:15:00 | THRIFT/PLYMTH    | 37.7 | -122 | I | 44 | black | male   | FALSE |    NA | FALSE | Moving violation    | 2009 |\n| 2009-01-01 | 10:20:00 | FLORIDA/19TH     | 37.8 | -122 | D | 45 | white | female | FALSE |    NA | FALSE | Equipment violation | 2009 |\n| 2009-01-01 | 10:20:00 | 19TH AVE/MORAGAE | 37.8 | -122 | I | 27 | white | male   | FALSE |    NA | FALSE | Equipment violation | 2009 |\n| 2009-01-01 | 10:36:00 | 19TH/LINCOLN     | 37.8 | -122 | I | 29 | white | male   | FALSE |    NA | FALSE | Equipment violation | 2009 |\n| 2009-01-01 | 10:40:00 | 16TH&amp;JULIAN      | 37.8 | -122 | D | 34 | black | male   | FALSE |    NA | FALSE | Moving violation    | 2009 |\n\n",
            "text/latex": "A grouped\\_df: 6 × 14\n\\begin{tabular}{llllllllllllll}\n date & time & location & lat & lng & district & age & race & gender & arrested & contraband\\_found & searched & reason\\_for\\_stop & yr\\\\\n <date> & <time> & <chr> & <dbl> & <dbl> & <chr> & <int> & <chr> & <fct> & <lgl> & <lgl> & <lgl> & <chr> & <dbl>\\\\\n\\hline\n\t 2009-01-01 & 10:10:00 & 1736 PALOU       & 37.7 & -122 & C & 22 & black & female & FALSE & FALSE &  TRUE & Equipment violation & 2009\\\\\n\t 2009-01-01 & 10:15:00 & THRIFT/PLYMTH    & 37.7 & -122 & I & 44 & black & male   & FALSE &    NA & FALSE & Moving violation    & 2009\\\\\n\t 2009-01-01 & 10:20:00 & FLORIDA/19TH     & 37.8 & -122 & D & 45 & white & female & FALSE &    NA & FALSE & Equipment violation & 2009\\\\\n\t 2009-01-01 & 10:20:00 & 19TH AVE/MORAGAE & 37.8 & -122 & I & 27 & white & male   & FALSE &    NA & FALSE & Equipment violation & 2009\\\\\n\t 2009-01-01 & 10:36:00 & 19TH/LINCOLN     & 37.8 & -122 & I & 29 & white & male   & FALSE &    NA & FALSE & Equipment violation & 2009\\\\\n\t 2009-01-01 & 10:40:00 & 16TH\\&JULIAN      & 37.8 & -122 & D & 34 & black & male   & FALSE &    NA & FALSE & Moving violation    & 2009\\\\\n\\end{tabular}\n",
            "text/plain": [
              "  date       time     location         lat  lng  district age race  gender\n",
              "1 2009-01-01 10:10:00 1736 PALOU       37.7 -122 C        22  black female\n",
              "2 2009-01-01 10:15:00 THRIFT/PLYMTH    37.7 -122 I        44  black male  \n",
              "3 2009-01-01 10:20:00 FLORIDA/19TH     37.8 -122 D        45  white female\n",
              "4 2009-01-01 10:20:00 19TH AVE/MORAGAE 37.8 -122 I        27  white male  \n",
              "5 2009-01-01 10:36:00 19TH/LINCOLN     37.8 -122 I        29  white male  \n",
              "6 2009-01-01 10:40:00 16TH&JULIAN      37.8 -122 D        34  black male  \n",
              "  arrested contraband_found searched reason_for_stop     yr  \n",
              "1 FALSE    FALSE             TRUE    Equipment violation 2009\n",
              "2 FALSE       NA            FALSE    Moving violation    2009\n",
              "3 FALSE       NA            FALSE    Equipment violation 2009\n",
              "4 FALSE       NA            FALSE    Equipment violation 2009\n",
              "5 FALSE       NA            FALSE    Equipment violation 2009\n",
              "6 FALSE       NA            FALSE    Moving violation    2009"
            ]
          },
          "metadata": {}
        }
      ],
      "source": [
        "stops_2015_grouped = stops_2015 %>%\n",
        "    group_by(district)\n",
        "\n",
        "head(stops_2015_grouped)"
      ]
    },
    {
      "cell_type": "markdown",
      "metadata": {
        "id": "o2sPR22omtN7"
      },
      "source": [
        "Wait a second. This looks exactly the same as the regular data:"
      ]
    },
    {
      "cell_type": "code",
      "execution_count": 90,
      "metadata": {
        "id": "RqzI7e1SmtN7",
        "outputId": "127c4825-ee2e-4a9f-8a47-fcc1e17dba75",
        "colab": {
          "base_uri": "https://localhost:8080/",
          "height": 286
        }
      },
      "outputs": [
        {
          "output_type": "display_data",
          "data": {
            "text/html": [
              "<table class=\"dataframe\">\n",
              "<caption>A tibble: 6 × 14</caption>\n",
              "<thead>\n",
              "\t<tr><th scope=col>date</th><th scope=col>time</th><th scope=col>location</th><th scope=col>lat</th><th scope=col>lng</th><th scope=col>district</th><th scope=col>age</th><th scope=col>race</th><th scope=col>gender</th><th scope=col>arrested</th><th scope=col>contraband_found</th><th scope=col>searched</th><th scope=col>reason_for_stop</th><th scope=col>yr</th></tr>\n",
              "\t<tr><th scope=col>&lt;date&gt;</th><th scope=col>&lt;time&gt;</th><th scope=col>&lt;chr&gt;</th><th scope=col>&lt;dbl&gt;</th><th scope=col>&lt;dbl&gt;</th><th scope=col>&lt;chr&gt;</th><th scope=col>&lt;int&gt;</th><th scope=col>&lt;chr&gt;</th><th scope=col>&lt;fct&gt;</th><th scope=col>&lt;lgl&gt;</th><th scope=col>&lt;lgl&gt;</th><th scope=col>&lt;lgl&gt;</th><th scope=col>&lt;chr&gt;</th><th scope=col>&lt;dbl&gt;</th></tr>\n",
              "</thead>\n",
              "<tbody>\n",
              "\t<tr><td>2009-01-01</td><td>10:10:00</td><td>1736 PALOU      </td><td>37.7</td><td>-122</td><td>C</td><td>22</td><td>black</td><td>female</td><td>FALSE</td><td>FALSE</td><td> TRUE</td><td>Equipment violation</td><td>2009</td></tr>\n",
              "\t<tr><td>2009-01-01</td><td>10:15:00</td><td>THRIFT/PLYMTH   </td><td>37.7</td><td>-122</td><td>I</td><td>44</td><td>black</td><td>male  </td><td>FALSE</td><td>   NA</td><td>FALSE</td><td>Moving violation   </td><td>2009</td></tr>\n",
              "\t<tr><td>2009-01-01</td><td>10:20:00</td><td>FLORIDA/19TH    </td><td>37.8</td><td>-122</td><td>D</td><td>45</td><td>white</td><td>female</td><td>FALSE</td><td>   NA</td><td>FALSE</td><td>Equipment violation</td><td>2009</td></tr>\n",
              "\t<tr><td>2009-01-01</td><td>10:20:00</td><td>19TH AVE/MORAGAE</td><td>37.8</td><td>-122</td><td>I</td><td>27</td><td>white</td><td>male  </td><td>FALSE</td><td>   NA</td><td>FALSE</td><td>Equipment violation</td><td>2009</td></tr>\n",
              "\t<tr><td>2009-01-01</td><td>10:36:00</td><td>19TH/LINCOLN    </td><td>37.8</td><td>-122</td><td>I</td><td>29</td><td>white</td><td>male  </td><td>FALSE</td><td>   NA</td><td>FALSE</td><td>Equipment violation</td><td>2009</td></tr>\n",
              "\t<tr><td>2009-01-01</td><td>10:40:00</td><td><span style=white-space:pre-wrap>16TH&amp;JULIAN     </span></td><td>37.8</td><td>-122</td><td>D</td><td>34</td><td>black</td><td><span style=white-space:pre-wrap>male  </span></td><td>FALSE</td><td><span style=white-space:pre-wrap>   NA</span></td><td>FALSE</td><td><span style=white-space:pre-wrap>Moving violation   </span></td><td>2009</td></tr>\n",
              "</tbody>\n",
              "</table>\n"
            ],
            "text/markdown": "\nA tibble: 6 × 14\n\n| date &lt;date&gt; | time &lt;time&gt; | location &lt;chr&gt; | lat &lt;dbl&gt; | lng &lt;dbl&gt; | district &lt;chr&gt; | age &lt;int&gt; | race &lt;chr&gt; | gender &lt;fct&gt; | arrested &lt;lgl&gt; | contraband_found &lt;lgl&gt; | searched &lt;lgl&gt; | reason_for_stop &lt;chr&gt; | yr &lt;dbl&gt; |\n|---|---|---|---|---|---|---|---|---|---|---|---|---|---|\n| 2009-01-01 | 10:10:00 | 1736 PALOU       | 37.7 | -122 | C | 22 | black | female | FALSE | FALSE |  TRUE | Equipment violation | 2009 |\n| 2009-01-01 | 10:15:00 | THRIFT/PLYMTH    | 37.7 | -122 | I | 44 | black | male   | FALSE |    NA | FALSE | Moving violation    | 2009 |\n| 2009-01-01 | 10:20:00 | FLORIDA/19TH     | 37.8 | -122 | D | 45 | white | female | FALSE |    NA | FALSE | Equipment violation | 2009 |\n| 2009-01-01 | 10:20:00 | 19TH AVE/MORAGAE | 37.8 | -122 | I | 27 | white | male   | FALSE |    NA | FALSE | Equipment violation | 2009 |\n| 2009-01-01 | 10:36:00 | 19TH/LINCOLN     | 37.8 | -122 | I | 29 | white | male   | FALSE |    NA | FALSE | Equipment violation | 2009 |\n| 2009-01-01 | 10:40:00 | 16TH&amp;JULIAN      | 37.8 | -122 | D | 34 | black | male   | FALSE |    NA | FALSE | Moving violation    | 2009 |\n\n",
            "text/latex": "A tibble: 6 × 14\n\\begin{tabular}{llllllllllllll}\n date & time & location & lat & lng & district & age & race & gender & arrested & contraband\\_found & searched & reason\\_for\\_stop & yr\\\\\n <date> & <time> & <chr> & <dbl> & <dbl> & <chr> & <int> & <chr> & <fct> & <lgl> & <lgl> & <lgl> & <chr> & <dbl>\\\\\n\\hline\n\t 2009-01-01 & 10:10:00 & 1736 PALOU       & 37.7 & -122 & C & 22 & black & female & FALSE & FALSE &  TRUE & Equipment violation & 2009\\\\\n\t 2009-01-01 & 10:15:00 & THRIFT/PLYMTH    & 37.7 & -122 & I & 44 & black & male   & FALSE &    NA & FALSE & Moving violation    & 2009\\\\\n\t 2009-01-01 & 10:20:00 & FLORIDA/19TH     & 37.8 & -122 & D & 45 & white & female & FALSE &    NA & FALSE & Equipment violation & 2009\\\\\n\t 2009-01-01 & 10:20:00 & 19TH AVE/MORAGAE & 37.8 & -122 & I & 27 & white & male   & FALSE &    NA & FALSE & Equipment violation & 2009\\\\\n\t 2009-01-01 & 10:36:00 & 19TH/LINCOLN     & 37.8 & -122 & I & 29 & white & male   & FALSE &    NA & FALSE & Equipment violation & 2009\\\\\n\t 2009-01-01 & 10:40:00 & 16TH\\&JULIAN      & 37.8 & -122 & D & 34 & black & male   & FALSE &    NA & FALSE & Moving violation    & 2009\\\\\n\\end{tabular}\n",
            "text/plain": [
              "  date       time     location         lat  lng  district age race  gender\n",
              "1 2009-01-01 10:10:00 1736 PALOU       37.7 -122 C        22  black female\n",
              "2 2009-01-01 10:15:00 THRIFT/PLYMTH    37.7 -122 I        44  black male  \n",
              "3 2009-01-01 10:20:00 FLORIDA/19TH     37.8 -122 D        45  white female\n",
              "4 2009-01-01 10:20:00 19TH AVE/MORAGAE 37.8 -122 I        27  white male  \n",
              "5 2009-01-01 10:36:00 19TH/LINCOLN     37.8 -122 I        29  white male  \n",
              "6 2009-01-01 10:40:00 16TH&JULIAN      37.8 -122 D        34  black male  \n",
              "  arrested contraband_found searched reason_for_stop     yr  \n",
              "1 FALSE    FALSE             TRUE    Equipment violation 2009\n",
              "2 FALSE       NA            FALSE    Moving violation    2009\n",
              "3 FALSE       NA            FALSE    Equipment violation 2009\n",
              "4 FALSE       NA            FALSE    Equipment violation 2009\n",
              "5 FALSE       NA            FALSE    Equipment violation 2009\n",
              "6 FALSE       NA            FALSE    Moving violation    2009"
            ]
          },
          "metadata": {}
        }
      ],
      "source": [
        "head(stops_2015)"
      ]
    },
    {
      "cell_type": "markdown",
      "metadata": {
        "id": "_y7hDfrlmtN7"
      },
      "source": [
        "❗❗Important note❗❗: `group_by` doesn't actually change the underlying data. It invisibly groups the data in the background.\n",
        "\n",
        "> There is a subtle indication that the data is grouped. If you look at the top of the grouped data frame, you'll see `A grouped_df`. At the top of the ungrouped data, you'll see `A tibble`.\n",
        "\n",
        "> A *tibble* is a data frame with some extra features."
      ]
    },
    {
      "cell_type": "markdown",
      "metadata": {
        "id": "_L8RsZ8xmtN7"
      },
      "source": [
        "#### 📝 Applying and combining with `summarize()`"
      ]
    },
    {
      "cell_type": "markdown",
      "metadata": {
        "id": "EC2qVKqlmtN7"
      },
      "source": [
        "`summarize()` *applies* an aggregating function to each mini-dataset. It then *combines* the mini-datasets.\n",
        "\n",
        "We've already seen `summarize()` in action:"
      ]
    },
    {
      "cell_type": "code",
      "execution_count": 93,
      "metadata": {
        "id": "KtQIZkrQmtN8",
        "outputId": "d23214e8-430c-436a-edc8-493dedf0dc1b",
        "colab": {
          "base_uri": "https://localhost:8080/",
          "height": 129
        }
      },
      "outputs": [
        {
          "output_type": "display_data",
          "data": {
            "text/html": [
              "<table class=\"dataframe\">\n",
              "<caption>A tibble: 1 × 2</caption>\n",
              "<thead>\n",
              "\t<tr><th scope=col>avg_age</th><th scope=col>n_rows</th></tr>\n",
              "\t<tr><th scope=col>&lt;dbl&gt;</th><th scope=col>&lt;int&gt;</th></tr>\n",
              "</thead>\n",
              "<tbody>\n",
              "\t<tr><td>38.1</td><td>595946</td></tr>\n",
              "</tbody>\n",
              "</table>\n"
            ],
            "text/markdown": "\nA tibble: 1 × 2\n\n| avg_age &lt;dbl&gt; | n_rows &lt;int&gt; |\n|---|---|\n| 38.1 | 595946 |\n\n",
            "text/latex": "A tibble: 1 × 2\n\\begin{tabular}{ll}\n avg\\_age & n\\_rows\\\\\n <dbl> & <int>\\\\\n\\hline\n\t 38.1 & 595946\\\\\n\\end{tabular}\n",
            "text/plain": [
              "  avg_age n_rows\n",
              "1 38.1    595946"
            ]
          },
          "metadata": {}
        }
      ],
      "source": [
        "stops_2015 %>%\n",
        "    summarize(\n",
        "        avg_age = mean(age, na.rm=TRUE),\n",
        "        n_rows = n()\n",
        "    )"
      ]
    },
    {
      "cell_type": "markdown",
      "metadata": {
        "id": "qqksdKEUmtN8"
      },
      "source": [
        "Let's try `summarize()` with grouped data.\n",
        "\n",
        "> As a bonus, we can also calculate the size of each group with the `n()` function."
      ]
    },
    {
      "cell_type": "code",
      "execution_count": 94,
      "metadata": {
        "id": "KJTBcFKwmtN8",
        "outputId": "95078bee-4e3c-47dd-c8ce-d41c98741d53",
        "colab": {
          "base_uri": "https://localhost:8080/",
          "height": 411
        }
      },
      "outputs": [
        {
          "output_type": "display_data",
          "data": {
            "text/html": [
              "<table class=\"dataframe\">\n",
              "<caption>A tibble: 10 × 3</caption>\n",
              "<thead>\n",
              "\t<tr><th scope=col>district</th><th scope=col>avg_age</th><th scope=col>num_stops_in_district</th></tr>\n",
              "\t<tr><th scope=col>&lt;chr&gt;</th><th scope=col>&lt;dbl&gt;</th><th scope=col>&lt;int&gt;</th></tr>\n",
              "</thead>\n",
              "<tbody>\n",
              "\t<tr><td>A</td><td>38.5</td><td>51808</td></tr>\n",
              "\t<tr><td>B</td><td>37.5</td><td>74705</td></tr>\n",
              "\t<tr><td>C</td><td>36.9</td><td>70332</td></tr>\n",
              "\t<tr><td>D</td><td>37.1</td><td>62082</td></tr>\n",
              "\t<tr><td>E</td><td>38.1</td><td>46063</td></tr>\n",
              "\t<tr><td>F</td><td>38.5</td><td>40231</td></tr>\n",
              "\t<tr><td>G</td><td>40.3</td><td>62611</td></tr>\n",
              "\t<tr><td>H</td><td>37.8</td><td>81614</td></tr>\n",
              "\t<tr><td>I</td><td>38.5</td><td>74811</td></tr>\n",
              "\t<tr><td>J</td><td>37.8</td><td>31689</td></tr>\n",
              "</tbody>\n",
              "</table>\n"
            ],
            "text/markdown": "\nA tibble: 10 × 3\n\n| district &lt;chr&gt; | avg_age &lt;dbl&gt; | num_stops_in_district &lt;int&gt; |\n|---|---|---|\n| A | 38.5 | 51808 |\n| B | 37.5 | 74705 |\n| C | 36.9 | 70332 |\n| D | 37.1 | 62082 |\n| E | 38.1 | 46063 |\n| F | 38.5 | 40231 |\n| G | 40.3 | 62611 |\n| H | 37.8 | 81614 |\n| I | 38.5 | 74811 |\n| J | 37.8 | 31689 |\n\n",
            "text/latex": "A tibble: 10 × 3\n\\begin{tabular}{lll}\n district & avg\\_age & num\\_stops\\_in\\_district\\\\\n <chr> & <dbl> & <int>\\\\\n\\hline\n\t A & 38.5 & 51808\\\\\n\t B & 37.5 & 74705\\\\\n\t C & 36.9 & 70332\\\\\n\t D & 37.1 & 62082\\\\\n\t E & 38.1 & 46063\\\\\n\t F & 38.5 & 40231\\\\\n\t G & 40.3 & 62611\\\\\n\t H & 37.8 & 81614\\\\\n\t I & 38.5 & 74811\\\\\n\t J & 37.8 & 31689\\\\\n\\end{tabular}\n",
            "text/plain": [
              "   district avg_age num_stops_in_district\n",
              "1  A        38.5    51808                \n",
              "2  B        37.5    74705                \n",
              "3  C        36.9    70332                \n",
              "4  D        37.1    62082                \n",
              "5  E        38.1    46063                \n",
              "6  F        38.5    40231                \n",
              "7  G        40.3    62611                \n",
              "8  H        37.8    81614                \n",
              "9  I        38.5    74811                \n",
              "10 J        37.8    31689                "
            ]
          },
          "metadata": {}
        }
      ],
      "source": [
        "stops_2015 %>%\n",
        "    group_by(district) %>%\n",
        "    summarize(\n",
        "        avg_age = mean(age, na.rm=TRUE),\n",
        "        num_stops_in_district = n()\n",
        "    )"
      ]
    },
    {
      "cell_type": "markdown",
      "metadata": {
        "id": "4ORXyR1rmtN8"
      },
      "source": [
        "That's all there is to it!"
      ]
    },
    {
      "cell_type": "markdown",
      "metadata": {
        "tags": [],
        "id": "5sobFOxPmtN8"
      },
      "source": [
        "### 🚀 Exercise\n",
        "\n",
        "1. Use `group_by()` and `summarize()` to calculate, by district, (1) the number of stops, (2) the proportion of stops that resulted in a search, and (3) the proportion of **searches** (not stops) that resulted in an arrest. What can you conclude from the results?\n",
        "\n",
        "2. Redo part 1, but group by race instead of district. What do you conclude from the result?\n",
        "\n",
        "3. Redo part 1, but group by district **and** race. What is your interpretation of the results?"
      ]
    },
    {
      "cell_type": "code",
      "execution_count": 95,
      "metadata": {
        "id": "daCaSc-lmtN8",
        "outputId": "01563a92-8f43-4c1e-bfbe-45293852be7e",
        "colab": {
          "base_uri": "https://localhost:8080/",
          "height": 411
        }
      },
      "outputs": [
        {
          "output_type": "display_data",
          "data": {
            "text/html": [
              "<table class=\"dataframe\">\n",
              "<caption>A tibble: 10 × 2</caption>\n",
              "<thead>\n",
              "\t<tr><th scope=col>district</th><th scope=col>num_stops_in_dist</th></tr>\n",
              "\t<tr><th scope=col>&lt;chr&gt;</th><th scope=col>&lt;int&gt;</th></tr>\n",
              "</thead>\n",
              "<tbody>\n",
              "\t<tr><td>A</td><td>51808</td></tr>\n",
              "\t<tr><td>B</td><td>74705</td></tr>\n",
              "\t<tr><td>C</td><td>70332</td></tr>\n",
              "\t<tr><td>D</td><td>62082</td></tr>\n",
              "\t<tr><td>E</td><td>46063</td></tr>\n",
              "\t<tr><td>F</td><td>40231</td></tr>\n",
              "\t<tr><td>G</td><td>62611</td></tr>\n",
              "\t<tr><td>H</td><td>81614</td></tr>\n",
              "\t<tr><td>I</td><td>74811</td></tr>\n",
              "\t<tr><td>J</td><td>31689</td></tr>\n",
              "</tbody>\n",
              "</table>\n"
            ],
            "text/markdown": "\nA tibble: 10 × 2\n\n| district &lt;chr&gt; | num_stops_in_dist &lt;int&gt; |\n|---|---|\n| A | 51808 |\n| B | 74705 |\n| C | 70332 |\n| D | 62082 |\n| E | 46063 |\n| F | 40231 |\n| G | 62611 |\n| H | 81614 |\n| I | 74811 |\n| J | 31689 |\n\n",
            "text/latex": "A tibble: 10 × 2\n\\begin{tabular}{ll}\n district & num\\_stops\\_in\\_dist\\\\\n <chr> & <int>\\\\\n\\hline\n\t A & 51808\\\\\n\t B & 74705\\\\\n\t C & 70332\\\\\n\t D & 62082\\\\\n\t E & 46063\\\\\n\t F & 40231\\\\\n\t G & 62611\\\\\n\t H & 81614\\\\\n\t I & 74811\\\\\n\t J & 31689\\\\\n\\end{tabular}\n",
            "text/plain": [
              "   district num_stops_in_dist\n",
              "1  A        51808            \n",
              "2  B        74705            \n",
              "3  C        70332            \n",
              "4  D        62082            \n",
              "5  E        46063            \n",
              "6  F        40231            \n",
              "7  G        62611            \n",
              "8  H        81614            \n",
              "9  I        74811            \n",
              "10 J        31689            "
            ]
          },
          "metadata": {}
        }
      ],
      "source": [
        "# Your code here!\n",
        "# (1) number of stops by district\n",
        "stops_2015 %>%\n",
        "  group_by(district) %>%\n",
        "    summarize(\n",
        "      num_stops = n()\n",
        "    )"
      ]
    },
    {
      "cell_type": "code",
      "source": [
        "# (2) number of stops by district including proportion that resulted in search\n",
        "stops_2015 %>%\n",
        "  group_by(district) %>%\n",
        "    summarize(\n",
        "      num_stops_in_dist = n(),\n",
        "      num_searches = sum(searched, na.rm = TRUE),\n",
        "      prop_search = num_searches /num_stops_in_dist,\n",
        "\n",
        "    )\n"
      ],
      "metadata": {
        "id": "-wh1mlK3-6VE",
        "outputId": "29010caf-af9c-4170-edf5-196603b08deb",
        "colab": {
          "base_uri": "https://localhost:8080/",
          "height": 411
        }
      },
      "execution_count": 99,
      "outputs": [
        {
          "output_type": "display_data",
          "data": {
            "text/html": [
              "<table class=\"dataframe\">\n",
              "<caption>A tibble: 10 × 4</caption>\n",
              "<thead>\n",
              "\t<tr><th scope=col>district</th><th scope=col>num_stops_in_dist</th><th scope=col>num_searches</th><th scope=col>prop_stops_of_dist</th></tr>\n",
              "\t<tr><th scope=col>&lt;chr&gt;</th><th scope=col>&lt;int&gt;</th><th scope=col>&lt;int&gt;</th><th scope=col>&lt;dbl&gt;</th></tr>\n",
              "</thead>\n",
              "<tbody>\n",
              "\t<tr><td>A</td><td>51808</td><td>2106</td><td>0.0407</td></tr>\n",
              "\t<tr><td>B</td><td>74705</td><td>4079</td><td>0.0546</td></tr>\n",
              "\t<tr><td>C</td><td>70332</td><td>7939</td><td>0.1129</td></tr>\n",
              "\t<tr><td>D</td><td>62082</td><td>4417</td><td>0.0711</td></tr>\n",
              "\t<tr><td>E</td><td>46063</td><td>3088</td><td>0.0670</td></tr>\n",
              "\t<tr><td>F</td><td>40231</td><td>1212</td><td>0.0301</td></tr>\n",
              "\t<tr><td>G</td><td>62611</td><td>1353</td><td>0.0216</td></tr>\n",
              "\t<tr><td>H</td><td>81614</td><td>5143</td><td>0.0630</td></tr>\n",
              "\t<tr><td>I</td><td>74811</td><td>2211</td><td>0.0296</td></tr>\n",
              "\t<tr><td>J</td><td>31689</td><td>2787</td><td>0.0879</td></tr>\n",
              "</tbody>\n",
              "</table>\n"
            ],
            "text/markdown": "\nA tibble: 10 × 4\n\n| district &lt;chr&gt; | num_stops_in_dist &lt;int&gt; | num_searches &lt;int&gt; | prop_stops_of_dist &lt;dbl&gt; |\n|---|---|---|---|\n| A | 51808 | 2106 | 0.0407 |\n| B | 74705 | 4079 | 0.0546 |\n| C | 70332 | 7939 | 0.1129 |\n| D | 62082 | 4417 | 0.0711 |\n| E | 46063 | 3088 | 0.0670 |\n| F | 40231 | 1212 | 0.0301 |\n| G | 62611 | 1353 | 0.0216 |\n| H | 81614 | 5143 | 0.0630 |\n| I | 74811 | 2211 | 0.0296 |\n| J | 31689 | 2787 | 0.0879 |\n\n",
            "text/latex": "A tibble: 10 × 4\n\\begin{tabular}{llll}\n district & num\\_stops\\_in\\_dist & num\\_searches & prop\\_stops\\_of\\_dist\\\\\n <chr> & <int> & <int> & <dbl>\\\\\n\\hline\n\t A & 51808 & 2106 & 0.0407\\\\\n\t B & 74705 & 4079 & 0.0546\\\\\n\t C & 70332 & 7939 & 0.1129\\\\\n\t D & 62082 & 4417 & 0.0711\\\\\n\t E & 46063 & 3088 & 0.0670\\\\\n\t F & 40231 & 1212 & 0.0301\\\\\n\t G & 62611 & 1353 & 0.0216\\\\\n\t H & 81614 & 5143 & 0.0630\\\\\n\t I & 74811 & 2211 & 0.0296\\\\\n\t J & 31689 & 2787 & 0.0879\\\\\n\\end{tabular}\n",
            "text/plain": [
              "   district num_stops_in_dist num_searches prop_stops_of_dist\n",
              "1  A        51808             2106         0.0407            \n",
              "2  B        74705             4079         0.0546            \n",
              "3  C        70332             7939         0.1129            \n",
              "4  D        62082             4417         0.0711            \n",
              "5  E        46063             3088         0.0670            \n",
              "6  F        40231             1212         0.0301            \n",
              "7  G        62611             1353         0.0216            \n",
              "8  H        81614             5143         0.0630            \n",
              "9  I        74811             2211         0.0296            \n",
              "10 J        31689             2787         0.0879            "
            ]
          },
          "metadata": {}
        }
      ]
    },
    {
      "cell_type": "code",
      "source": [
        "# final after adding all three conditions to the table\n",
        "stops_2015 %>%\n",
        "  group_by(district) %>%\n",
        "    summarize(\n",
        "      num_stops_in_dist = n(),\n",
        "      num_searches = sum(searched, na.rm = TRUE),\n",
        "      prop_search_from_stop = num_searches /num_stops_in_dist,\n",
        "      num_arrests_search_arrest = sum(searched & arrested, na.rm = TRUE),\n",
        "      prop_search_arrest = num_arrests_search_arrest / num_searches\n",
        "    )"
      ],
      "metadata": {
        "id": "THhtR1OJBOut",
        "outputId": "3583adcd-04cd-4503-a949-2426f0a9250e",
        "colab": {
          "base_uri": "https://localhost:8080/",
          "height": 411
        }
      },
      "execution_count": 100,
      "outputs": [
        {
          "output_type": "display_data",
          "data": {
            "text/html": [
              "<table class=\"dataframe\">\n",
              "<caption>A tibble: 10 × 6</caption>\n",
              "<thead>\n",
              "\t<tr><th scope=col>district</th><th scope=col>num_stops_in_dist</th><th scope=col>num_searches</th><th scope=col>prop_search_from_stop</th><th scope=col>num_arrests_search_arrest</th><th scope=col>prop_search_arrest</th></tr>\n",
              "\t<tr><th scope=col>&lt;chr&gt;</th><th scope=col>&lt;int&gt;</th><th scope=col>&lt;int&gt;</th><th scope=col>&lt;dbl&gt;</th><th scope=col>&lt;int&gt;</th><th scope=col>&lt;dbl&gt;</th></tr>\n",
              "</thead>\n",
              "<tbody>\n",
              "\t<tr><td>A</td><td>51808</td><td>2106</td><td>0.0407</td><td>301</td><td>0.143</td></tr>\n",
              "\t<tr><td>B</td><td>74705</td><td>4079</td><td>0.0546</td><td>458</td><td>0.112</td></tr>\n",
              "\t<tr><td>C</td><td>70332</td><td>7939</td><td>0.1129</td><td>667</td><td>0.084</td></tr>\n",
              "\t<tr><td>D</td><td>62082</td><td>4417</td><td>0.0711</td><td>811</td><td>0.184</td></tr>\n",
              "\t<tr><td>E</td><td>46063</td><td>3088</td><td>0.0670</td><td>359</td><td>0.116</td></tr>\n",
              "\t<tr><td>F</td><td>40231</td><td>1212</td><td>0.0301</td><td>177</td><td>0.146</td></tr>\n",
              "\t<tr><td>G</td><td>62611</td><td>1353</td><td>0.0216</td><td>173</td><td>0.128</td></tr>\n",
              "\t<tr><td>H</td><td>81614</td><td>5143</td><td>0.0630</td><td>499</td><td>0.097</td></tr>\n",
              "\t<tr><td>I</td><td>74811</td><td>2211</td><td>0.0296</td><td>322</td><td>0.146</td></tr>\n",
              "\t<tr><td>J</td><td>31689</td><td>2787</td><td>0.0879</td><td>295</td><td>0.106</td></tr>\n",
              "</tbody>\n",
              "</table>\n"
            ],
            "text/markdown": "\nA tibble: 10 × 6\n\n| district &lt;chr&gt; | num_stops_in_dist &lt;int&gt; | num_searches &lt;int&gt; | prop_search_from_stop &lt;dbl&gt; | num_arrests_search_arrest &lt;int&gt; | prop_search_arrest &lt;dbl&gt; |\n|---|---|---|---|---|---|\n| A | 51808 | 2106 | 0.0407 | 301 | 0.143 |\n| B | 74705 | 4079 | 0.0546 | 458 | 0.112 |\n| C | 70332 | 7939 | 0.1129 | 667 | 0.084 |\n| D | 62082 | 4417 | 0.0711 | 811 | 0.184 |\n| E | 46063 | 3088 | 0.0670 | 359 | 0.116 |\n| F | 40231 | 1212 | 0.0301 | 177 | 0.146 |\n| G | 62611 | 1353 | 0.0216 | 173 | 0.128 |\n| H | 81614 | 5143 | 0.0630 | 499 | 0.097 |\n| I | 74811 | 2211 | 0.0296 | 322 | 0.146 |\n| J | 31689 | 2787 | 0.0879 | 295 | 0.106 |\n\n",
            "text/latex": "A tibble: 10 × 6\n\\begin{tabular}{llllll}\n district & num\\_stops\\_in\\_dist & num\\_searches & prop\\_search\\_from\\_stop & num\\_arrests\\_search\\_arrest & prop\\_search\\_arrest\\\\\n <chr> & <int> & <int> & <dbl> & <int> & <dbl>\\\\\n\\hline\n\t A & 51808 & 2106 & 0.0407 & 301 & 0.143\\\\\n\t B & 74705 & 4079 & 0.0546 & 458 & 0.112\\\\\n\t C & 70332 & 7939 & 0.1129 & 667 & 0.084\\\\\n\t D & 62082 & 4417 & 0.0711 & 811 & 0.184\\\\\n\t E & 46063 & 3088 & 0.0670 & 359 & 0.116\\\\\n\t F & 40231 & 1212 & 0.0301 & 177 & 0.146\\\\\n\t G & 62611 & 1353 & 0.0216 & 173 & 0.128\\\\\n\t H & 81614 & 5143 & 0.0630 & 499 & 0.097\\\\\n\t I & 74811 & 2211 & 0.0296 & 322 & 0.146\\\\\n\t J & 31689 & 2787 & 0.0879 & 295 & 0.106\\\\\n\\end{tabular}\n",
            "text/plain": [
              "   district num_stops_in_dist num_searches prop_search_from_stop\n",
              "1  A        51808             2106         0.0407               \n",
              "2  B        74705             4079         0.0546               \n",
              "3  C        70332             7939         0.1129               \n",
              "4  D        62082             4417         0.0711               \n",
              "5  E        46063             3088         0.0670               \n",
              "6  F        40231             1212         0.0301               \n",
              "7  G        62611             1353         0.0216               \n",
              "8  H        81614             5143         0.0630               \n",
              "9  I        74811             2211         0.0296               \n",
              "10 J        31689             2787         0.0879               \n",
              "   num_arrests_search_arrest prop_search_arrest\n",
              "1  301                       0.143             \n",
              "2  458                       0.112             \n",
              "3  667                       0.084             \n",
              "4  811                       0.184             \n",
              "5  359                       0.116             \n",
              "6  177                       0.146             \n",
              "7  173                       0.128             \n",
              "8  499                       0.097             \n",
              "9  322                       0.146             \n",
              "10 295                       0.106             "
            ]
          },
          "metadata": {}
        }
      ]
    },
    {
      "cell_type": "code",
      "source": [
        "# 2. grouping by race\n",
        "stops_2015 %>%\n",
        "  group_by(race) %>%\n",
        "    summarize(\n",
        "      num_stops_in_dist = n(),\n",
        "      num_searches = sum(searched, na.rm = TRUE),\n",
        "      prop_search_from_stop = num_searches /num_stops_in_dist,\n",
        "      num_arrests_search_arrest = sum(searched & arrested, na.rm = TRUE),\n",
        "      prop_search_arrest = num_arrests_search_arrest / num_searches\n",
        "    )"
      ],
      "metadata": {
        "id": "b6ok96nMCTqm",
        "outputId": "c637fbe7-1ae0-4e26-a961-2b4386e14037",
        "colab": {
          "base_uri": "https://localhost:8080/",
          "height": 255
        }
      },
      "execution_count": 101,
      "outputs": [
        {
          "output_type": "display_data",
          "data": {
            "text/html": [
              "<table class=\"dataframe\">\n",
              "<caption>A tibble: 5 × 6</caption>\n",
              "<thead>\n",
              "\t<tr><th scope=col>race</th><th scope=col>num_stops_in_dist</th><th scope=col>num_searches</th><th scope=col>prop_search_from_stop</th><th scope=col>num_arrests_search_arrest</th><th scope=col>prop_search_arrest</th></tr>\n",
              "\t<tr><th scope=col>&lt;chr&gt;</th><th scope=col>&lt;int&gt;</th><th scope=col>&lt;int&gt;</th><th scope=col>&lt;dbl&gt;</th><th scope=col>&lt;int&gt;</th><th scope=col>&lt;dbl&gt;</th></tr>\n",
              "</thead>\n",
              "<tbody>\n",
              "\t<tr><td>asian/pacific islander</td><td>104089</td><td> 1803</td><td>0.0173</td><td> 284</td><td>0.1575</td></tr>\n",
              "\t<tr><td>black                 </td><td> 99008</td><td>15892</td><td>0.1605</td><td>1549</td><td>0.0975</td></tr>\n",
              "\t<tr><td>hispanic              </td><td> 76765</td><td> 7049</td><td>0.0918</td><td> 775</td><td>0.1099</td></tr>\n",
              "\t<tr><td>other                 </td><td> 70711</td><td> 2326</td><td>0.0329</td><td> 293</td><td>0.1260</td></tr>\n",
              "\t<tr><td>white                 </td><td>245373</td><td> 7265</td><td>0.0296</td><td>1161</td><td>0.1598</td></tr>\n",
              "</tbody>\n",
              "</table>\n"
            ],
            "text/markdown": "\nA tibble: 5 × 6\n\n| race &lt;chr&gt; | num_stops_in_dist &lt;int&gt; | num_searches &lt;int&gt; | prop_search_from_stop &lt;dbl&gt; | num_arrests_search_arrest &lt;int&gt; | prop_search_arrest &lt;dbl&gt; |\n|---|---|---|---|---|---|\n| asian/pacific islander | 104089 |  1803 | 0.0173 |  284 | 0.1575 |\n| black                  |  99008 | 15892 | 0.1605 | 1549 | 0.0975 |\n| hispanic               |  76765 |  7049 | 0.0918 |  775 | 0.1099 |\n| other                  |  70711 |  2326 | 0.0329 |  293 | 0.1260 |\n| white                  | 245373 |  7265 | 0.0296 | 1161 | 0.1598 |\n\n",
            "text/latex": "A tibble: 5 × 6\n\\begin{tabular}{llllll}\n race & num\\_stops\\_in\\_dist & num\\_searches & prop\\_search\\_from\\_stop & num\\_arrests\\_search\\_arrest & prop\\_search\\_arrest\\\\\n <chr> & <int> & <int> & <dbl> & <int> & <dbl>\\\\\n\\hline\n\t asian/pacific islander & 104089 &  1803 & 0.0173 &  284 & 0.1575\\\\\n\t black                  &  99008 & 15892 & 0.1605 & 1549 & 0.0975\\\\\n\t hispanic               &  76765 &  7049 & 0.0918 &  775 & 0.1099\\\\\n\t other                  &  70711 &  2326 & 0.0329 &  293 & 0.1260\\\\\n\t white                  & 245373 &  7265 & 0.0296 & 1161 & 0.1598\\\\\n\\end{tabular}\n",
            "text/plain": [
              "  race                   num_stops_in_dist num_searches prop_search_from_stop\n",
              "1 asian/pacific islander 104089             1803        0.0173               \n",
              "2 black                   99008            15892        0.1605               \n",
              "3 hispanic                76765             7049        0.0918               \n",
              "4 other                   70711             2326        0.0329               \n",
              "5 white                  245373             7265        0.0296               \n",
              "  num_arrests_search_arrest prop_search_arrest\n",
              "1  284                      0.1575            \n",
              "2 1549                      0.0975            \n",
              "3  775                      0.1099            \n",
              "4  293                      0.1260            \n",
              "5 1161                      0.1598            "
            ]
          },
          "metadata": {}
        }
      ]
    },
    {
      "cell_type": "code",
      "source": [
        "# 3. grouping by district and race\n",
        "stops_2015 %>%\n",
        "  group_by(district, race) %>%\n",
        "    summarize(\n",
        "      num_stops_in_dist = n(),\n",
        "      num_searches = sum(searched, na.rm = TRUE),\n",
        "      prop_search_from_stop = num_searches /num_stops_in_dist,\n",
        "      num_arrests_search_arrest = sum(searched & arrested, na.rm = TRUE),\n",
        "      prop_search_arrest = num_arrests_search_arrest / num_searches\n",
        "    )"
      ],
      "metadata": {
        "id": "z71XCKMhCcDj",
        "outputId": "5c05bda7-a231-449f-f232-8d59b5e34abe",
        "colab": {
          "base_uri": "https://localhost:8080/",
          "height": 1000
        }
      },
      "execution_count": 103,
      "outputs": [
        {
          "output_type": "stream",
          "name": "stderr",
          "text": [
            "\u001b[1m\u001b[22m`summarise()` has grouped output by 'district'. You can override using the\n",
            "`.groups` argument.\n"
          ]
        },
        {
          "output_type": "display_data",
          "data": {
            "text/html": [
              "<table class=\"dataframe\">\n",
              "<caption>A grouped_df: 50 × 7</caption>\n",
              "<thead>\n",
              "\t<tr><th scope=col>district</th><th scope=col>race</th><th scope=col>num_stops_in_dist</th><th scope=col>num_searches</th><th scope=col>prop_search_from_stop</th><th scope=col>num_arrests_search_arrest</th><th scope=col>prop_search_arrest</th></tr>\n",
              "\t<tr><th scope=col>&lt;chr&gt;</th><th scope=col>&lt;chr&gt;</th><th scope=col>&lt;int&gt;</th><th scope=col>&lt;int&gt;</th><th scope=col>&lt;dbl&gt;</th><th scope=col>&lt;int&gt;</th><th scope=col>&lt;dbl&gt;</th></tr>\n",
              "</thead>\n",
              "<tbody>\n",
              "\t<tr><td>A</td><td>asian/pacific islander</td><td> 8947</td><td> 172</td><td>0.0192</td><td> 30</td><td>0.1744</td></tr>\n",
              "\t<tr><td>A</td><td>black                 </td><td> 5396</td><td> 620</td><td>0.1149</td><td> 72</td><td>0.1161</td></tr>\n",
              "\t<tr><td>A</td><td>hispanic              </td><td> 4228</td><td> 373</td><td>0.0882</td><td> 36</td><td>0.0965</td></tr>\n",
              "\t<tr><td>A</td><td>other                 </td><td>10743</td><td> 279</td><td>0.0260</td><td> 45</td><td>0.1613</td></tr>\n",
              "\t<tr><td>A</td><td>white                 </td><td>22494</td><td> 662</td><td>0.0294</td><td>118</td><td>0.1782</td></tr>\n",
              "\t<tr><td>B</td><td>asian/pacific islander</td><td> 9851</td><td> 196</td><td>0.0199</td><td> 25</td><td>0.1276</td></tr>\n",
              "\t<tr><td>B</td><td>black                 </td><td>11042</td><td>1732</td><td>0.1569</td><td>182</td><td>0.1051</td></tr>\n",
              "\t<tr><td>B</td><td>hispanic              </td><td> 8507</td><td> 761</td><td>0.0895</td><td> 56</td><td>0.0736</td></tr>\n",
              "\t<tr><td>B</td><td>other                 </td><td>10452</td><td> 330</td><td>0.0316</td><td> 38</td><td>0.1152</td></tr>\n",
              "\t<tr><td>B</td><td>white                 </td><td>34853</td><td>1060</td><td>0.0304</td><td>157</td><td>0.1481</td></tr>\n",
              "\t<tr><td>C</td><td>asian/pacific islander</td><td> 8311</td><td> 173</td><td>0.0208</td><td> 21</td><td>0.1214</td></tr>\n",
              "\t<tr><td>C</td><td>black                 </td><td>33547</td><td>5787</td><td>0.1725</td><td>462</td><td>0.0798</td></tr>\n",
              "\t<tr><td>C</td><td>hispanic              </td><td>10687</td><td>1007</td><td>0.0942</td><td> 84</td><td>0.0834</td></tr>\n",
              "\t<tr><td>C</td><td>other                 </td><td> 4912</td><td> 354</td><td>0.0721</td><td> 24</td><td>0.0678</td></tr>\n",
              "\t<tr><td>C</td><td>white                 </td><td>12875</td><td> 618</td><td>0.0480</td><td> 76</td><td>0.1230</td></tr>\n",
              "\t<tr><td>D</td><td>asian/pacific islander</td><td> 4958</td><td> 115</td><td>0.0232</td><td> 32</td><td>0.2783</td></tr>\n",
              "\t<tr><td>D</td><td>black                 </td><td> 8751</td><td>1600</td><td>0.1828</td><td>224</td><td>0.1400</td></tr>\n",
              "\t<tr><td>D</td><td>hispanic              </td><td>13982</td><td>1566</td><td>0.1120</td><td>277</td><td>0.1769</td></tr>\n",
              "\t<tr><td>D</td><td>other                 </td><td> 5382</td><td> 199</td><td>0.0370</td><td> 51</td><td>0.2563</td></tr>\n",
              "\t<tr><td>D</td><td>white                 </td><td>29009</td><td> 937</td><td>0.0323</td><td>227</td><td>0.2423</td></tr>\n",
              "\t<tr><td>E</td><td>asian/pacific islander</td><td> 5845</td><td> 128</td><td>0.0219</td><td> 27</td><td>0.2109</td></tr>\n",
              "\t<tr><td>E</td><td>black                 </td><td> 7993</td><td>1449</td><td>0.1813</td><td>134</td><td>0.0925</td></tr>\n",
              "\t<tr><td>E</td><td>hispanic              </td><td> 3827</td><td> 449</td><td>0.1173</td><td> 42</td><td>0.0935</td></tr>\n",
              "\t<tr><td>E</td><td>other                 </td><td> 5193</td><td> 208</td><td>0.0401</td><td> 27</td><td>0.1298</td></tr>\n",
              "\t<tr><td>E</td><td>white                 </td><td>23205</td><td> 854</td><td>0.0368</td><td>129</td><td>0.1511</td></tr>\n",
              "\t<tr><td>F</td><td>asian/pacific islander</td><td> 5486</td><td>  73</td><td>0.0133</td><td> 10</td><td>0.1370</td></tr>\n",
              "\t<tr><td>F</td><td>black                 </td><td> 4228</td><td> 413</td><td>0.0977</td><td> 42</td><td>0.1017</td></tr>\n",
              "\t<tr><td>F</td><td>hispanic              </td><td> 2931</td><td> 155</td><td>0.0529</td><td> 24</td><td>0.1548</td></tr>\n",
              "\t<tr><td>F</td><td>other                 </td><td> 3835</td><td>  82</td><td>0.0214</td><td>  7</td><td>0.0854</td></tr>\n",
              "\t<tr><td>F</td><td>white                 </td><td>23751</td><td> 489</td><td>0.0206</td><td> 94</td><td>0.1922</td></tr>\n",
              "\t<tr><td>G</td><td>asian/pacific islander</td><td>14789</td><td> 207</td><td>0.0140</td><td> 29</td><td>0.1401</td></tr>\n",
              "\t<tr><td>G</td><td>black                 </td><td> 3088</td><td> 260</td><td>0.0842</td><td> 29</td><td>0.1115</td></tr>\n",
              "\t<tr><td>G</td><td>hispanic              </td><td> 3128</td><td> 172</td><td>0.0550</td><td> 28</td><td>0.1628</td></tr>\n",
              "\t<tr><td>G</td><td>other                 </td><td> 9957</td><td> 112</td><td>0.0112</td><td>  8</td><td>0.0714</td></tr>\n",
              "\t<tr><td>G</td><td>white                 </td><td>31649</td><td> 602</td><td>0.0190</td><td> 79</td><td>0.1312</td></tr>\n",
              "\t<tr><td>H</td><td>asian/pacific islander</td><td>16067</td><td> 315</td><td>0.0196</td><td> 47</td><td>0.1492</td></tr>\n",
              "\t<tr><td>H</td><td>black                 </td><td>11148</td><td>1602</td><td>0.1437</td><td>144</td><td>0.0899</td></tr>\n",
              "\t<tr><td>H</td><td>hispanic              </td><td>21276</td><td>1966</td><td>0.0924</td><td>167</td><td>0.0849</td></tr>\n",
              "\t<tr><td>H</td><td>other                 </td><td> 8070</td><td> 378</td><td>0.0468</td><td> 38</td><td>0.1005</td></tr>\n",
              "\t<tr><td>H</td><td>white                 </td><td>25053</td><td> 882</td><td>0.0352</td><td>103</td><td>0.1168</td></tr>\n",
              "\t<tr><td>I</td><td>asian/pacific islander</td><td>25616</td><td> 304</td><td>0.0119</td><td> 49</td><td>0.1612</td></tr>\n",
              "\t<tr><td>I</td><td>black                 </td><td> 5338</td><td> 669</td><td>0.1253</td><td> 89</td><td>0.1330</td></tr>\n",
              "\t<tr><td>I</td><td>hispanic              </td><td> 5333</td><td> 311</td><td>0.0583</td><td> 32</td><td>0.1029</td></tr>\n",
              "\t<tr><td>I</td><td>other                 </td><td> 7755</td><td> 214</td><td>0.0276</td><td> 36</td><td>0.1682</td></tr>\n",
              "\t<tr><td>I</td><td>white                 </td><td>30769</td><td> 713</td><td>0.0232</td><td>116</td><td>0.1627</td></tr>\n",
              "\t<tr><td>J</td><td>asian/pacific islander</td><td> 4219</td><td> 120</td><td>0.0284</td><td> 14</td><td>0.1167</td></tr>\n",
              "\t<tr><td>J</td><td>black                 </td><td> 8477</td><td>1760</td><td>0.2076</td><td>171</td><td>0.0972</td></tr>\n",
              "\t<tr><td>J</td><td>hispanic              </td><td> 2866</td><td> 289</td><td>0.1008</td><td> 29</td><td>0.1003</td></tr>\n",
              "\t<tr><td>J</td><td>other                 </td><td> 4412</td><td> 170</td><td>0.0385</td><td> 19</td><td>0.1118</td></tr>\n",
              "\t<tr><td>J</td><td>white                 </td><td>11715</td><td> 448</td><td>0.0382</td><td> 62</td><td>0.1384</td></tr>\n",
              "</tbody>\n",
              "</table>\n"
            ],
            "text/markdown": "\nA grouped_df: 50 × 7\n\n| district &lt;chr&gt; | race &lt;chr&gt; | num_stops_in_dist &lt;int&gt; | num_searches &lt;int&gt; | prop_search_from_stop &lt;dbl&gt; | num_arrests_search_arrest &lt;int&gt; | prop_search_arrest &lt;dbl&gt; |\n|---|---|---|---|---|---|---|\n| A | asian/pacific islander |  8947 |  172 | 0.0192 |  30 | 0.1744 |\n| A | black                  |  5396 |  620 | 0.1149 |  72 | 0.1161 |\n| A | hispanic               |  4228 |  373 | 0.0882 |  36 | 0.0965 |\n| A | other                  | 10743 |  279 | 0.0260 |  45 | 0.1613 |\n| A | white                  | 22494 |  662 | 0.0294 | 118 | 0.1782 |\n| B | asian/pacific islander |  9851 |  196 | 0.0199 |  25 | 0.1276 |\n| B | black                  | 11042 | 1732 | 0.1569 | 182 | 0.1051 |\n| B | hispanic               |  8507 |  761 | 0.0895 |  56 | 0.0736 |\n| B | other                  | 10452 |  330 | 0.0316 |  38 | 0.1152 |\n| B | white                  | 34853 | 1060 | 0.0304 | 157 | 0.1481 |\n| C | asian/pacific islander |  8311 |  173 | 0.0208 |  21 | 0.1214 |\n| C | black                  | 33547 | 5787 | 0.1725 | 462 | 0.0798 |\n| C | hispanic               | 10687 | 1007 | 0.0942 |  84 | 0.0834 |\n| C | other                  |  4912 |  354 | 0.0721 |  24 | 0.0678 |\n| C | white                  | 12875 |  618 | 0.0480 |  76 | 0.1230 |\n| D | asian/pacific islander |  4958 |  115 | 0.0232 |  32 | 0.2783 |\n| D | black                  |  8751 | 1600 | 0.1828 | 224 | 0.1400 |\n| D | hispanic               | 13982 | 1566 | 0.1120 | 277 | 0.1769 |\n| D | other                  |  5382 |  199 | 0.0370 |  51 | 0.2563 |\n| D | white                  | 29009 |  937 | 0.0323 | 227 | 0.2423 |\n| E | asian/pacific islander |  5845 |  128 | 0.0219 |  27 | 0.2109 |\n| E | black                  |  7993 | 1449 | 0.1813 | 134 | 0.0925 |\n| E | hispanic               |  3827 |  449 | 0.1173 |  42 | 0.0935 |\n| E | other                  |  5193 |  208 | 0.0401 |  27 | 0.1298 |\n| E | white                  | 23205 |  854 | 0.0368 | 129 | 0.1511 |\n| F | asian/pacific islander |  5486 |   73 | 0.0133 |  10 | 0.1370 |\n| F | black                  |  4228 |  413 | 0.0977 |  42 | 0.1017 |\n| F | hispanic               |  2931 |  155 | 0.0529 |  24 | 0.1548 |\n| F | other                  |  3835 |   82 | 0.0214 |   7 | 0.0854 |\n| F | white                  | 23751 |  489 | 0.0206 |  94 | 0.1922 |\n| G | asian/pacific islander | 14789 |  207 | 0.0140 |  29 | 0.1401 |\n| G | black                  |  3088 |  260 | 0.0842 |  29 | 0.1115 |\n| G | hispanic               |  3128 |  172 | 0.0550 |  28 | 0.1628 |\n| G | other                  |  9957 |  112 | 0.0112 |   8 | 0.0714 |\n| G | white                  | 31649 |  602 | 0.0190 |  79 | 0.1312 |\n| H | asian/pacific islander | 16067 |  315 | 0.0196 |  47 | 0.1492 |\n| H | black                  | 11148 | 1602 | 0.1437 | 144 | 0.0899 |\n| H | hispanic               | 21276 | 1966 | 0.0924 | 167 | 0.0849 |\n| H | other                  |  8070 |  378 | 0.0468 |  38 | 0.1005 |\n| H | white                  | 25053 |  882 | 0.0352 | 103 | 0.1168 |\n| I | asian/pacific islander | 25616 |  304 | 0.0119 |  49 | 0.1612 |\n| I | black                  |  5338 |  669 | 0.1253 |  89 | 0.1330 |\n| I | hispanic               |  5333 |  311 | 0.0583 |  32 | 0.1029 |\n| I | other                  |  7755 |  214 | 0.0276 |  36 | 0.1682 |\n| I | white                  | 30769 |  713 | 0.0232 | 116 | 0.1627 |\n| J | asian/pacific islander |  4219 |  120 | 0.0284 |  14 | 0.1167 |\n| J | black                  |  8477 | 1760 | 0.2076 | 171 | 0.0972 |\n| J | hispanic               |  2866 |  289 | 0.1008 |  29 | 0.1003 |\n| J | other                  |  4412 |  170 | 0.0385 |  19 | 0.1118 |\n| J | white                  | 11715 |  448 | 0.0382 |  62 | 0.1384 |\n\n",
            "text/latex": "A grouped\\_df: 50 × 7\n\\begin{tabular}{lllllll}\n district & race & num\\_stops\\_in\\_dist & num\\_searches & prop\\_search\\_from\\_stop & num\\_arrests\\_search\\_arrest & prop\\_search\\_arrest\\\\\n <chr> & <chr> & <int> & <int> & <dbl> & <int> & <dbl>\\\\\n\\hline\n\t A & asian/pacific islander &  8947 &  172 & 0.0192 &  30 & 0.1744\\\\\n\t A & black                  &  5396 &  620 & 0.1149 &  72 & 0.1161\\\\\n\t A & hispanic               &  4228 &  373 & 0.0882 &  36 & 0.0965\\\\\n\t A & other                  & 10743 &  279 & 0.0260 &  45 & 0.1613\\\\\n\t A & white                  & 22494 &  662 & 0.0294 & 118 & 0.1782\\\\\n\t B & asian/pacific islander &  9851 &  196 & 0.0199 &  25 & 0.1276\\\\\n\t B & black                  & 11042 & 1732 & 0.1569 & 182 & 0.1051\\\\\n\t B & hispanic               &  8507 &  761 & 0.0895 &  56 & 0.0736\\\\\n\t B & other                  & 10452 &  330 & 0.0316 &  38 & 0.1152\\\\\n\t B & white                  & 34853 & 1060 & 0.0304 & 157 & 0.1481\\\\\n\t C & asian/pacific islander &  8311 &  173 & 0.0208 &  21 & 0.1214\\\\\n\t C & black                  & 33547 & 5787 & 0.1725 & 462 & 0.0798\\\\\n\t C & hispanic               & 10687 & 1007 & 0.0942 &  84 & 0.0834\\\\\n\t C & other                  &  4912 &  354 & 0.0721 &  24 & 0.0678\\\\\n\t C & white                  & 12875 &  618 & 0.0480 &  76 & 0.1230\\\\\n\t D & asian/pacific islander &  4958 &  115 & 0.0232 &  32 & 0.2783\\\\\n\t D & black                  &  8751 & 1600 & 0.1828 & 224 & 0.1400\\\\\n\t D & hispanic               & 13982 & 1566 & 0.1120 & 277 & 0.1769\\\\\n\t D & other                  &  5382 &  199 & 0.0370 &  51 & 0.2563\\\\\n\t D & white                  & 29009 &  937 & 0.0323 & 227 & 0.2423\\\\\n\t E & asian/pacific islander &  5845 &  128 & 0.0219 &  27 & 0.2109\\\\\n\t E & black                  &  7993 & 1449 & 0.1813 & 134 & 0.0925\\\\\n\t E & hispanic               &  3827 &  449 & 0.1173 &  42 & 0.0935\\\\\n\t E & other                  &  5193 &  208 & 0.0401 &  27 & 0.1298\\\\\n\t E & white                  & 23205 &  854 & 0.0368 & 129 & 0.1511\\\\\n\t F & asian/pacific islander &  5486 &   73 & 0.0133 &  10 & 0.1370\\\\\n\t F & black                  &  4228 &  413 & 0.0977 &  42 & 0.1017\\\\\n\t F & hispanic               &  2931 &  155 & 0.0529 &  24 & 0.1548\\\\\n\t F & other                  &  3835 &   82 & 0.0214 &   7 & 0.0854\\\\\n\t F & white                  & 23751 &  489 & 0.0206 &  94 & 0.1922\\\\\n\t G & asian/pacific islander & 14789 &  207 & 0.0140 &  29 & 0.1401\\\\\n\t G & black                  &  3088 &  260 & 0.0842 &  29 & 0.1115\\\\\n\t G & hispanic               &  3128 &  172 & 0.0550 &  28 & 0.1628\\\\\n\t G & other                  &  9957 &  112 & 0.0112 &   8 & 0.0714\\\\\n\t G & white                  & 31649 &  602 & 0.0190 &  79 & 0.1312\\\\\n\t H & asian/pacific islander & 16067 &  315 & 0.0196 &  47 & 0.1492\\\\\n\t H & black                  & 11148 & 1602 & 0.1437 & 144 & 0.0899\\\\\n\t H & hispanic               & 21276 & 1966 & 0.0924 & 167 & 0.0849\\\\\n\t H & other                  &  8070 &  378 & 0.0468 &  38 & 0.1005\\\\\n\t H & white                  & 25053 &  882 & 0.0352 & 103 & 0.1168\\\\\n\t I & asian/pacific islander & 25616 &  304 & 0.0119 &  49 & 0.1612\\\\\n\t I & black                  &  5338 &  669 & 0.1253 &  89 & 0.1330\\\\\n\t I & hispanic               &  5333 &  311 & 0.0583 &  32 & 0.1029\\\\\n\t I & other                  &  7755 &  214 & 0.0276 &  36 & 0.1682\\\\\n\t I & white                  & 30769 &  713 & 0.0232 & 116 & 0.1627\\\\\n\t J & asian/pacific islander &  4219 &  120 & 0.0284 &  14 & 0.1167\\\\\n\t J & black                  &  8477 & 1760 & 0.2076 & 171 & 0.0972\\\\\n\t J & hispanic               &  2866 &  289 & 0.1008 &  29 & 0.1003\\\\\n\t J & other                  &  4412 &  170 & 0.0385 &  19 & 0.1118\\\\\n\t J & white                  & 11715 &  448 & 0.0382 &  62 & 0.1384\\\\\n\\end{tabular}\n",
            "text/plain": [
              "   district race                   num_stops_in_dist num_searches\n",
              "1  A        asian/pacific islander  8947              172        \n",
              "2  A        black                   5396              620        \n",
              "3  A        hispanic                4228              373        \n",
              "4  A        other                  10743              279        \n",
              "5  A        white                  22494              662        \n",
              "6  B        asian/pacific islander  9851              196        \n",
              "7  B        black                  11042             1732        \n",
              "8  B        hispanic                8507              761        \n",
              "9  B        other                  10452              330        \n",
              "10 B        white                  34853             1060        \n",
              "11 C        asian/pacific islander  8311              173        \n",
              "12 C        black                  33547             5787        \n",
              "13 C        hispanic               10687             1007        \n",
              "14 C        other                   4912              354        \n",
              "15 C        white                  12875              618        \n",
              "16 D        asian/pacific islander  4958              115        \n",
              "17 D        black                   8751             1600        \n",
              "18 D        hispanic               13982             1566        \n",
              "19 D        other                   5382              199        \n",
              "20 D        white                  29009              937        \n",
              "21 E        asian/pacific islander  5845              128        \n",
              "22 E        black                   7993             1449        \n",
              "23 E        hispanic                3827              449        \n",
              "24 E        other                   5193              208        \n",
              "25 E        white                  23205              854        \n",
              "26 F        asian/pacific islander  5486               73        \n",
              "27 F        black                   4228              413        \n",
              "28 F        hispanic                2931              155        \n",
              "29 F        other                   3835               82        \n",
              "30 F        white                  23751              489        \n",
              "31 G        asian/pacific islander 14789              207        \n",
              "32 G        black                   3088              260        \n",
              "33 G        hispanic                3128              172        \n",
              "34 G        other                   9957              112        \n",
              "35 G        white                  31649              602        \n",
              "36 H        asian/pacific islander 16067              315        \n",
              "37 H        black                  11148             1602        \n",
              "38 H        hispanic               21276             1966        \n",
              "39 H        other                   8070              378        \n",
              "40 H        white                  25053              882        \n",
              "41 I        asian/pacific islander 25616              304        \n",
              "42 I        black                   5338              669        \n",
              "43 I        hispanic                5333              311        \n",
              "44 I        other                   7755              214        \n",
              "45 I        white                  30769              713        \n",
              "46 J        asian/pacific islander  4219              120        \n",
              "47 J        black                   8477             1760        \n",
              "48 J        hispanic                2866              289        \n",
              "49 J        other                   4412              170        \n",
              "50 J        white                  11715              448        \n",
              "   prop_search_from_stop num_arrests_search_arrest prop_search_arrest\n",
              "1  0.0192                 30                       0.1744            \n",
              "2  0.1149                 72                       0.1161            \n",
              "3  0.0882                 36                       0.0965            \n",
              "4  0.0260                 45                       0.1613            \n",
              "5  0.0294                118                       0.1782            \n",
              "6  0.0199                 25                       0.1276            \n",
              "7  0.1569                182                       0.1051            \n",
              "8  0.0895                 56                       0.0736            \n",
              "9  0.0316                 38                       0.1152            \n",
              "10 0.0304                157                       0.1481            \n",
              "11 0.0208                 21                       0.1214            \n",
              "12 0.1725                462                       0.0798            \n",
              "13 0.0942                 84                       0.0834            \n",
              "14 0.0721                 24                       0.0678            \n",
              "15 0.0480                 76                       0.1230            \n",
              "16 0.0232                 32                       0.2783            \n",
              "17 0.1828                224                       0.1400            \n",
              "18 0.1120                277                       0.1769            \n",
              "19 0.0370                 51                       0.2563            \n",
              "20 0.0323                227                       0.2423            \n",
              "21 0.0219                 27                       0.2109            \n",
              "22 0.1813                134                       0.0925            \n",
              "23 0.1173                 42                       0.0935            \n",
              "24 0.0401                 27                       0.1298            \n",
              "25 0.0368                129                       0.1511            \n",
              "26 0.0133                 10                       0.1370            \n",
              "27 0.0977                 42                       0.1017            \n",
              "28 0.0529                 24                       0.1548            \n",
              "29 0.0214                  7                       0.0854            \n",
              "30 0.0206                 94                       0.1922            \n",
              "31 0.0140                 29                       0.1401            \n",
              "32 0.0842                 29                       0.1115            \n",
              "33 0.0550                 28                       0.1628            \n",
              "34 0.0112                  8                       0.0714            \n",
              "35 0.0190                 79                       0.1312            \n",
              "36 0.0196                 47                       0.1492            \n",
              "37 0.1437                144                       0.0899            \n",
              "38 0.0924                167                       0.0849            \n",
              "39 0.0468                 38                       0.1005            \n",
              "40 0.0352                103                       0.1168            \n",
              "41 0.0119                 49                       0.1612            \n",
              "42 0.1253                 89                       0.1330            \n",
              "43 0.0583                 32                       0.1029            \n",
              "44 0.0276                 36                       0.1682            \n",
              "45 0.0232                116                       0.1627            \n",
              "46 0.0284                 14                       0.1167            \n",
              "47 0.2076                171                       0.0972            \n",
              "48 0.1008                 29                       0.1003            \n",
              "49 0.0385                 19                       0.1118            \n",
              "50 0.0382                 62                       0.1384            "
            ]
          },
          "metadata": {}
        }
      ]
    },
    {
      "cell_type": "markdown",
      "metadata": {
        "id": "4ZhDCy8rmtN8"
      },
      "source": [
        "## Concluding remarks"
      ]
    },
    {
      "cell_type": "markdown",
      "metadata": {
        "id": "DreZ77oFmtN8"
      },
      "source": [
        "The method used in the final exercise is called an **outcome test**. Someone actually won a Nobel Prize for this kind of work!\n",
        "\n",
        "Here's what we'll do in the rest of the tutorial:\n",
        "- Use 📊plots📈 to reduce the cognitive burden of reading long tables.\n",
        "- Learn how to combine data from multiple sources\n",
        "- Dig deeper into our results. Can we say anything about racial/ethnic discrimination based on our results? What additional tests can we conduct? How can we clearly present our findings?\n"
      ]
    }
  ],
  "metadata": {
    "kernelspec": {
      "display_name": "R",
      "language": "R",
      "name": "ir"
    },
    "language_info": {
      "codemirror_mode": "r",
      "file_extension": ".r",
      "mimetype": "text/x-r-source",
      "name": "R",
      "pygments_lexer": "r",
      "version": "4.2.1"
    },
    "colab": {
      "provenance": []
    }
  },
  "nbformat": 4,
  "nbformat_minor": 0
}